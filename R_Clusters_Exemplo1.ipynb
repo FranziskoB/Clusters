{
  "cells": [
    {
      "cell_type": "markdown",
      "metadata": {
        "id": "view-in-github",
        "colab_type": "text"
      },
      "source": [
        "<a href=\"https://colab.research.google.com/github/FranziskoB/Clusters/blob/main/R_Clusters_Exemplo1.ipynb\" target=\"_parent\"><img src=\"https://colab.research.google.com/assets/colab-badge.svg\" alt=\"Open In Colab\"/></a>"
      ]
    },
    {
      "cell_type": "markdown",
      "source": [
        "##Importando bibliotecas"
      ],
      "metadata": {
        "id": "UV5-MrPGoe4i"
      }
    },
    {
      "cell_type": "code",
      "source": [
        "if(!\"kableExtra\" %in% installed.packages()){\n",
        "    install.packages(\"kableExtra\")}\n",
        "if(!\"IRdisplay\" %in% installed.packages()){\n",
        "    install.packages(\"IRdisplay\")}\n",
        "if(!\"htmltools\" %in% installed.packages()){\n",
        "    install.packages(\"htmltools\")}\n",
        "if(!\"plot3D\" %in% installed.packages()){\n",
        "    install.packages(\"plot3D\")}\n",
        "if(!\"plotly\" %in% installed.packages()){\n",
        "    install.packages(\"plotly\")}   \n",
        "if(!\"reshape2\" %in% installed.packages()){\n",
        "    install.packages(\"reshape2\")} \n",
        "if(!\"cluster\" %in% installed.packages()){\n",
        "    install.packages(\"cluster\")} \n",
        "if(!\"factoextra\" %in% installed.packages()){\n",
        "    install.packages(\"factoextra\")} \n",
        "library(reshape2)\n",
        "library(knitr)\n",
        "library(kableExtra)\n",
        "library(IRdisplay)\n",
        "library(plot3D)\n",
        "library(plotly)\n",
        "library(htmltools)\n",
        "library(cluster)\n",
        "library(factoextra)"
      ],
      "metadata": {
        "id": "qpOR_niTYZWD"
      },
      "execution_count": 7,
      "outputs": []
    },
    {
      "cell_type": "markdown",
      "metadata": {
        "id": "IFWa_MU8GutQ"
      },
      "source": [
        "##Carregamento da base de dados (Vestibular)"
      ]
    },
    {
      "cell_type": "code",
      "execution_count": 8,
      "metadata": {
        "id": "j3icTt3BP-Ph"
      },
      "outputs": [],
      "source": [
        "load(url(\"https://github.com/FranziskoB/Exemplo1_cluters/blob/main/dados/Vestibular.RData?raw=true\"))"
      ]
    },
    {
      "cell_type": "markdown",
      "metadata": {
        "id": "xPn4DP07Gyfv"
      },
      "source": [
        "Visualização da base de dados"
      ]
    },
    {
      "cell_type": "code",
      "execution_count": 9,
      "metadata": {
        "colab": {
          "base_uri": "https://localhost:8080/",
          "height": 255
        },
        "id": "eTfy1qR3GBiy",
        "outputId": "f6df41a4-b760-47f6-f9e9-f28b65c9db8c"
      },
      "outputs": [
        {
          "output_type": "display_data",
          "data": {
            "text/html": [
              "<table class=\"dataframe\">\n",
              "<caption>A tibble: 5 × 4</caption>\n",
              "<thead>\n",
              "\t<tr><th scope=col>estudante</th><th scope=col>matematica</th><th scope=col>fisica</th><th scope=col>quimica</th></tr>\n",
              "\t<tr><th scope=col>&lt;chr&gt;</th><th scope=col>&lt;dbl&gt;</th><th scope=col>&lt;dbl&gt;</th><th scope=col>&lt;dbl&gt;</th></tr>\n",
              "</thead>\n",
              "<tbody>\n",
              "\t<tr><td>Gabriela   </td><td>3.7</td><td>2.7</td><td>9.1</td></tr>\n",
              "\t<tr><td>Luiz Felipe</td><td>7.8</td><td>8.0</td><td>1.5</td></tr>\n",
              "\t<tr><td>Patricia   </td><td>8.9</td><td>1.0</td><td>2.7</td></tr>\n",
              "\t<tr><td>Ovidio     </td><td>7.0</td><td>1.0</td><td>9.0</td></tr>\n",
              "\t<tr><td>Leonor     </td><td>3.4</td><td>2.0</td><td>5.0</td></tr>\n",
              "</tbody>\n",
              "</table>\n"
            ],
            "text/markdown": "\nA tibble: 5 × 4\n\n| estudante &lt;chr&gt; | matematica &lt;dbl&gt; | fisica &lt;dbl&gt; | quimica &lt;dbl&gt; |\n|---|---|---|---|\n| Gabriela    | 3.7 | 2.7 | 9.1 |\n| Luiz Felipe | 7.8 | 8.0 | 1.5 |\n| Patricia    | 8.9 | 1.0 | 2.7 |\n| Ovidio      | 7.0 | 1.0 | 9.0 |\n| Leonor      | 3.4 | 2.0 | 5.0 |\n\n",
            "text/latex": "A tibble: 5 × 4\n\\begin{tabular}{llll}\n estudante & matematica & fisica & quimica\\\\\n <chr> & <dbl> & <dbl> & <dbl>\\\\\n\\hline\n\t Gabriela    & 3.7 & 2.7 & 9.1\\\\\n\t Luiz Felipe & 7.8 & 8.0 & 1.5\\\\\n\t Patricia    & 8.9 & 1.0 & 2.7\\\\\n\t Ovidio      & 7.0 & 1.0 & 9.0\\\\\n\t Leonor      & 3.4 & 2.0 & 5.0\\\\\n\\end{tabular}\n",
            "text/plain": [
              "  estudante   matematica fisica quimica\n",
              "1 Gabriela    3.7        2.7    9.1    \n",
              "2 Luiz Felipe 7.8        8.0    1.5    \n",
              "3 Patricia    8.9        1.0    2.7    \n",
              "4 Ovidio      7.0        1.0    9.0    \n",
              "5 Leonor      3.4        2.0    5.0    "
            ]
          },
          "metadata": {}
        }
      ],
      "source": [
        "head(Vestibular, n=5)"
      ]
    },
    {
      "cell_type": "markdown",
      "metadata": {
        "id": "WvR5Y5XHFsKf"
      },
      "source": [
        "##Construindo uma tabela com os dados"
      ]
    },
    {
      "cell_type": "code",
      "execution_count": 10,
      "metadata": {
        "colab": {
          "base_uri": "https://localhost:8080/",
          "height": 192
        },
        "id": "uMncJcRDH7t8",
        "outputId": "4babcc88-60e6-49ba-f4b6-b42227bcc305"
      },
      "outputs": [
        {
          "output_type": "display_data",
          "data": {
            "text/html": [
              "<table class=\"table table-striped\" style=\"font-size: 20px; width: auto !important; margin-left: auto; margin-right: auto;\">\n",
              " <thead>\n",
              "  <tr>\n",
              "   <th style=\"text-align:left;\"> estudante </th>\n",
              "   <th style=\"text-align:right;\"> matematica </th>\n",
              "   <th style=\"text-align:right;\"> fisica </th>\n",
              "   <th style=\"text-align:right;\"> quimica </th>\n",
              "  </tr>\n",
              " </thead>\n",
              "<tbody>\n",
              "  <tr>\n",
              "   <td style=\"text-align:left;\"> Gabriela </td>\n",
              "   <td style=\"text-align:right;\"> 3.7 </td>\n",
              "   <td style=\"text-align:right;\"> 2.7 </td>\n",
              "   <td style=\"text-align:right;\"> 9.1 </td>\n",
              "  </tr>\n",
              "  <tr>\n",
              "   <td style=\"text-align:left;\"> Luiz Felipe </td>\n",
              "   <td style=\"text-align:right;\"> 7.8 </td>\n",
              "   <td style=\"text-align:right;\"> 8.0 </td>\n",
              "   <td style=\"text-align:right;\"> 1.5 </td>\n",
              "  </tr>\n",
              "  <tr>\n",
              "   <td style=\"text-align:left;\"> Patricia </td>\n",
              "   <td style=\"text-align:right;\"> 8.9 </td>\n",
              "   <td style=\"text-align:right;\"> 1.0 </td>\n",
              "   <td style=\"text-align:right;\"> 2.7 </td>\n",
              "  </tr>\n",
              "  <tr>\n",
              "   <td style=\"text-align:left;\"> Ovidio </td>\n",
              "   <td style=\"text-align:right;\"> 7.0 </td>\n",
              "   <td style=\"text-align:right;\"> 1.0 </td>\n",
              "   <td style=\"text-align:right;\"> 9.0 </td>\n",
              "  </tr>\n",
              "  <tr>\n",
              "   <td style=\"text-align:left;\"> Leonor </td>\n",
              "   <td style=\"text-align:right;\"> 3.4 </td>\n",
              "   <td style=\"text-align:right;\"> 2.0 </td>\n",
              "   <td style=\"text-align:right;\"> 5.0 </td>\n",
              "  </tr>\n",
              "</tbody>\n",
              "</table>"
            ]
          },
          "metadata": {}
        }
      ],
      "source": [
        "tabela<-kable(Vestibular) %>%\n",
        "kable_styling(bootstrap_options = \"striped\", \n",
        "                full_width = FALSE,\n",
        "                font_size = 20)  \n",
        "                \n",
        "display_html(HTML(tabela))"
      ]
    },
    {
      "cell_type": "markdown",
      "metadata": {
        "id": "KPkuKksm5bNq"
      },
      "source": [
        "##Gráfico 3D com scatter"
      ]
    },
    {
      "cell_type": "code",
      "execution_count": 11,
      "metadata": {
        "colab": {
          "base_uri": "https://localhost:8080/",
          "height": 472
        },
        "id": "KpeernIO5ej4",
        "outputId": "522b5bd9-cff6-4571-e54a-a8e985a9e6d0"
      },
      "outputs": [
        {
          "output_type": "stream",
          "name": "stderr",
          "text": [
            "Warning message:\n",
            "“Setting row names on a tibble is deprecated.”\n"
          ]
        },
        {
          "output_type": "display_data",
          "data": {
            "text/plain": [
              "Plot with title “Nota de Quimica”"
            ],
            "image/png": "[encoded data removed]"
          },
          "metadata": {
            "image/png": {
              "width": 420,
              "height": 420
            }
          }
        }
      ],
      "source": [
        "rownames(Vestibular) <- Vestibular$estudante\n",
        "scatter3D(x=Vestibular$fisica,\n",
        "          y=Vestibular$matematica,\n",
        "          z=Vestibular$quimica,\n",
        "          phi = 0, bty = \"g\", pch = 20, cex = 2,\n",
        "          xlab = \"Fisica\",\n",
        "          ylab = \"Matematica\",\n",
        "          zlab = \"Quimica\",\n",
        "          main = \"Vestibular\",\n",
        "          clab = \"Nota de Quimica\") %>%\n",
        "text3D(x=Vestibular$fisica,\n",
        "         y=Vestibular$matematica,\n",
        "         z=Vestibular$quimica,\n",
        "         labels = rownames(Vestibular),\n",
        "         add = TRUE, cex = 1)"
      ]
    },
    {
      "cell_type": "markdown",
      "metadata": {
        "id": "9RBgLWer9-fl"
      },
      "source": [
        "##Estatísticas descritivas"
      ]
    },
    {
      "cell_type": "code",
      "execution_count": 12,
      "metadata": {
        "colab": {
          "base_uri": "https://localhost:8080/",
          "height": 139
        },
        "id": "MSEmHB4Y-AdS",
        "outputId": "72595a9b-d395-48de-f00f-915d50ab8bba"
      },
      "outputs": [
        {
          "output_type": "display_data",
          "data": {
            "text/plain": [
              "  estudante           matematica       fisica        quimica    \n",
              " Length:5           Min.   :3.40   Min.   :1.00   Min.   :1.50  \n",
              " Class :character   1st Qu.:3.70   1st Qu.:1.00   1st Qu.:2.70  \n",
              " Mode  :character   Median :7.00   Median :2.00   Median :5.00  \n",
              "                    Mean   :6.16   Mean   :2.94   Mean   :5.46  \n",
              "                    3rd Qu.:7.80   3rd Qu.:2.70   3rd Qu.:9.00  \n",
              "                    Max.   :8.90   Max.   :8.00   Max.   :9.10  "
            ]
          },
          "metadata": {}
        }
      ],
      "source": [
        "summary(Vestibular)"
      ]
    },
    {
      "cell_type": "markdown",
      "metadata": {
        "id": "kT4kCUBO-H2L"
      },
      "source": [
        "Se for necessário padronizar, é possível utilizar a função scale()"
      ]
    },
    {
      "cell_type": "code",
      "execution_count": 13,
      "metadata": {
        "id": "lahDYl0n-KXD"
      },
      "outputs": [],
      "source": [
        "vest_padronizado <- as.data.frame(scale(Vestibular[,2:4]))\n",
        "rownames(vest_padronizado) <- Vestibular$estudante"
      ]
    },
    {
      "cell_type": "markdown",
      "metadata": {
        "id": "REiOPLtb-UXl"
      },
      "source": [
        "Boxplots por variável"
      ]
    },
    {
      "cell_type": "code",
      "execution_count": 14,
      "metadata": {
        "colab": {
          "base_uri": "https://localhost:8080/",
          "height": 506
        },
        "id": "be8t7a4o-Ty7",
        "outputId": "6b13228e-cca4-47b9-a7a3-2691bf5f1624"
      },
      "outputs": [
        {
          "output_type": "stream",
          "name": "stderr",
          "text": [
            "Using estudante as id variables\n",
            "\n",
            "Warning message:\n",
            "“attributes are not identical across measure variables; they will be dropped”\n"
          ]
        },
        {
          "output_type": "display_data",
          "data": {
            "text/plain": [
              "plot without title"
            ],
            "image/png": "[encoded data removed]"
          },
          "metadata": {
            "image/png": {
              "width": 420,
              "height": 420
            }
          }
        }
      ],
      "source": [
        "ax<-(\n",
        "  Vestibular %>%\n",
        "    melt() %>%\n",
        "    ggplot(aes(label = estudante)) +\n",
        "    geom_boxplot(aes(x = variable, y = value, fill = variable)) +\n",
        "    geom_point(aes(x = variable, y = value), alpha = 0.5) +\n",
        "    labs(x = \"Variável\",\n",
        "         y = \"Nota\") +\n",
        "    scale_fill_manual(\"Legenda:\",\n",
        "                      values = c(\"orange\", \"purple\", \"bisque4\")) +\n",
        "    theme_bw()\n",
        ")\n",
        "ax"
      ]
    },
    {
      "cell_type": "markdown",
      "source": [
        "#Esquema de aglomeração hierárquico"
      ],
      "metadata": {
        "id": "TJg53XI-Uk3F"
      }
    },
    {
      "cell_type": "markdown",
      "source": [
        "Matriz de dissimilaridades"
      ],
      "metadata": {
        "id": "aeLKgEs2UoQj"
      }
    },
    {
      "cell_type": "code",
      "execution_count": 15,
      "metadata": {
        "id": "xATxdU_yBCLn"
      },
      "outputs": [],
      "source": [
        "matriz_D <- Vestibular %>% \n",
        "  select(matematica, fisica, quimica) %>% \n",
        "  dist(method = \"euclidean\")"
      ]
    },
    {
      "cell_type": "markdown",
      "source": [
        "Method: parametrização da distância a ser utilizada\n",
        "\n",
        "*   \"euclidean\": distância euclidiana\n",
        "*   \"euclidiana quadrática\": elevar ao quadrado matriz_D (matriz_D^2)\n",
        "*   \"maximum\": distância de Chebychev;\n",
        "*   \"manhattan\": distância de Manhattan (ou distância absoluta ou bloco);\n",
        "*   \"canberra\": distância de Canberra;\n",
        "*   \"minkowski\": distância de Minkowski"
      ],
      "metadata": {
        "id": "UkwMQhdtUyQQ"
      }
    },
    {
      "cell_type": "markdown",
      "source": [
        "Visualizando a matriz de dissimilaridades"
      ],
      "metadata": {
        "id": "dxxFTnxXVBF-"
      }
    },
    {
      "cell_type": "code",
      "execution_count": 16,
      "metadata": {
        "id": "24v2msZzM73g",
        "colab": {
          "base_uri": "https://localhost:8080/",
          "height": 192
        },
        "outputId": "dc0ecb7e-bced-49ab-d032-94705d32b3fa"
      },
      "outputs": [
        {
          "output_type": "display_data",
          "data": {
            "text/html": [
              "<table class=\"table table-striped\" style=\"font-size: 20px; width: auto !important; margin-left: auto; margin-right: auto;\">\n",
              " <thead>\n",
              "  <tr>\n",
              "   <th style=\"text-align:right;\"> 1 </th>\n",
              "   <th style=\"text-align:right;\"> 2 </th>\n",
              "   <th style=\"text-align:right;\"> 3 </th>\n",
              "   <th style=\"text-align:right;\"> 4 </th>\n",
              "   <th style=\"text-align:right;\"> 5 </th>\n",
              "  </tr>\n",
              " </thead>\n",
              "<tbody>\n",
              "  <tr>\n",
              "   <td style=\"text-align:right;\"> 0.000000 </td>\n",
              "   <td style=\"text-align:right;\"> 10.132127 </td>\n",
              "   <td style=\"text-align:right;\"> 8.419620 </td>\n",
              "   <td style=\"text-align:right;\"> 3.713489 </td>\n",
              "   <td style=\"text-align:right;\"> 4.170132 </td>\n",
              "  </tr>\n",
              "  <tr>\n",
              "   <td style=\"text-align:right;\"> 10.132127 </td>\n",
              "   <td style=\"text-align:right;\"> 0.000000 </td>\n",
              "   <td style=\"text-align:right;\"> 7.186793 </td>\n",
              "   <td style=\"text-align:right;\"> 10.290287 </td>\n",
              "   <td style=\"text-align:right;\"> 8.222530 </td>\n",
              "  </tr>\n",
              "  <tr>\n",
              "   <td style=\"text-align:right;\"> 8.419620 </td>\n",
              "   <td style=\"text-align:right;\"> 7.186793 </td>\n",
              "   <td style=\"text-align:right;\"> 0.000000 </td>\n",
              "   <td style=\"text-align:right;\"> 6.580273 </td>\n",
              "   <td style=\"text-align:right;\"> 6.044832 </td>\n",
              "  </tr>\n",
              "  <tr>\n",
              "   <td style=\"text-align:right;\"> 3.713489 </td>\n",
              "   <td style=\"text-align:right;\"> 10.290287 </td>\n",
              "   <td style=\"text-align:right;\"> 6.580273 </td>\n",
              "   <td style=\"text-align:right;\"> 0.000000 </td>\n",
              "   <td style=\"text-align:right;\"> 5.473573 </td>\n",
              "  </tr>\n",
              "  <tr>\n",
              "   <td style=\"text-align:right;\"> 4.170132 </td>\n",
              "   <td style=\"text-align:right;\"> 8.222530 </td>\n",
              "   <td style=\"text-align:right;\"> 6.044832 </td>\n",
              "   <td style=\"text-align:right;\"> 5.473573 </td>\n",
              "   <td style=\"text-align:right;\"> 0.000000 </td>\n",
              "  </tr>\n",
              "</tbody>\n",
              "</table>"
            ]
          },
          "metadata": {}
        }
      ],
      "source": [
        "viz=data.matrix(matriz_D) %>% \n",
        "  kable() %>%\n",
        "  kable_styling(bootstrap_options = \"striped\", \n",
        "                full_width = FALSE, \n",
        "                font_size = 20)\n",
        "display_html( HTML(viz))"
      ]
    },
    {
      "cell_type": "markdown",
      "source": [
        "Elaboração da clusterização hierárquica"
      ],
      "metadata": {
        "id": "HnEy707OWHNR"
      }
    },
    {
      "cell_type": "code",
      "source": [
        "cluster_hier <- agnes(x = matriz_D, method = \"single\")"
      ],
      "metadata": {
        "id": "9KCqtA-RWH0N"
      },
      "execution_count": 17,
      "outputs": []
    },
    {
      "cell_type": "markdown",
      "source": [
        "Method é o tipo de encadeamento:\n",
        "\n",
        "\n",
        "*   \"average\": encadeamento médio (between groups ou average linkage)\n",
        "*   \"single\": encadeamento único (nearest neighbor ou single linkage)\n",
        "*   \"complete\": encadeamento completo (furthest neighbor ou complete linkage)\n"
      ],
      "metadata": {
        "id": "-4fEY868XB83"
      }
    },
    {
      "cell_type": "markdown",
      "source": [
        "Definição do esquema hierárquico de aglomeração\n",
        "\n",
        "As distâncias para as combinações em cada estágio"
      ],
      "metadata": {
        "id": "VR8RRiptXQlm"
      }
    },
    {
      "cell_type": "code",
      "source": [
        "coeficientes <- sort(cluster_hier$height, decreasing = FALSE) \n",
        "coeficientes"
      ],
      "metadata": {
        "colab": {
          "base_uri": "https://localhost:8080/",
          "height": 34
        },
        "id": "cUtAVnt5XTLy",
        "outputId": "c92e3479-c755-4e7b-c79a-d4f811b55e55"
      },
      "execution_count": 18,
      "outputs": [
        {
          "output_type": "display_data",
          "data": {
            "text/html": [
              "<style>\n",
              ".list-inline {list-style: none; margin:0; padding: 0}\n",
              ".list-inline>li {display: inline-block}\n",
              ".list-inline>li:not(:last-child)::after {content: \"\\00b7\"; padding: 0 .5ex}\n",
              "</style>\n",
              "<ol class=list-inline><li>3.71348891525291</li><li>4.17013227202674</li><li>6.04483205188088</li><li>7.1867933639135</li></ol>\n"
            ],
            "text/markdown": "1. 3.71348891525291\n2. 4.17013227202674\n3. 6.04483205188088\n4. 7.1867933639135\n\n\n",
            "text/latex": "\\begin{enumerate*}\n\\item 3.71348891525291\n\\item 4.17013227202674\n\\item 6.04483205188088\n\\item 7.1867933639135\n\\end{enumerate*}\n",
            "text/plain": [
              "[1] 3.713489 4.170132 6.044832 7.186793"
            ]
          },
          "metadata": {}
        }
      ]
    },
    {
      "cell_type": "markdown",
      "source": [
        "Tabela com o esquema de aglomeração. Interpretação do output:\n",
        "\n",
        "*   As linhas são os estágios de aglomeração\n",
        "*   Nas colunas Cluster1 e Cluster2, observa-se como ocorreu a junção\n",
        "*   Quando for número negativo, indica observação isolada\n",
        "*   Quando for número positivo, indica cluster formado anteriormente (estágio)\n",
        "*   Coeficientes: as distâncias para as combinações em cada estágio"
      ],
      "metadata": {
        "id": "K8kQ_EhaaEYp"
      }
    },
    {
      "cell_type": "code",
      "source": [
        "esquema <- as.data.frame(cbind(cluster_hier$merge, coeficientes))\n",
        "names(esquema) <- c(\"Cluster1\", \"Cluster2\", \"Coeficientes\")\n"
      ],
      "metadata": {
        "id": "iC4ykkIhaDbK"
      },
      "execution_count": 19,
      "outputs": []
    },
    {
      "cell_type": "markdown",
      "source": [
        "Visualização do esquema hierárquico de aglomeração"
      ],
      "metadata": {
        "id": "U2njQdjyaY5T"
      }
    },
    {
      "cell_type": "code",
      "source": [
        "viz<-esquema %>%\n",
        "  kable(row.names = T) %>%\n",
        "  kable_styling(bootstrap_options = \"striped\", \n",
        "                full_width = FALSE, \n",
        "                font_size = 20)\n",
        "display_html( HTML(viz) )"
      ],
      "metadata": {
        "colab": {
          "base_uri": "https://localhost:8080/",
          "height": 163
        },
        "id": "yotaWtisaYYM",
        "outputId": "b293a1bf-7e2f-401a-d7a9-0e2403851e84"
      },
      "execution_count": 20,
      "outputs": [
        {
          "output_type": "display_data",
          "data": {
            "text/html": [
              "<table class=\"table table-striped\" style=\"font-size: 20px; width: auto !important; margin-left: auto; margin-right: auto;\">\n",
              " <thead>\n",
              "  <tr>\n",
              "   <th style=\"text-align:left;\">   </th>\n",
              "   <th style=\"text-align:right;\"> Cluster1 </th>\n",
              "   <th style=\"text-align:right;\"> Cluster2 </th>\n",
              "   <th style=\"text-align:right;\"> Coeficientes </th>\n",
              "  </tr>\n",
              " </thead>\n",
              "<tbody>\n",
              "  <tr>\n",
              "   <td style=\"text-align:left;\"> 1 </td>\n",
              "   <td style=\"text-align:right;\"> -1 </td>\n",
              "   <td style=\"text-align:right;\"> -4 </td>\n",
              "   <td style=\"text-align:right;\"> 3.713489 </td>\n",
              "  </tr>\n",
              "  <tr>\n",
              "   <td style=\"text-align:left;\"> 2 </td>\n",
              "   <td style=\"text-align:right;\"> 1 </td>\n",
              "   <td style=\"text-align:right;\"> -5 </td>\n",
              "   <td style=\"text-align:right;\"> 4.170132 </td>\n",
              "  </tr>\n",
              "  <tr>\n",
              "   <td style=\"text-align:left;\"> 3 </td>\n",
              "   <td style=\"text-align:right;\"> 2 </td>\n",
              "   <td style=\"text-align:right;\"> -3 </td>\n",
              "   <td style=\"text-align:right;\"> 6.044832 </td>\n",
              "  </tr>\n",
              "  <tr>\n",
              "   <td style=\"text-align:left;\"> 4 </td>\n",
              "   <td style=\"text-align:right;\"> 3 </td>\n",
              "   <td style=\"text-align:right;\"> -2 </td>\n",
              "   <td style=\"text-align:right;\"> 7.186793 </td>\n",
              "  </tr>\n",
              "</tbody>\n",
              "</table>"
            ]
          },
          "metadata": {}
        }
      ]
    },
    {
      "cell_type": "markdown",
      "source": [
        "Construção do dendrograma"
      ],
      "metadata": {
        "id": "Zus67wOcasCr"
      }
    },
    {
      "cell_type": "code",
      "source": [
        "fviz_dend(x = cluster_hier)"
      ],
      "metadata": {
        "colab": {
          "base_uri": "https://localhost:8080/",
          "height": 472
        },
        "id": "JBqHuIRoatn3",
        "outputId": "2ef5b0ef-45ef-4b17-8df9-e98101ca653c"
      },
      "execution_count": 21,
      "outputs": [
        {
          "output_type": "stream",
          "name": "stderr",
          "text": [
            "Warning message:\n",
            "“`guides(<scale> = FALSE)` is deprecated. Please use `guides(<scale> = \"none\")` instead.”\n"
          ]
        },
        {
          "output_type": "display_data",
          "data": {
            "text/plain": [
              "plot without title"
            ],
            "image/png": "[encoded data removed]"
          },
          "metadata": {
            "image/png": {
              "width": 420,
              "height": 420
            }
          }
        }
      ]
    },
    {
      "cell_type": "markdown",
      "source": [
        "Dendrograma com visualização dos clusters (definição de 3 clusters)"
      ],
      "metadata": {
        "id": "JmdF3Fb-dWZg"
      }
    },
    {
      "cell_type": "code",
      "source": [
        "fviz_dend(x = cluster_hier,\n",
        "          k = 3,\n",
        "          k_colors = c(\"deeppink4\", \"darkviolet\", \"deeppink\"),\n",
        "          color_labels_by_k = F,\n",
        "          rect = T,\n",
        "          rect_fill = T,\n",
        "          lwd = 1,\n",
        "          ggtheme = theme_bw())"
      ],
      "metadata": {
        "colab": {
          "base_uri": "https://localhost:8080/",
          "height": 472
        },
        "id": "XVW0w1BedTkz",
        "outputId": "e3af7334-c4f3-4821-d09f-8d7ec07ab23a"
      },
      "execution_count": 22,
      "outputs": [
        {
          "output_type": "stream",
          "name": "stderr",
          "text": [
            "Warning message:\n",
            "“`guides(<scale> = FALSE)` is deprecated. Please use `guides(<scale> = \"none\")` instead.”\n"
          ]
        },
        {
          "output_type": "display_data",
          "data": {
            "text/plain": [
              "plot without title"
            ],
            "image/png": "[encoded data removed]"
          },
          "metadata": {
            "image/png": {
              "width": 420,
              "height": 420
            }
          }
        }
      ]
    },
    {
      "cell_type": "markdown",
      "source": [
        "Criando variável categórica para indicação do cluster no banco de dados\n",
        "\n",
        "O argumento 'k' indica a quantidade de clusters"
      ],
      "metadata": {
        "id": "NT-10sosdgvr"
      }
    },
    {
      "cell_type": "code",
      "source": [
        "Vestibular$cluster_H <- factor(cutree(tree = cluster_hier, k = 3))"
      ],
      "metadata": {
        "id": "q0OXcPBldj9l"
      },
      "execution_count": 23,
      "outputs": []
    },
    {
      "cell_type": "code",
      "source": [
        "display_html(HTML(Vestibular %>%\n",
        "  kable() %>%\n",
        "  kable_styling(bootstrap_options = \"striped\", \n",
        "                full_width = FALSE,\n",
        "                font_size = 20)))"
      ],
      "metadata": {
        "colab": {
          "base_uri": "https://localhost:8080/",
          "height": 192
        },
        "id": "VHWMIQKDjD4t",
        "outputId": "06cfb11f-b18f-4df6-fd66-0a096e89e9f6"
      },
      "execution_count": 24,
      "outputs": [
        {
          "output_type": "display_data",
          "data": {
            "text/html": [
              "<table class=\"table table-striped\" style=\"font-size: 20px; width: auto !important; margin-left: auto; margin-right: auto;\">\n",
              " <thead>\n",
              "  <tr>\n",
              "   <th style=\"text-align:left;\"> estudante </th>\n",
              "   <th style=\"text-align:right;\"> matematica </th>\n",
              "   <th style=\"text-align:right;\"> fisica </th>\n",
              "   <th style=\"text-align:right;\"> quimica </th>\n",
              "   <th style=\"text-align:left;\"> cluster_H </th>\n",
              "  </tr>\n",
              " </thead>\n",
              "<tbody>\n",
              "  <tr>\n",
              "   <td style=\"text-align:left;\"> Gabriela </td>\n",
              "   <td style=\"text-align:right;\"> 3.7 </td>\n",
              "   <td style=\"text-align:right;\"> 2.7 </td>\n",
              "   <td style=\"text-align:right;\"> 9.1 </td>\n",
              "   <td style=\"text-align:left;\"> 1 </td>\n",
              "  </tr>\n",
              "  <tr>\n",
              "   <td style=\"text-align:left;\"> Luiz Felipe </td>\n",
              "   <td style=\"text-align:right;\"> 7.8 </td>\n",
              "   <td style=\"text-align:right;\"> 8.0 </td>\n",
              "   <td style=\"text-align:right;\"> 1.5 </td>\n",
              "   <td style=\"text-align:left;\"> 2 </td>\n",
              "  </tr>\n",
              "  <tr>\n",
              "   <td style=\"text-align:left;\"> Patricia </td>\n",
              "   <td style=\"text-align:right;\"> 8.9 </td>\n",
              "   <td style=\"text-align:right;\"> 1.0 </td>\n",
              "   <td style=\"text-align:right;\"> 2.7 </td>\n",
              "   <td style=\"text-align:left;\"> 3 </td>\n",
              "  </tr>\n",
              "  <tr>\n",
              "   <td style=\"text-align:left;\"> Ovidio </td>\n",
              "   <td style=\"text-align:right;\"> 7.0 </td>\n",
              "   <td style=\"text-align:right;\"> 1.0 </td>\n",
              "   <td style=\"text-align:right;\"> 9.0 </td>\n",
              "   <td style=\"text-align:left;\"> 1 </td>\n",
              "  </tr>\n",
              "  <tr>\n",
              "   <td style=\"text-align:left;\"> Leonor </td>\n",
              "   <td style=\"text-align:right;\"> 3.4 </td>\n",
              "   <td style=\"text-align:right;\"> 2.0 </td>\n",
              "   <td style=\"text-align:right;\"> 5.0 </td>\n",
              "   <td style=\"text-align:left;\"> 1 </td>\n",
              "  </tr>\n",
              "</tbody>\n",
              "</table>"
            ]
          },
          "metadata": {}
        }
      ]
    },
    {
      "cell_type": "markdown",
      "source": [
        "Estatísticas descritivas dos clusters por variável"
      ],
      "metadata": {
        "id": "uRSNgK4ul6Zt"
      }
    },
    {
      "cell_type": "code",
      "source": [
        "group_by(Vestibular, cluster_H) %>%\n",
        "  summarise(\n",
        "    mean = mean(matematica, na.rm = TRUE),\n",
        "    sd = sd(matematica, na.rm = TRUE),\n",
        "    min = min(matematica, na.rm = TRUE),\n",
        "    max = max(matematica, na.rm = TRUE))"
      ],
      "metadata": {
        "colab": {
          "base_uri": "https://localhost:8080/",
          "height": 192
        },
        "id": "yQaM92oGdnh_",
        "outputId": "9edeb420-89fe-4ffd-c999-0b48c8723f14"
      },
      "execution_count": 25,
      "outputs": [
        {
          "output_type": "display_data",
          "data": {
            "text/html": [
              "<table class=\"dataframe\">\n",
              "<caption>A tibble: 3 × 5</caption>\n",
              "<thead>\n",
              "\t<tr><th scope=col>cluster_H</th><th scope=col>mean</th><th scope=col>sd</th><th scope=col>min</th><th scope=col>max</th></tr>\n",
              "\t<tr><th scope=col>&lt;fct&gt;</th><th scope=col>&lt;dbl&gt;</th><th scope=col>&lt;dbl&gt;</th><th scope=col>&lt;dbl&gt;</th><th scope=col>&lt;dbl&gt;</th></tr>\n",
              "</thead>\n",
              "<tbody>\n",
              "\t<tr><td>1</td><td>4.7</td><td>1.997498</td><td>3.4</td><td>7.0</td></tr>\n",
              "\t<tr><td>2</td><td>7.8</td><td>      NA</td><td>7.8</td><td>7.8</td></tr>\n",
              "\t<tr><td>3</td><td>8.9</td><td>      NA</td><td>8.9</td><td>8.9</td></tr>\n",
              "</tbody>\n",
              "</table>\n"
            ],
            "text/markdown": "\nA tibble: 3 × 5\n\n| cluster_H &lt;fct&gt; | mean &lt;dbl&gt; | sd &lt;dbl&gt; | min &lt;dbl&gt; | max &lt;dbl&gt; |\n|---|---|---|---|---|\n| 1 | 4.7 | 1.997498 | 3.4 | 7.0 |\n| 2 | 7.8 |       NA | 7.8 | 7.8 |\n| 3 | 8.9 |       NA | 8.9 | 8.9 |\n\n",
            "text/latex": "A tibble: 3 × 5\n\\begin{tabular}{lllll}\n cluster\\_H & mean & sd & min & max\\\\\n <fct> & <dbl> & <dbl> & <dbl> & <dbl>\\\\\n\\hline\n\t 1 & 4.7 & 1.997498 & 3.4 & 7.0\\\\\n\t 2 & 7.8 &       NA & 7.8 & 7.8\\\\\n\t 3 & 8.9 &       NA & 8.9 & 8.9\\\\\n\\end{tabular}\n",
            "text/plain": [
              "  cluster_H mean sd       min max\n",
              "1 1         4.7  1.997498 3.4 7.0\n",
              "2 2         7.8        NA 7.8 7.8\n",
              "3 3         8.9        NA 8.9 8.9"
            ]
          },
          "metadata": {}
        }
      ]
    },
    {
      "cell_type": "markdown",
      "source": [
        "Estatísticas descritivas da variável 'fisica'"
      ],
      "metadata": {
        "id": "HdGasjAVmJzj"
      }
    },
    {
      "cell_type": "code",
      "source": [
        "\n",
        "group_by(Vestibular, cluster_H) %>%\n",
        "  summarise(\n",
        "    mean = mean(fisica, na.rm = TRUE),\n",
        "    sd = sd(fisica, na.rm = TRUE),\n",
        "    min = min(fisica, na.rm = TRUE),\n",
        "    max = max(fisica, na.rm = TRUE))"
      ],
      "metadata": {
        "colab": {
          "base_uri": "https://localhost:8080/",
          "height": 192
        },
        "id": "ba5r3zbDmM9X",
        "outputId": "b52fd8e2-6aa1-4246-d55a-ca5dd39e8f74"
      },
      "execution_count": 26,
      "outputs": [
        {
          "output_type": "display_data",
          "data": {
            "text/html": [
              "<table class=\"dataframe\">\n",
              "<caption>A tibble: 3 × 5</caption>\n",
              "<thead>\n",
              "\t<tr><th scope=col>cluster_H</th><th scope=col>mean</th><th scope=col>sd</th><th scope=col>min</th><th scope=col>max</th></tr>\n",
              "\t<tr><th scope=col>&lt;fct&gt;</th><th scope=col>&lt;dbl&gt;</th><th scope=col>&lt;dbl&gt;</th><th scope=col>&lt;dbl&gt;</th><th scope=col>&lt;dbl&gt;</th></tr>\n",
              "</thead>\n",
              "<tbody>\n",
              "\t<tr><td>1</td><td>1.9</td><td>0.8544004</td><td>1</td><td>2.7</td></tr>\n",
              "\t<tr><td>2</td><td>8.0</td><td>       NA</td><td>8</td><td>8.0</td></tr>\n",
              "\t<tr><td>3</td><td>1.0</td><td>       NA</td><td>1</td><td>1.0</td></tr>\n",
              "</tbody>\n",
              "</table>\n"
            ],
            "text/markdown": "\nA tibble: 3 × 5\n\n| cluster_H &lt;fct&gt; | mean &lt;dbl&gt; | sd &lt;dbl&gt; | min &lt;dbl&gt; | max &lt;dbl&gt; |\n|---|---|---|---|---|\n| 1 | 1.9 | 0.8544004 | 1 | 2.7 |\n| 2 | 8.0 |        NA | 8 | 8.0 |\n| 3 | 1.0 |        NA | 1 | 1.0 |\n\n",
            "text/latex": "A tibble: 3 × 5\n\\begin{tabular}{lllll}\n cluster\\_H & mean & sd & min & max\\\\\n <fct> & <dbl> & <dbl> & <dbl> & <dbl>\\\\\n\\hline\n\t 1 & 1.9 & 0.8544004 & 1 & 2.7\\\\\n\t 2 & 8.0 &        NA & 8 & 8.0\\\\\n\t 3 & 1.0 &        NA & 1 & 1.0\\\\\n\\end{tabular}\n",
            "text/plain": [
              "  cluster_H mean sd        min max\n",
              "1 1         1.9  0.8544004 1   2.7\n",
              "2 2         8.0         NA 8   8.0\n",
              "3 3         1.0         NA 1   1.0"
            ]
          },
          "metadata": {}
        }
      ]
    },
    {
      "cell_type": "markdown",
      "source": [
        "Estatísticas descritivas da variável 'quimica'"
      ],
      "metadata": {
        "id": "95CGnFmbm4ek"
      }
    },
    {
      "cell_type": "code",
      "source": [
        "group_by(Vestibular, cluster_H) %>%\n",
        "  summarise(\n",
        "    mean = mean(quimica, na.rm = TRUE),\n",
        "    sd = sd(quimica, na.rm = TRUE),\n",
        "    min = min(quimica, na.rm = TRUE),\n",
        "    max = max(quimica, na.rm = TRUE))"
      ],
      "metadata": {
        "colab": {
          "base_uri": "https://localhost:8080/",
          "height": 192
        },
        "id": "XTW1jM59m6r5",
        "outputId": "a10ebfb5-7df6-4cfe-ae73-693b2c05b961"
      },
      "execution_count": 27,
      "outputs": [
        {
          "output_type": "display_data",
          "data": {
            "text/html": [
              "<table class=\"dataframe\">\n",
              "<caption>A tibble: 3 × 5</caption>\n",
              "<thead>\n",
              "\t<tr><th scope=col>cluster_H</th><th scope=col>mean</th><th scope=col>sd</th><th scope=col>min</th><th scope=col>max</th></tr>\n",
              "\t<tr><th scope=col>&lt;fct&gt;</th><th scope=col>&lt;dbl&gt;</th><th scope=col>&lt;dbl&gt;</th><th scope=col>&lt;dbl&gt;</th><th scope=col>&lt;dbl&gt;</th></tr>\n",
              "</thead>\n",
              "<tbody>\n",
              "\t<tr><td>1</td><td>7.7</td><td>2.338803</td><td>5.0</td><td>9.1</td></tr>\n",
              "\t<tr><td>2</td><td>1.5</td><td>      NA</td><td>1.5</td><td>1.5</td></tr>\n",
              "\t<tr><td>3</td><td>2.7</td><td>      NA</td><td>2.7</td><td>2.7</td></tr>\n",
              "</tbody>\n",
              "</table>\n"
            ],
            "text/markdown": "\nA tibble: 3 × 5\n\n| cluster_H &lt;fct&gt; | mean &lt;dbl&gt; | sd &lt;dbl&gt; | min &lt;dbl&gt; | max &lt;dbl&gt; |\n|---|---|---|---|---|\n| 1 | 7.7 | 2.338803 | 5.0 | 9.1 |\n| 2 | 1.5 |       NA | 1.5 | 1.5 |\n| 3 | 2.7 |       NA | 2.7 | 2.7 |\n\n",
            "text/latex": "A tibble: 3 × 5\n\\begin{tabular}{lllll}\n cluster\\_H & mean & sd & min & max\\\\\n <fct> & <dbl> & <dbl> & <dbl> & <dbl>\\\\\n\\hline\n\t 1 & 7.7 & 2.338803 & 5.0 & 9.1\\\\\n\t 2 & 1.5 &       NA & 1.5 & 1.5\\\\\n\t 3 & 2.7 &       NA & 2.7 & 2.7\\\\\n\\end{tabular}\n",
            "text/plain": [
              "  cluster_H mean sd       min max\n",
              "1 1         7.7  2.338803 5.0 9.1\n",
              "2 2         1.5        NA 1.5 1.5\n",
              "3 3         2.7        NA 2.7 2.7"
            ]
          },
          "metadata": {}
        }
      ]
    },
    {
      "cell_type": "markdown",
      "source": [
        "Análise de variância de um fator (ANOVA). Interpretação do output:\n",
        "*   Mean Sq do cluster_H: indica a variabilidade entre grupos\n",
        "*   Mean Sq dos Residuals: indica a variabilidade dentro dos grupos\n",
        "*   F value: estatística de teste (Sum Sq do cluster_H / Sum Sq dos Residuals)\n",
        "*   Pr(>F): p-valor da estatística \n",
        "*   p-valor < 0.05: pelo menos um cluster apresenta média estatisticamente diferente dos demais\n",
        "*   A variável mais discriminante dos grupos contém maior estatística F (e significativa)\n",
        "\n"
      ],
      "metadata": {
        "id": "kMkrQnv6nB-W"
      }
    },
    {
      "cell_type": "markdown",
      "source": [
        "ANOVA da variável 'matematica'"
      ],
      "metadata": {
        "id": "4Tvz07rznPmx"
      }
    },
    {
      "cell_type": "code",
      "source": [
        "summary(anova_matematica <- aov(formula = matematica ~ cluster_H,\n",
        "                                data = Vestibular))"
      ],
      "metadata": {
        "colab": {
          "base_uri": "https://localhost:8080/",
          "height": 69
        },
        "id": "IMMnCeB9nSRm",
        "outputId": "5c557d6e-0841-48fe-f27c-6b048d69ac58"
      },
      "execution_count": 28,
      "outputs": [
        {
          "output_type": "display_data",
          "data": {
            "text/plain": [
              "            Df Sum Sq Mean Sq F value Pr(>F)\n",
              "cluster_H    2  16.59   8.296   2.079  0.325\n",
              "Residuals    2   7.98   3.990               "
            ]
          },
          "metadata": {}
        }
      ]
    },
    {
      "cell_type": "markdown",
      "source": [
        "ANOVA da variável 'fisica'"
      ],
      "metadata": {
        "id": "_LGT3bQ-nwmv"
      }
    },
    {
      "cell_type": "code",
      "source": [
        "summary(anova_fisica <- aov(formula = fisica ~ cluster_H,\n",
        "                            data = Vestibular))"
      ],
      "metadata": {
        "colab": {
          "base_uri": "https://localhost:8080/",
          "height": 104
        },
        "id": "Lw1zHKh8nwxV",
        "outputId": "02bd3b77-3911-416d-cde2-8167b5f8546a"
      },
      "execution_count": 29,
      "outputs": [
        {
          "output_type": "display_data",
          "data": {
            "text/plain": [
              "            Df Sum Sq Mean Sq F value Pr(>F)  \n",
              "cluster_H    2  32.61   16.31   22.34 0.0429 *\n",
              "Residuals    2   1.46    0.73                 \n",
              "---\n",
              "Signif. codes:  0 ‘***’ 0.001 ‘**’ 0.01 ‘*’ 0.05 ‘.’ 0.1 ‘ ’ 1"
            ]
          },
          "metadata": {}
        }
      ]
    },
    {
      "cell_type": "markdown",
      "source": [
        "ANOVA da variável 'quimica'"
      ],
      "metadata": {
        "id": "B61fhzownzAq"
      }
    },
    {
      "cell_type": "code",
      "source": [
        "summary(anova_quimica <- aov(formula = quimica ~ cluster_H,\n",
        "                             data = Vestibular))"
      ],
      "metadata": {
        "colab": {
          "base_uri": "https://localhost:8080/",
          "height": 69
        },
        "id": "HUfyAivxnzE8",
        "outputId": "1e555ad1-c26d-4d44-8776-416602243f04"
      },
      "execution_count": 30,
      "outputs": [
        {
          "output_type": "display_data",
          "data": {
            "text/plain": [
              "            Df Sum Sq Mean Sq F value Pr(>F)\n",
              "cluster_H    2  38.35   19.18   3.506  0.222\n",
              "Residuals    2  10.94    5.47               "
            ]
          },
          "metadata": {}
        }
      ]
    },
    {
      "cell_type": "markdown",
      "source": [
        "# Esquema de aglomeração não hierárquico K-MEANS "
      ],
      "metadata": {
        "id": "TVRFd24zx54p"
      }
    },
    {
      "cell_type": "markdown",
      "source": [
        "Elaboração da clusterização não hieráquica k-means"
      ],
      "metadata": {
        "id": "sEzmJ8ivyAeA"
      }
    },
    {
      "cell_type": "code",
      "source": [
        "cluster_kmeans <- kmeans(Vestibular[,2:4],\n",
        "                         centers = 3)"
      ],
      "metadata": {
        "id": "dzqHxdj1yBUQ"
      },
      "execution_count": 31,
      "outputs": []
    },
    {
      "cell_type": "markdown",
      "source": [
        "centers: parametrização da quantidade de clusters\n",
        "\n",
        "*   Método de Elbow para identificação do número ótimo de clusters\n",
        "*   Apresenta a variação total dentro dos clusters para várias nº de clusters\n",
        "*   Em geral, quando há a dobra é um indício do número ótimo de clusters"
      ],
      "metadata": {
        "id": "NlG7WqGWyFHP"
      }
    },
    {
      "cell_type": "code",
      "source": [
        "fviz_nbclust(Vestibular[,2:4], kmeans, method = \"wss\", k.max = 4)"
      ],
      "metadata": {
        "colab": {
          "base_uri": "https://localhost:8080/",
          "height": 437
        },
        "id": "KFb3DgNUyM5o",
        "outputId": "7ddf17ce-a0d0-4038-b0d1-5c45730d41c8"
      },
      "execution_count": 32,
      "outputs": [
        {
          "output_type": "display_data",
          "data": {
            "text/plain": [
              "plot without title"
            ],
            "image/png": "[encoded data removed]"
          },
          "metadata": {
            "image/png": {
              "width": 420,
              "height": 420
            }
          }
        }
      ]
    },
    {
      "cell_type": "markdown",
      "source": [
        "Criando variável categórica para indicação do cluster no banco de dados"
      ],
      "metadata": {
        "id": "HQ_xnInXyebp"
      }
    },
    {
      "cell_type": "code",
      "source": [
        "Vestibular$cluster_K <- factor(cluster_kmeans$cluster)"
      ],
      "metadata": {
        "id": "6j7Ljl1TyzTd"
      },
      "execution_count": 34,
      "outputs": []
    },
    {
      "cell_type": "code",
      "source": [
        "display_html(HTML(Vestibular %>%\n",
        "  kable() %>%\n",
        "  kable_styling(bootstrap_options = \"striped\", \n",
        "                full_width = FALSE,\n",
        "                font_size = 20)))"
      ],
      "metadata": {
        "colab": {
          "base_uri": "https://localhost:8080/",
          "height": 192
        },
        "id": "GKXP2yPCy3q-",
        "outputId": "bc7fbc12-7fc9-44d1-d2d8-8fb814ce6a52"
      },
      "execution_count": 35,
      "outputs": [
        {
          "output_type": "display_data",
          "data": {
            "text/html": [
              "<table class=\"table table-striped\" style=\"font-size: 20px; width: auto !important; margin-left: auto; margin-right: auto;\">\n",
              " <thead>\n",
              "  <tr>\n",
              "   <th style=\"text-align:left;\"> estudante </th>\n",
              "   <th style=\"text-align:right;\"> matematica </th>\n",
              "   <th style=\"text-align:right;\"> fisica </th>\n",
              "   <th style=\"text-align:right;\"> quimica </th>\n",
              "   <th style=\"text-align:left;\"> cluster_H </th>\n",
              "   <th style=\"text-align:left;\"> cluster_K </th>\n",
              "  </tr>\n",
              " </thead>\n",
              "<tbody>\n",
              "  <tr>\n",
              "   <td style=\"text-align:left;\"> Gabriela </td>\n",
              "   <td style=\"text-align:right;\"> 3.7 </td>\n",
              "   <td style=\"text-align:right;\"> 2.7 </td>\n",
              "   <td style=\"text-align:right;\"> 9.1 </td>\n",
              "   <td style=\"text-align:left;\"> 1 </td>\n",
              "   <td style=\"text-align:left;\"> 2 </td>\n",
              "  </tr>\n",
              "  <tr>\n",
              "   <td style=\"text-align:left;\"> Luiz Felipe </td>\n",
              "   <td style=\"text-align:right;\"> 7.8 </td>\n",
              "   <td style=\"text-align:right;\"> 8.0 </td>\n",
              "   <td style=\"text-align:right;\"> 1.5 </td>\n",
              "   <td style=\"text-align:left;\"> 2 </td>\n",
              "   <td style=\"text-align:left;\"> 3 </td>\n",
              "  </tr>\n",
              "  <tr>\n",
              "   <td style=\"text-align:left;\"> Patricia </td>\n",
              "   <td style=\"text-align:right;\"> 8.9 </td>\n",
              "   <td style=\"text-align:right;\"> 1.0 </td>\n",
              "   <td style=\"text-align:right;\"> 2.7 </td>\n",
              "   <td style=\"text-align:left;\"> 3 </td>\n",
              "   <td style=\"text-align:left;\"> 1 </td>\n",
              "  </tr>\n",
              "  <tr>\n",
              "   <td style=\"text-align:left;\"> Ovidio </td>\n",
              "   <td style=\"text-align:right;\"> 7.0 </td>\n",
              "   <td style=\"text-align:right;\"> 1.0 </td>\n",
              "   <td style=\"text-align:right;\"> 9.0 </td>\n",
              "   <td style=\"text-align:left;\"> 1 </td>\n",
              "   <td style=\"text-align:left;\"> 2 </td>\n",
              "  </tr>\n",
              "  <tr>\n",
              "   <td style=\"text-align:left;\"> Leonor </td>\n",
              "   <td style=\"text-align:right;\"> 3.4 </td>\n",
              "   <td style=\"text-align:right;\"> 2.0 </td>\n",
              "   <td style=\"text-align:right;\"> 5.0 </td>\n",
              "   <td style=\"text-align:left;\"> 1 </td>\n",
              "   <td style=\"text-align:left;\"> 2 </td>\n",
              "  </tr>\n",
              "</tbody>\n",
              "</table>"
            ]
          },
          "metadata": {}
        }
      ]
    },
    {
      "cell_type": "markdown",
      "source": [
        "ANOVA da variável 'matematica'"
      ],
      "metadata": {
        "id": "az9A0Kl8z4Dc"
      }
    },
    {
      "cell_type": "code",
      "source": [
        "summary(anova_matematica <- aov(formula = matematica ~ cluster_K,\n",
        "                                data = Vestibular))"
      ],
      "metadata": {
        "colab": {
          "base_uri": "https://localhost:8080/",
          "height": 69
        },
        "outputId": "d5af0c50-96c7-4d78-d483-8d80e371539d",
        "id": "K0xDbRUgz4Dc"
      },
      "execution_count": 36,
      "outputs": [
        {
          "output_type": "display_data",
          "data": {
            "text/plain": [
              "            Df Sum Sq Mean Sq F value Pr(>F)\n",
              "cluster_K    2  16.59   8.296   2.079  0.325\n",
              "Residuals    2   7.98   3.990               "
            ]
          },
          "metadata": {}
        }
      ]
    },
    {
      "cell_type": "markdown",
      "source": [
        "ANOVA da variável 'fisica'"
      ],
      "metadata": {
        "id": "ONTNdS15z4Dd"
      }
    },
    {
      "cell_type": "code",
      "source": [
        "summary(anova_fisica <- aov(formula = fisica ~ cluster_K,\n",
        "                            data = Vestibular))"
      ],
      "metadata": {
        "colab": {
          "base_uri": "https://localhost:8080/",
          "height": 104
        },
        "outputId": "368f4ab3-2000-4932-9c4d-6a3142d8a845",
        "id": "dRENLoUGz4Dd"
      },
      "execution_count": 37,
      "outputs": [
        {
          "output_type": "display_data",
          "data": {
            "text/plain": [
              "            Df Sum Sq Mean Sq F value Pr(>F)  \n",
              "cluster_K    2  32.61   16.31   22.34 0.0429 *\n",
              "Residuals    2   1.46    0.73                 \n",
              "---\n",
              "Signif. codes:  0 ‘***’ 0.001 ‘**’ 0.01 ‘*’ 0.05 ‘.’ 0.1 ‘ ’ 1"
            ]
          },
          "metadata": {}
        }
      ]
    },
    {
      "cell_type": "markdown",
      "source": [
        "ANOVA da variável 'quimica'"
      ],
      "metadata": {
        "id": "cUleZPaaz4De"
      }
    },
    {
      "cell_type": "code",
      "source": [
        "summary(anova_quimica <- aov(formula = quimica ~ cluster_K,\n",
        "                             data = Vestibular))"
      ],
      "metadata": {
        "colab": {
          "base_uri": "https://localhost:8080/",
          "height": 69
        },
        "outputId": "1860fec2-7f71-442b-f451-3d768ddd035a",
        "id": "xhPp9hYHz4De"
      },
      "execution_count": 38,
      "outputs": [
        {
          "output_type": "display_data",
          "data": {
            "text/plain": [
              "            Df Sum Sq Mean Sq F value Pr(>F)\n",
              "cluster_K    2  38.35   19.18   3.506  0.222\n",
              "Residuals    2  10.94    5.47               "
            ]
          },
          "metadata": {}
        }
      ]
    },
    {
      "cell_type": "markdown",
      "source": [
        "Comparando os resultados dos esquemas hierárquico e não hierárquico"
      ],
      "metadata": {
        "id": "o59OeWjt0nvA"
      }
    },
    {
      "cell_type": "code",
      "source": [
        "display_html(HTML(Vestibular %>%\n",
        "  select(estudante, cluster_H, cluster_K) %>%\n",
        "  kable() %>%\n",
        "  kable_styling(bootstrap_options = \"striped\",\n",
        "                full_width = FALSE,\n",
        "                font_size = 20)))"
      ],
      "metadata": {
        "colab": {
          "base_uri": "https://localhost:8080/",
          "height": 192
        },
        "id": "0ENlie_j0pb6",
        "outputId": "a773d0e6-f9c5-4824-8ab5-c0f82a6d5ab2"
      },
      "execution_count": 39,
      "outputs": [
        {
          "output_type": "display_data",
          "data": {
            "text/html": [
              "<table class=\"table table-striped\" style=\"font-size: 20px; width: auto !important; margin-left: auto; margin-right: auto;\">\n",
              " <thead>\n",
              "  <tr>\n",
              "   <th style=\"text-align:left;\"> estudante </th>\n",
              "   <th style=\"text-align:left;\"> cluster_H </th>\n",
              "   <th style=\"text-align:left;\"> cluster_K </th>\n",
              "  </tr>\n",
              " </thead>\n",
              "<tbody>\n",
              "  <tr>\n",
              "   <td style=\"text-align:left;\"> Gabriela </td>\n",
              "   <td style=\"text-align:left;\"> 1 </td>\n",
              "   <td style=\"text-align:left;\"> 2 </td>\n",
              "  </tr>\n",
              "  <tr>\n",
              "   <td style=\"text-align:left;\"> Luiz Felipe </td>\n",
              "   <td style=\"text-align:left;\"> 2 </td>\n",
              "   <td style=\"text-align:left;\"> 3 </td>\n",
              "  </tr>\n",
              "  <tr>\n",
              "   <td style=\"text-align:left;\"> Patricia </td>\n",
              "   <td style=\"text-align:left;\"> 3 </td>\n",
              "   <td style=\"text-align:left;\"> 1 </td>\n",
              "  </tr>\n",
              "  <tr>\n",
              "   <td style=\"text-align:left;\"> Ovidio </td>\n",
              "   <td style=\"text-align:left;\"> 1 </td>\n",
              "   <td style=\"text-align:left;\"> 2 </td>\n",
              "  </tr>\n",
              "  <tr>\n",
              "   <td style=\"text-align:left;\"> Leonor </td>\n",
              "   <td style=\"text-align:left;\"> 1 </td>\n",
              "   <td style=\"text-align:left;\"> 2 </td>\n",
              "  </tr>\n",
              "</tbody>\n",
              "</table>"
            ]
          },
          "metadata": {}
        }
      ]
    }
  ],
  "metadata": {
    "colab": {
      "provenance": [],
      "authorship_tag": "ABX9TyMA23UpJlNO5iBAHm7077qh",
      "include_colab_link": true
    },
    "kernelspec": {
      "display_name": "R",
      "name": "ir"
    },
    "language_info": {
      "name": "R"
    }
  },
  "nbformat": 4,
  "nbformat_minor": 0
}
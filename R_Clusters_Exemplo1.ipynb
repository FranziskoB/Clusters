{
  "cells": [
    {
      "cell_type": "markdown",
      "metadata": {
        "id": "view-in-github",
        "colab_type": "text"
      },
      "source": [
        "<a href=\"https://colab.research.google.com/github/FranziskoB/Exemplo1_cluters/blob/main/R_Clusters_Exemplo1.ipynb\" target=\"_parent\"><img src=\"https://colab.research.google.com/assets/colab-badge.svg\" alt=\"Open In Colab\"/></a>"
      ]
    },
    {
      "cell_type": "markdown",
      "source": [
        "##Importando bibliotecas"
      ],
      "metadata": {
        "id": "UV5-MrPGoe4i"
      }
    },
    {
      "cell_type": "code",
      "source": [
        "if(!\"kableExtra\" %in% installed.packages()){\n",
        "    install.packages(\"kableExtra\")}\n",
        "if(!\"IRdisplay\" %in% installed.packages()){\n",
        "    install.packages(\"IRdisplay\")}\n",
        "if(!\"htmltools\" %in% installed.packages()){\n",
        "    install.packages(\"htmltools\")}\n",
        "if(!\"plot3D\" %in% installed.packages()){\n",
        "    install.packages(\"plot3D\")}\n",
        "if(!\"plotly\" %in% installed.packages()){\n",
        "    install.packages(\"plotly\")}   \n",
        "if(!\"reshape2\" %in% installed.packages()){\n",
        "    install.packages(\"reshape2\")} \n",
        "if(!\"cluster\" %in% installed.packages()){\n",
        "    install.packages(\"cluster\")} \n",
        "if(!\"factoextra\" %in% installed.packages()){\n",
        "    install.packages(\"factoextra\")} \n",
        "library(reshape2)\n",
        "library(knitr)\n",
        "library(kableExtra)\n",
        "library(IRdisplay)\n",
        "library(plot3D)\n",
        "library(plotly)\n",
        "library(htmltools)\n",
        "library(cluster)\n",
        "library(factoextra)"
      ],
      "metadata": {
        "id": "qpOR_niTYZWD"
      },
      "execution_count": null,
      "outputs": []
    },
    {
      "cell_type": "markdown",
      "metadata": {
        "id": "IFWa_MU8GutQ"
      },
      "source": [
        "##Carregamento da base de dados (Vestibular)"
      ]
    },
    {
      "cell_type": "code",
      "execution_count": 4,
      "metadata": {
        "id": "j3icTt3BP-Ph"
      },
      "outputs": [],
      "source": [
        "load(url(\"https://github.com/FranziskoB/Exemplo1_cluters/blob/main/dados/Vestibular.RData?raw=true\"))"
      ]
    },
    {
      "cell_type": "markdown",
      "metadata": {
        "id": "xPn4DP07Gyfv"
      },
      "source": [
        "Visualização da base de dados"
      ]
    },
    {
      "cell_type": "code",
      "execution_count": 5,
      "metadata": {
        "colab": {
          "base_uri": "https://localhost:8080/",
          "height": 255
        },
        "id": "eTfy1qR3GBiy",
        "outputId": "7921cd70-8ff4-4e23-dd55-46f052b8877f"
      },
      "outputs": [
        {
          "output_type": "display_data",
          "data": {
            "text/html": [
              "<table class=\"dataframe\">\n",
              "<caption>A tibble: 5 × 4</caption>\n",
              "<thead>\n",
              "\t<tr><th scope=col>estudante</th><th scope=col>matematica</th><th scope=col>fisica</th><th scope=col>quimica</th></tr>\n",
              "\t<tr><th scope=col>&lt;chr&gt;</th><th scope=col>&lt;dbl&gt;</th><th scope=col>&lt;dbl&gt;</th><th scope=col>&lt;dbl&gt;</th></tr>\n",
              "</thead>\n",
              "<tbody>\n",
              "\t<tr><td>Gabriela   </td><td>3.7</td><td>2.7</td><td>9.1</td></tr>\n",
              "\t<tr><td>Luiz Felipe</td><td>7.8</td><td>8.0</td><td>1.5</td></tr>\n",
              "\t<tr><td>Patricia   </td><td>8.9</td><td>1.0</td><td>2.7</td></tr>\n",
              "\t<tr><td>Ovidio     </td><td>7.0</td><td>1.0</td><td>9.0</td></tr>\n",
              "\t<tr><td>Leonor     </td><td>3.4</td><td>2.0</td><td>5.0</td></tr>\n",
              "</tbody>\n",
              "</table>\n"
            ],
            "text/markdown": "\nA tibble: 5 × 4\n\n| estudante &lt;chr&gt; | matematica &lt;dbl&gt; | fisica &lt;dbl&gt; | quimica &lt;dbl&gt; |\n|---|---|---|---|\n| Gabriela    | 3.7 | 2.7 | 9.1 |\n| Luiz Felipe | 7.8 | 8.0 | 1.5 |\n| Patricia    | 8.9 | 1.0 | 2.7 |\n| Ovidio      | 7.0 | 1.0 | 9.0 |\n| Leonor      | 3.4 | 2.0 | 5.0 |\n\n",
            "text/latex": "A tibble: 5 × 4\n\\begin{tabular}{llll}\n estudante & matematica & fisica & quimica\\\\\n <chr> & <dbl> & <dbl> & <dbl>\\\\\n\\hline\n\t Gabriela    & 3.7 & 2.7 & 9.1\\\\\n\t Luiz Felipe & 7.8 & 8.0 & 1.5\\\\\n\t Patricia    & 8.9 & 1.0 & 2.7\\\\\n\t Ovidio      & 7.0 & 1.0 & 9.0\\\\\n\t Leonor      & 3.4 & 2.0 & 5.0\\\\\n\\end{tabular}\n",
            "text/plain": [
              "  estudante   matematica fisica quimica\n",
              "1 Gabriela    3.7        2.7    9.1    \n",
              "2 Luiz Felipe 7.8        8.0    1.5    \n",
              "3 Patricia    8.9        1.0    2.7    \n",
              "4 Ovidio      7.0        1.0    9.0    \n",
              "5 Leonor      3.4        2.0    5.0    "
            ]
          },
          "metadata": {}
        }
      ],
      "source": [
        "head(Vestibular, n=5)"
      ]
    },
    {
      "cell_type": "markdown",
      "metadata": {
        "id": "WvR5Y5XHFsKf"
      },
      "source": [
        "##Construindo uma tabela com os dados"
      ]
    },
    {
      "cell_type": "code",
      "execution_count": 6,
      "metadata": {
        "colab": {
          "base_uri": "https://localhost:8080/",
          "height": 190
        },
        "id": "uMncJcRDH7t8",
        "outputId": "96745ec2-448a-48eb-814b-a48671e81b60"
      },
      "outputs": [
        {
          "output_type": "display_data",
          "data": {
            "text/html": [
              "<table class=\"table table-striped\" style=\"font-size: 20px; width: auto !important; margin-left: auto; margin-right: auto;\">\n",
              " <thead>\n",
              "  <tr>\n",
              "   <th style=\"text-align:left;\"> estudante </th>\n",
              "   <th style=\"text-align:right;\"> matematica </th>\n",
              "   <th style=\"text-align:right;\"> fisica </th>\n",
              "   <th style=\"text-align:right;\"> quimica </th>\n",
              "  </tr>\n",
              " </thead>\n",
              "<tbody>\n",
              "  <tr>\n",
              "   <td style=\"text-align:left;\"> Gabriela </td>\n",
              "   <td style=\"text-align:right;\"> 3.7 </td>\n",
              "   <td style=\"text-align:right;\"> 2.7 </td>\n",
              "   <td style=\"text-align:right;\"> 9.1 </td>\n",
              "  </tr>\n",
              "  <tr>\n",
              "   <td style=\"text-align:left;\"> Luiz Felipe </td>\n",
              "   <td style=\"text-align:right;\"> 7.8 </td>\n",
              "   <td style=\"text-align:right;\"> 8.0 </td>\n",
              "   <td style=\"text-align:right;\"> 1.5 </td>\n",
              "  </tr>\n",
              "  <tr>\n",
              "   <td style=\"text-align:left;\"> Patricia </td>\n",
              "   <td style=\"text-align:right;\"> 8.9 </td>\n",
              "   <td style=\"text-align:right;\"> 1.0 </td>\n",
              "   <td style=\"text-align:right;\"> 2.7 </td>\n",
              "  </tr>\n",
              "  <tr>\n",
              "   <td style=\"text-align:left;\"> Ovidio </td>\n",
              "   <td style=\"text-align:right;\"> 7.0 </td>\n",
              "   <td style=\"text-align:right;\"> 1.0 </td>\n",
              "   <td style=\"text-align:right;\"> 9.0 </td>\n",
              "  </tr>\n",
              "  <tr>\n",
              "   <td style=\"text-align:left;\"> Leonor </td>\n",
              "   <td style=\"text-align:right;\"> 3.4 </td>\n",
              "   <td style=\"text-align:right;\"> 2.0 </td>\n",
              "   <td style=\"text-align:right;\"> 5.0 </td>\n",
              "  </tr>\n",
              "</tbody>\n",
              "</table>"
            ]
          },
          "metadata": {}
        }
      ],
      "source": [
        "tabela<-kable(Vestibular) %>%\n",
        "kable_styling(bootstrap_options = \"striped\", \n",
        "                full_width = FALSE,\n",
        "                font_size = 20)  \n",
        "                \n",
        "display_html(HTML(tabela))"
      ]
    },
    {
      "cell_type": "markdown",
      "metadata": {
        "id": "KPkuKksm5bNq"
      },
      "source": [
        "##Gráfico 3D com scatter"
      ]
    },
    {
      "cell_type": "code",
      "execution_count": 8,
      "metadata": {
        "colab": {
          "base_uri": "https://localhost:8080/",
          "height": 473
        },
        "id": "KpeernIO5ej4",
        "outputId": "5c212288-b889-4462-8e1c-baace9f3aa1d"
      },
      "outputs": [
        {
          "output_type": "stream",
          "name": "stderr",
          "text": [
            "Warning message:\n",
            "“Setting row names on a tibble is deprecated.”\n"
          ]
        },
        {
          "output_type": "display_data",
          "data": {
            "text/plain": [
              "Plot with title “Nota de Quimica”"
            ],
            "image/png": "[encoded data removed]"
          },
          "metadata": {
            "image/png": {
              "width": 420,
              "height": 420
            }
          }
        }
      ],
      "source": [
        "rownames(Vestibular) <- Vestibular$estudante\n",
        "scatter3D(x=Vestibular$fisica,\n",
        "          y=Vestibular$matematica,\n",
        "          z=Vestibular$quimica,\n",
        "          phi = 0, bty = \"g\", pch = 20, cex = 2,\n",
        "          xlab = \"Fisica\",\n",
        "          ylab = \"Matematica\",\n",
        "          zlab = \"Quimica\",\n",
        "          main = \"Vestibular\",\n",
        "          clab = \"Nota de Quimica\") %>%\n",
        "text3D(x=Vestibular$fisica,\n",
        "         y=Vestibular$matematica,\n",
        "         z=Vestibular$quimica,\n",
        "         labels = rownames(Vestibular),\n",
        "         add = TRUE, cex = 1)"
      ]
    },
    {
      "cell_type": "markdown",
      "metadata": {
        "id": "9RBgLWer9-fl"
      },
      "source": [
        "##Estatísticas descritivas"
      ]
    },
    {
      "cell_type": "code",
      "execution_count": 9,
      "metadata": {
        "colab": {
          "base_uri": "https://localhost:8080/",
          "height": 145
        },
        "id": "MSEmHB4Y-AdS",
        "outputId": "1376cdf9-64e9-4b71-f669-68aaf66909f6"
      },
      "outputs": [
        {
          "output_type": "display_data",
          "data": {
            "text/plain": [
              "  estudante           matematica       fisica        quimica    \n",
              " Length:5           Min.   :3.40   Min.   :1.00   Min.   :1.50  \n",
              " Class :character   1st Qu.:3.70   1st Qu.:1.00   1st Qu.:2.70  \n",
              " Mode  :character   Median :7.00   Median :2.00   Median :5.00  \n",
              "                    Mean   :6.16   Mean   :2.94   Mean   :5.46  \n",
              "                    3rd Qu.:7.80   3rd Qu.:2.70   3rd Qu.:9.00  \n",
              "                    Max.   :8.90   Max.   :8.00   Max.   :9.10  "
            ]
          },
          "metadata": {}
        }
      ],
      "source": [
        "summary(Vestibular)"
      ]
    },
    {
      "cell_type": "markdown",
      "metadata": {
        "id": "kT4kCUBO-H2L"
      },
      "source": [
        "Se for necessário padronizar, é possível utilizar a função scale()"
      ]
    },
    {
      "cell_type": "code",
      "execution_count": 10,
      "metadata": {
        "id": "lahDYl0n-KXD"
      },
      "outputs": [],
      "source": [
        "vest_padronizado <- as.data.frame(scale(Vestibular[,2:4]))\n",
        "rownames(vest_padronizado) <- Vestibular$estudante"
      ]
    },
    {
      "cell_type": "markdown",
      "metadata": {
        "id": "REiOPLtb-UXl"
      },
      "source": [
        "Boxplots por variável"
      ]
    },
    {
      "cell_type": "code",
      "execution_count": null,
      "metadata": {
        "id": "be8t7a4o-Ty7"
      },
      "outputs": [],
      "source": [
        "ax<-(\n",
        "  Vestibular %>%\n",
        "    melt() %>%\n",
        "    ggplot(aes(label = estudante)) +\n",
        "    geom_boxplot(aes(x = variable, y = value, fill = variable)) +\n",
        "    geom_point(aes(x = variable, y = value), alpha = 0.5) +\n",
        "    labs(x = \"Variável\",\n",
        "         y = \"Nota\") +\n",
        "    scale_fill_manual(\"Legenda:\",\n",
        "                      values = c(\"orange\", \"purple\", \"bisque4\")) +\n",
        "    theme_bw()\n",
        ")\n"
      ]
    },
    {
      "cell_type": "markdown",
      "source": [
        "#Esquema de aglomeração hierárquico"
      ],
      "metadata": {
        "id": "TJg53XI-Uk3F"
      }
    },
    {
      "cell_type": "markdown",
      "source": [
        "Matriz de dissimilaridades"
      ],
      "metadata": {
        "id": "aeLKgEs2UoQj"
      }
    },
    {
      "cell_type": "code",
      "execution_count": 13,
      "metadata": {
        "id": "xATxdU_yBCLn"
      },
      "outputs": [],
      "source": [
        "matriz_D <- Vestibular %>% \n",
        "  select(matematica, fisica, quimica) %>% \n",
        "  dist(method = \"euclidean\")"
      ]
    },
    {
      "cell_type": "markdown",
      "source": [
        "Method: parametrização da distância a ser utilizada\n",
        "\n",
        "*   \"euclidean\": distância euclidiana\n",
        "*   \"euclidiana quadrática\": elevar ao quadrado matriz_D (matriz_D^2)\n",
        "*   \"maximum\": distância de Chebychev;\n",
        "*   \"manhattan\": distância de Manhattan (ou distância absoluta ou bloco);\n",
        "*   \"canberra\": distância de Canberra;\n",
        "*   \"minkowski\": distância de Minkowski"
      ],
      "metadata": {
        "id": "UkwMQhdtUyQQ"
      }
    },
    {
      "cell_type": "markdown",
      "source": [
        "Visualizando a matriz de dissimilaridades"
      ],
      "metadata": {
        "id": "dxxFTnxXVBF-"
      }
    },
    {
      "cell_type": "code",
      "execution_count": 16,
      "metadata": {
        "id": "24v2msZzM73g",
        "colab": {
          "base_uri": "https://localhost:8080/",
          "height": 190
        },
        "outputId": "4d9f6d51-b3b9-4b93-cae5-39b80791f510"
      },
      "outputs": [
        {
          "output_type": "display_data",
          "data": {
            "text/html": [
              "<table class=\"table table-striped\" style=\"font-size: 20px; width: auto !important; margin-left: auto; margin-right: auto;\">\n",
              " <thead>\n",
              "  <tr>\n",
              "   <th style=\"text-align:right;\"> 1 </th>\n",
              "   <th style=\"text-align:right;\"> 2 </th>\n",
              "   <th style=\"text-align:right;\"> 3 </th>\n",
              "   <th style=\"text-align:right;\"> 4 </th>\n",
              "   <th style=\"text-align:right;\"> 5 </th>\n",
              "  </tr>\n",
              " </thead>\n",
              "<tbody>\n",
              "  <tr>\n",
              "   <td style=\"text-align:right;\"> 0.000000 </td>\n",
              "   <td style=\"text-align:right;\"> 10.132127 </td>\n",
              "   <td style=\"text-align:right;\"> 8.419620 </td>\n",
              "   <td style=\"text-align:right;\"> 3.713489 </td>\n",
              "   <td style=\"text-align:right;\"> 4.170132 </td>\n",
              "  </tr>\n",
              "  <tr>\n",
              "   <td style=\"text-align:right;\"> 10.132127 </td>\n",
              "   <td style=\"text-align:right;\"> 0.000000 </td>\n",
              "   <td style=\"text-align:right;\"> 7.186793 </td>\n",
              "   <td style=\"text-align:right;\"> 10.290287 </td>\n",
              "   <td style=\"text-align:right;\"> 8.222530 </td>\n",
              "  </tr>\n",
              "  <tr>\n",
              "   <td style=\"text-align:right;\"> 8.419620 </td>\n",
              "   <td style=\"text-align:right;\"> 7.186793 </td>\n",
              "   <td style=\"text-align:right;\"> 0.000000 </td>\n",
              "   <td style=\"text-align:right;\"> 6.580273 </td>\n",
              "   <td style=\"text-align:right;\"> 6.044832 </td>\n",
              "  </tr>\n",
              "  <tr>\n",
              "   <td style=\"text-align:right;\"> 3.713489 </td>\n",
              "   <td style=\"text-align:right;\"> 10.290287 </td>\n",
              "   <td style=\"text-align:right;\"> 6.580273 </td>\n",
              "   <td style=\"text-align:right;\"> 0.000000 </td>\n",
              "   <td style=\"text-align:right;\"> 5.473573 </td>\n",
              "  </tr>\n",
              "  <tr>\n",
              "   <td style=\"text-align:right;\"> 4.170132 </td>\n",
              "   <td style=\"text-align:right;\"> 8.222530 </td>\n",
              "   <td style=\"text-align:right;\"> 6.044832 </td>\n",
              "   <td style=\"text-align:right;\"> 5.473573 </td>\n",
              "   <td style=\"text-align:right;\"> 0.000000 </td>\n",
              "  </tr>\n",
              "</tbody>\n",
              "</table>"
            ]
          },
          "metadata": {}
        }
      ],
      "source": [
        "viz=data.matrix(matriz_D) %>% \n",
        "  kable() %>%\n",
        "  kable_styling(bootstrap_options = \"striped\", \n",
        "                full_width = FALSE, \n",
        "                font_size = 20)\n",
        "display_html( HTML(viz))"
      ]
    },
    {
      "cell_type": "markdown",
      "source": [
        "Elaboração da clusterização hierárquica"
      ],
      "metadata": {
        "id": "HnEy707OWHNR"
      }
    },
    {
      "cell_type": "code",
      "source": [
        "cluster_hier <- agnes(x = matriz_D, method = \"single\")"
      ],
      "metadata": {
        "id": "9KCqtA-RWH0N"
      },
      "execution_count": 21,
      "outputs": []
    },
    {
      "cell_type": "markdown",
      "source": [
        "Method é o tipo de encadeamento:\n",
        "\n",
        "\n",
        "*   \"average\": encadeamento médio (between groups ou average linkage)\n",
        "*   \"single\": encadeamento único (nearest neighbor ou single linkage)\n",
        "*   \"complete\": encadeamento completo (furthest neighbor ou complete linkage)\n"
      ],
      "metadata": {
        "id": "-4fEY868XB83"
      }
    },
    {
      "cell_type": "markdown",
      "source": [
        "Definição do esquema hierárquico de aglomeração\n",
        "\n",
        "As distâncias para as combinações em cada estágio"
      ],
      "metadata": {
        "id": "VR8RRiptXQlm"
      }
    },
    {
      "cell_type": "code",
      "source": [
        "coeficientes <- sort(cluster_hier$height, decreasing = FALSE) \n",
        "coeficientes"
      ],
      "metadata": {
        "colab": {
          "base_uri": "https://localhost:8080/",
          "height": 34
        },
        "id": "cUtAVnt5XTLy",
        "outputId": "12a12fca-b536-4c06-ac73-ec696b43cb5d"
      },
      "execution_count": 22,
      "outputs": [
        {
          "output_type": "display_data",
          "data": {
            "text/html": [
              "<style>\n",
              ".list-inline {list-style: none; margin:0; padding: 0}\n",
              ".list-inline>li {display: inline-block}\n",
              ".list-inline>li:not(:last-child)::after {content: \"\\00b7\"; padding: 0 .5ex}\n",
              "</style>\n",
              "<ol class=list-inline><li>3.71348891525291</li><li>4.17013227202674</li><li>6.04483205188088</li><li>7.1867933639135</li></ol>\n"
            ],
            "text/markdown": "1. 3.71348891525291\n2. 4.17013227202674\n3. 6.04483205188088\n4. 7.1867933639135\n\n\n",
            "text/latex": "\\begin{enumerate*}\n\\item 3.71348891525291\n\\item 4.17013227202674\n\\item 6.04483205188088\n\\item 7.1867933639135\n\\end{enumerate*}\n",
            "text/plain": [
              "[1] 3.713489 4.170132 6.044832 7.186793"
            ]
          },
          "metadata": {}
        }
      ]
    },
    {
      "cell_type": "markdown",
      "source": [
        "Tabela com o esquema de aglomeração. Interpretação do output:\n",
        "\n",
        "*   As linhas são os estágios de aglomeração\n",
        "*   Nas colunas Cluster1 e Cluster2, observa-se como ocorreu a junção\n",
        "*   Quando for número negativo, indica observação isolada\n",
        "*   Quando for número positivo, indica cluster formado anteriormente (estágio)\n",
        "*   Coeficientes: as distâncias para as combinações em cada estágio"
      ],
      "metadata": {
        "id": "K8kQ_EhaaEYp"
      }
    },
    {
      "cell_type": "code",
      "source": [
        "esquema <- as.data.frame(cbind(cluster_hier$merge, coeficientes))\n",
        "names(esquema) <- c(\"Cluster1\", \"Cluster2\", \"Coeficientes\")\n",
        "esquema"
      ],
      "metadata": {
        "colab": {
          "base_uri": "https://localhost:8080/",
          "height": 223
        },
        "id": "iC4ykkIhaDbK",
        "outputId": "12a9d2cf-f5ce-4378-c361-3a47670dcb33"
      },
      "execution_count": 23,
      "outputs": [
        {
          "output_type": "display_data",
          "data": {
            "text/html": [
              "<table class=\"dataframe\">\n",
              "<caption>A data.frame: 4 × 3</caption>\n",
              "<thead>\n",
              "\t<tr><th scope=col>Cluster1</th><th scope=col>Cluster2</th><th scope=col>Coeficientes</th></tr>\n",
              "\t<tr><th scope=col>&lt;dbl&gt;</th><th scope=col>&lt;dbl&gt;</th><th scope=col>&lt;dbl&gt;</th></tr>\n",
              "</thead>\n",
              "<tbody>\n",
              "\t<tr><td>-1</td><td>-4</td><td>3.713489</td></tr>\n",
              "\t<tr><td> 1</td><td>-5</td><td>4.170132</td></tr>\n",
              "\t<tr><td> 2</td><td>-3</td><td>6.044832</td></tr>\n",
              "\t<tr><td> 3</td><td>-2</td><td>7.186793</td></tr>\n",
              "</tbody>\n",
              "</table>\n"
            ],
            "text/markdown": "\nA data.frame: 4 × 3\n\n| Cluster1 &lt;dbl&gt; | Cluster2 &lt;dbl&gt; | Coeficientes &lt;dbl&gt; |\n|---|---|---|\n| -1 | -4 | 3.713489 |\n|  1 | -5 | 4.170132 |\n|  2 | -3 | 6.044832 |\n|  3 | -2 | 7.186793 |\n\n",
            "text/latex": "A data.frame: 4 × 3\n\\begin{tabular}{lll}\n Cluster1 & Cluster2 & Coeficientes\\\\\n <dbl> & <dbl> & <dbl>\\\\\n\\hline\n\t -1 & -4 & 3.713489\\\\\n\t  1 & -5 & 4.170132\\\\\n\t  2 & -3 & 6.044832\\\\\n\t  3 & -2 & 7.186793\\\\\n\\end{tabular}\n",
            "text/plain": [
              "  Cluster1 Cluster2 Coeficientes\n",
              "1 -1       -4       3.713489    \n",
              "2  1       -5       4.170132    \n",
              "3  2       -3       6.044832    \n",
              "4  3       -2       7.186793    "
            ]
          },
          "metadata": {}
        }
      ]
    },
    {
      "cell_type": "markdown",
      "source": [
        "Visualização do esquema hierárquico de aglomeração"
      ],
      "metadata": {
        "id": "U2njQdjyaY5T"
      }
    },
    {
      "cell_type": "code",
      "source": [
        "viz<-esquema %>%\n",
        "  kable(row.names = T) %>%\n",
        "  kable_styling(bootstrap_options = \"striped\", \n",
        "                full_width = FALSE, \n",
        "                font_size = 20)\n",
        "display_html( HTML(viz) )"
      ],
      "metadata": {
        "colab": {
          "base_uri": "https://localhost:8080/",
          "height": 162
        },
        "id": "yotaWtisaYYM",
        "outputId": "5f1e7aba-19e0-466b-fa1a-a3ed39cb2dcb"
      },
      "execution_count": 25,
      "outputs": [
        {
          "output_type": "display_data",
          "data": {
            "text/html": [
              "<table class=\"table table-striped\" style=\"font-size: 20px; width: auto !important; margin-left: auto; margin-right: auto;\">\n",
              " <thead>\n",
              "  <tr>\n",
              "   <th style=\"text-align:left;\">   </th>\n",
              "   <th style=\"text-align:right;\"> Cluster1 </th>\n",
              "   <th style=\"text-align:right;\"> Cluster2 </th>\n",
              "   <th style=\"text-align:right;\"> Coeficientes </th>\n",
              "  </tr>\n",
              " </thead>\n",
              "<tbody>\n",
              "  <tr>\n",
              "   <td style=\"text-align:left;\"> 1 </td>\n",
              "   <td style=\"text-align:right;\"> -1 </td>\n",
              "   <td style=\"text-align:right;\"> -4 </td>\n",
              "   <td style=\"text-align:right;\"> 3.713489 </td>\n",
              "  </tr>\n",
              "  <tr>\n",
              "   <td style=\"text-align:left;\"> 2 </td>\n",
              "   <td style=\"text-align:right;\"> 1 </td>\n",
              "   <td style=\"text-align:right;\"> -5 </td>\n",
              "   <td style=\"text-align:right;\"> 4.170132 </td>\n",
              "  </tr>\n",
              "  <tr>\n",
              "   <td style=\"text-align:left;\"> 3 </td>\n",
              "   <td style=\"text-align:right;\"> 2 </td>\n",
              "   <td style=\"text-align:right;\"> -3 </td>\n",
              "   <td style=\"text-align:right;\"> 6.044832 </td>\n",
              "  </tr>\n",
              "  <tr>\n",
              "   <td style=\"text-align:left;\"> 4 </td>\n",
              "   <td style=\"text-align:right;\"> 3 </td>\n",
              "   <td style=\"text-align:right;\"> -2 </td>\n",
              "   <td style=\"text-align:right;\"> 7.186793 </td>\n",
              "  </tr>\n",
              "</tbody>\n",
              "</table>"
            ]
          },
          "metadata": {}
        }
      ]
    },
    {
      "cell_type": "markdown",
      "source": [
        "Construção do dendrograma"
      ],
      "metadata": {
        "id": "Zus67wOcasCr"
      }
    },
    {
      "cell_type": "code",
      "source": [
        "fviz_dend(x = cluster_hier)"
      ],
      "metadata": {
        "colab": {
          "base_uri": "https://localhost:8080/",
          "height": 473
        },
        "id": "JBqHuIRoatn3",
        "outputId": "2a88d8df-1058-47ac-e00c-8f3d84884434"
      },
      "execution_count": 32,
      "outputs": [
        {
          "output_type": "stream",
          "name": "stderr",
          "text": [
            "Warning message:\n",
            "“`guides(<scale> = FALSE)` is deprecated. Please use `guides(<scale> = \"none\")` instead.”\n"
          ]
        },
        {
          "output_type": "display_data",
          "data": {
            "text/plain": [
              "plot without title"
            ],
            "image/png": "[encoded data removed]"
          },
          "metadata": {
            "image/png": {
              "width": 420,
              "height": 420
            }
          }
        }
      ]
    },
    {
      "cell_type": "markdown",
      "source": [
        "Dendrograma com visualização dos clusters (definição de 3 clusters)"
      ],
      "metadata": {
        "id": "JmdF3Fb-dWZg"
      }
    },
    {
      "cell_type": "code",
      "source": [
        "fviz_dend(x = cluster_hier,\n",
        "          k = 3,\n",
        "          k_colors = c(\"deeppink4\", \"darkviolet\", \"deeppink\"),\n",
        "          color_labels_by_k = F,\n",
        "          rect = T,\n",
        "          rect_fill = T,\n",
        "          lwd = 1,\n",
        "          ggtheme = theme_bw())"
      ],
      "metadata": {
        "colab": {
          "base_uri": "https://localhost:8080/",
          "height": 473
        },
        "id": "XVW0w1BedTkz",
        "outputId": "3f15e996-90fa-4422-9cf8-58c08b81a7b7"
      },
      "execution_count": 33,
      "outputs": [
        {
          "output_type": "stream",
          "name": "stderr",
          "text": [
            "Warning message:\n",
            "“`guides(<scale> = FALSE)` is deprecated. Please use `guides(<scale> = \"none\")` instead.”\n"
          ]
        },
        {
          "output_type": "display_data",
          "data": {
            "text/plain": [
              "plot without title"
            ],
            "image/png": "[encoded data removed]"
          },
          "metadata": {
            "image/png": {
              "width": 420,
              "height": 420
            }
          }
        }
      ]
    },
    {
      "cell_type": "markdown",
      "source": [
        "Criando variável categórica para indicação do cluster no banco de dados\n",
        "\n",
        "O argumento 'k' indica a quantidade de clusters"
      ],
      "metadata": {
        "id": "NT-10sosdgvr"
      }
    },
    {
      "cell_type": "code",
      "source": [
        "Vestibular$cluster_H <- factor(cutree(tree = cluster_hier, k = 3))"
      ],
      "metadata": {
        "id": "q0OXcPBldj9l"
      },
      "execution_count": 35,
      "outputs": []
    },
    {
      "cell_type": "code",
      "source": [
        "Vestibular"
      ],
      "metadata": {
        "colab": {
          "base_uri": "https://localhost:8080/",
          "height": 255
        },
        "id": "VHWMIQKDjD4t",
        "outputId": "9d27474a-40ff-49d1-a4c3-01fbc8c7020d"
      },
      "execution_count": 39,
      "outputs": [
        {
          "output_type": "display_data",
          "data": {
            "text/html": [
              "<table class=\"dataframe\">\n",
              "<caption>A tibble: 5 × 5</caption>\n",
              "<thead>\n",
              "\t<tr><th scope=col>estudante</th><th scope=col>matematica</th><th scope=col>fisica</th><th scope=col>quimica</th><th scope=col>cluster_H</th></tr>\n",
              "\t<tr><th scope=col>&lt;chr&gt;</th><th scope=col>&lt;dbl&gt;</th><th scope=col>&lt;dbl&gt;</th><th scope=col>&lt;dbl&gt;</th><th scope=col>&lt;fct&gt;</th></tr>\n",
              "</thead>\n",
              "<tbody>\n",
              "\t<tr><td>Gabriela   </td><td>3.7</td><td>2.7</td><td>9.1</td><td>1</td></tr>\n",
              "\t<tr><td>Luiz Felipe</td><td>7.8</td><td>8.0</td><td>1.5</td><td>2</td></tr>\n",
              "\t<tr><td>Patricia   </td><td>8.9</td><td>1.0</td><td>2.7</td><td>3</td></tr>\n",
              "\t<tr><td>Ovidio     </td><td>7.0</td><td>1.0</td><td>9.0</td><td>1</td></tr>\n",
              "\t<tr><td>Leonor     </td><td>3.4</td><td>2.0</td><td>5.0</td><td>1</td></tr>\n",
              "</tbody>\n",
              "</table>\n"
            ],
            "text/markdown": "\nA tibble: 5 × 5\n\n| estudante &lt;chr&gt; | matematica &lt;dbl&gt; | fisica &lt;dbl&gt; | quimica &lt;dbl&gt; | cluster_H &lt;fct&gt; |\n|---|---|---|---|---|\n| Gabriela    | 3.7 | 2.7 | 9.1 | 1 |\n| Luiz Felipe | 7.8 | 8.0 | 1.5 | 2 |\n| Patricia    | 8.9 | 1.0 | 2.7 | 3 |\n| Ovidio      | 7.0 | 1.0 | 9.0 | 1 |\n| Leonor      | 3.4 | 2.0 | 5.0 | 1 |\n\n",
            "text/latex": "A tibble: 5 × 5\n\\begin{tabular}{lllll}\n estudante & matematica & fisica & quimica & cluster\\_H\\\\\n <chr> & <dbl> & <dbl> & <dbl> & <fct>\\\\\n\\hline\n\t Gabriela    & 3.7 & 2.7 & 9.1 & 1\\\\\n\t Luiz Felipe & 7.8 & 8.0 & 1.5 & 2\\\\\n\t Patricia    & 8.9 & 1.0 & 2.7 & 3\\\\\n\t Ovidio      & 7.0 & 1.0 & 9.0 & 1\\\\\n\t Leonor      & 3.4 & 2.0 & 5.0 & 1\\\\\n\\end{tabular}\n",
            "text/plain": [
              "  estudante   matematica fisica quimica cluster_H\n",
              "1 Gabriela    3.7        2.7    9.1     1        \n",
              "2 Luiz Felipe 7.8        8.0    1.5     2        \n",
              "3 Patricia    8.9        1.0    2.7     3        \n",
              "4 Ovidio      7.0        1.0    9.0     1        \n",
              "5 Leonor      3.4        2.0    5.0     1        "
            ]
          },
          "metadata": {}
        }
      ]
    },
    {
      "cell_type": "markdown",
      "source": [
        "Estatísticas descritivas dos clusters por variável"
      ],
      "metadata": {
        "id": "uRSNgK4ul6Zt"
      }
    },
    {
      "cell_type": "code",
      "source": [
        "group_by(Vestibular, cluster_H) %>%\n",
        "  summarise(\n",
        "    mean = mean(matematica, na.rm = TRUE),\n",
        "    sd = sd(matematica, na.rm = TRUE),\n",
        "    min = min(matematica, na.rm = TRUE),\n",
        "    max = max(matematica, na.rm = TRUE))"
      ],
      "metadata": {
        "colab": {
          "base_uri": "https://localhost:8080/",
          "height": 192
        },
        "id": "yQaM92oGdnh_",
        "outputId": "7fb3fda6-7704-4829-f094-31dc074080d1"
      },
      "execution_count": 46,
      "outputs": [
        {
          "output_type": "display_data",
          "data": {
            "text/html": [
              "<table class=\"dataframe\">\n",
              "<caption>A tibble: 3 × 5</caption>\n",
              "<thead>\n",
              "\t<tr><th scope=col>cluster_H</th><th scope=col>mean</th><th scope=col>sd</th><th scope=col>min</th><th scope=col>max</th></tr>\n",
              "\t<tr><th scope=col>&lt;fct&gt;</th><th scope=col>&lt;dbl&gt;</th><th scope=col>&lt;dbl&gt;</th><th scope=col>&lt;dbl&gt;</th><th scope=col>&lt;dbl&gt;</th></tr>\n",
              "</thead>\n",
              "<tbody>\n",
              "\t<tr><td>1</td><td>4.7</td><td>1.997498</td><td>3.4</td><td>7.0</td></tr>\n",
              "\t<tr><td>2</td><td>7.8</td><td>      NA</td><td>7.8</td><td>7.8</td></tr>\n",
              "\t<tr><td>3</td><td>8.9</td><td>      NA</td><td>8.9</td><td>8.9</td></tr>\n",
              "</tbody>\n",
              "</table>\n"
            ],
            "text/markdown": "\nA tibble: 3 × 5\n\n| cluster_H &lt;fct&gt; | mean &lt;dbl&gt; | sd &lt;dbl&gt; | min &lt;dbl&gt; | max &lt;dbl&gt; |\n|---|---|---|---|---|\n| 1 | 4.7 | 1.997498 | 3.4 | 7.0 |\n| 2 | 7.8 |       NA | 7.8 | 7.8 |\n| 3 | 8.9 |       NA | 8.9 | 8.9 |\n\n",
            "text/latex": "A tibble: 3 × 5\n\\begin{tabular}{lllll}\n cluster\\_H & mean & sd & min & max\\\\\n <fct> & <dbl> & <dbl> & <dbl> & <dbl>\\\\\n\\hline\n\t 1 & 4.7 & 1.997498 & 3.4 & 7.0\\\\\n\t 2 & 7.8 &       NA & 7.8 & 7.8\\\\\n\t 3 & 8.9 &       NA & 8.9 & 8.9\\\\\n\\end{tabular}\n",
            "text/plain": [
              "  cluster_H mean sd       min max\n",
              "1 1         4.7  1.997498 3.4 7.0\n",
              "2 2         7.8        NA 7.8 7.8\n",
              "3 3         8.9        NA 8.9 8.9"
            ]
          },
          "metadata": {}
        }
      ]
    },
    {
      "cell_type": "markdown",
      "source": [
        "Estatísticas descritivas da variável 'fisica'"
      ],
      "metadata": {
        "id": "HdGasjAVmJzj"
      }
    },
    {
      "cell_type": "code",
      "source": [
        "\n",
        "group_by(Vestibular, cluster_H) %>%\n",
        "  summarise(\n",
        "    mean = mean(fisica, na.rm = TRUE),\n",
        "    sd = sd(fisica, na.rm = TRUE),\n",
        "    min = min(fisica, na.rm = TRUE),\n",
        "    max = max(fisica, na.rm = TRUE))"
      ],
      "metadata": {
        "colab": {
          "base_uri": "https://localhost:8080/",
          "height": 192
        },
        "id": "ba5r3zbDmM9X",
        "outputId": "691d4e4f-f89f-4c41-fc72-e8bb2e922708"
      },
      "execution_count": 47,
      "outputs": [
        {
          "output_type": "display_data",
          "data": {
            "text/html": [
              "<table class=\"dataframe\">\n",
              "<caption>A tibble: 3 × 5</caption>\n",
              "<thead>\n",
              "\t<tr><th scope=col>cluster_H</th><th scope=col>mean</th><th scope=col>sd</th><th scope=col>min</th><th scope=col>max</th></tr>\n",
              "\t<tr><th scope=col>&lt;fct&gt;</th><th scope=col>&lt;dbl&gt;</th><th scope=col>&lt;dbl&gt;</th><th scope=col>&lt;dbl&gt;</th><th scope=col>&lt;dbl&gt;</th></tr>\n",
              "</thead>\n",
              "<tbody>\n",
              "\t<tr><td>1</td><td>1.9</td><td>0.8544004</td><td>1</td><td>2.7</td></tr>\n",
              "\t<tr><td>2</td><td>8.0</td><td>       NA</td><td>8</td><td>8.0</td></tr>\n",
              "\t<tr><td>3</td><td>1.0</td><td>       NA</td><td>1</td><td>1.0</td></tr>\n",
              "</tbody>\n",
              "</table>\n"
            ],
            "text/markdown": "\nA tibble: 3 × 5\n\n| cluster_H &lt;fct&gt; | mean &lt;dbl&gt; | sd &lt;dbl&gt; | min &lt;dbl&gt; | max &lt;dbl&gt; |\n|---|---|---|---|---|\n| 1 | 1.9 | 0.8544004 | 1 | 2.7 |\n| 2 | 8.0 |        NA | 8 | 8.0 |\n| 3 | 1.0 |        NA | 1 | 1.0 |\n\n",
            "text/latex": "A tibble: 3 × 5\n\\begin{tabular}{lllll}\n cluster\\_H & mean & sd & min & max\\\\\n <fct> & <dbl> & <dbl> & <dbl> & <dbl>\\\\\n\\hline\n\t 1 & 1.9 & 0.8544004 & 1 & 2.7\\\\\n\t 2 & 8.0 &        NA & 8 & 8.0\\\\\n\t 3 & 1.0 &        NA & 1 & 1.0\\\\\n\\end{tabular}\n",
            "text/plain": [
              "  cluster_H mean sd        min max\n",
              "1 1         1.9  0.8544004 1   2.7\n",
              "2 2         8.0         NA 8   8.0\n",
              "3 3         1.0         NA 1   1.0"
            ]
          },
          "metadata": {}
        }
      ]
    },
    {
      "cell_type": "markdown",
      "source": [
        "Estatísticas descritivas da variável 'quimica'"
      ],
      "metadata": {
        "id": "95CGnFmbm4ek"
      }
    },
    {
      "cell_type": "code",
      "source": [
        "group_by(Vestibular, cluster_H) %>%\n",
        "  summarise(\n",
        "    mean = mean(quimica, na.rm = TRUE),\n",
        "    sd = sd(quimica, na.rm = TRUE),\n",
        "    min = min(quimica, na.rm = TRUE),\n",
        "    max = max(quimica, na.rm = TRUE))"
      ],
      "metadata": {
        "colab": {
          "base_uri": "https://localhost:8080/",
          "height": 192
        },
        "id": "XTW1jM59m6r5",
        "outputId": "58ed964c-1355-413a-f491-930530f4a3af"
      },
      "execution_count": 48,
      "outputs": [
        {
          "output_type": "display_data",
          "data": {
            "text/html": [
              "<table class=\"dataframe\">\n",
              "<caption>A tibble: 3 × 5</caption>\n",
              "<thead>\n",
              "\t<tr><th scope=col>cluster_H</th><th scope=col>mean</th><th scope=col>sd</th><th scope=col>min</th><th scope=col>max</th></tr>\n",
              "\t<tr><th scope=col>&lt;fct&gt;</th><th scope=col>&lt;dbl&gt;</th><th scope=col>&lt;dbl&gt;</th><th scope=col>&lt;dbl&gt;</th><th scope=col>&lt;dbl&gt;</th></tr>\n",
              "</thead>\n",
              "<tbody>\n",
              "\t<tr><td>1</td><td>7.7</td><td>2.338803</td><td>5.0</td><td>9.1</td></tr>\n",
              "\t<tr><td>2</td><td>1.5</td><td>      NA</td><td>1.5</td><td>1.5</td></tr>\n",
              "\t<tr><td>3</td><td>2.7</td><td>      NA</td><td>2.7</td><td>2.7</td></tr>\n",
              "</tbody>\n",
              "</table>\n"
            ],
            "text/markdown": "\nA tibble: 3 × 5\n\n| cluster_H &lt;fct&gt; | mean &lt;dbl&gt; | sd &lt;dbl&gt; | min &lt;dbl&gt; | max &lt;dbl&gt; |\n|---|---|---|---|---|\n| 1 | 7.7 | 2.338803 | 5.0 | 9.1 |\n| 2 | 1.5 |       NA | 1.5 | 1.5 |\n| 3 | 2.7 |       NA | 2.7 | 2.7 |\n\n",
            "text/latex": "A tibble: 3 × 5\n\\begin{tabular}{lllll}\n cluster\\_H & mean & sd & min & max\\\\\n <fct> & <dbl> & <dbl> & <dbl> & <dbl>\\\\\n\\hline\n\t 1 & 7.7 & 2.338803 & 5.0 & 9.1\\\\\n\t 2 & 1.5 &       NA & 1.5 & 1.5\\\\\n\t 3 & 2.7 &       NA & 2.7 & 2.7\\\\\n\\end{tabular}\n",
            "text/plain": [
              "  cluster_H mean sd       min max\n",
              "1 1         7.7  2.338803 5.0 9.1\n",
              "2 2         1.5        NA 1.5 1.5\n",
              "3 3         2.7        NA 2.7 2.7"
            ]
          },
          "metadata": {}
        }
      ]
    },
    {
      "cell_type": "markdown",
      "source": [
        "Análise de variância de um fator (ANOVA). Interpretação do output:\n",
        "*   Mean Sq do cluster_H: indica a variabilidade entre grupos\n",
        "*   Mean Sq dos Residuals: indica a variabilidade dentro dos grupos\n",
        "*   F value: estatística de teste (Sum Sq do cluster_H / Sum Sq dos Residuals)\n",
        "*   Pr(>F): p-valor da estatística \n",
        "*   p-valor < 0.05: pelo menos um cluster apresenta média estatisticamente diferente dos demais\n",
        "*   A variável mais discriminante dos grupos contém maior estatística F (e significativa)\n",
        "\n"
      ],
      "metadata": {
        "id": "kMkrQnv6nB-W"
      }
    },
    {
      "cell_type": "markdown",
      "source": [
        "ANOVA da variável 'matematica'"
      ],
      "metadata": {
        "id": "4Tvz07rznPmx"
      }
    },
    {
      "cell_type": "code",
      "source": [
        "summary(anova_matematica <- aov(formula = matematica ~ cluster_H,\n",
        "                                data = Vestibular))"
      ],
      "metadata": {
        "colab": {
          "base_uri": "https://localhost:8080/",
          "height": 72
        },
        "id": "IMMnCeB9nSRm",
        "outputId": "8896c4d6-05c4-4041-f159-0a776e1877b7"
      },
      "execution_count": 54,
      "outputs": [
        {
          "output_type": "display_data",
          "data": {
            "text/plain": [
              "            Df Sum Sq Mean Sq F value Pr(>F)\n",
              "cluster_H    2  16.59   8.296   2.079  0.325\n",
              "Residuals    2   7.98   3.990               "
            ]
          },
          "metadata": {}
        }
      ]
    },
    {
      "cell_type": "markdown",
      "source": [
        "ANOVA da variável 'fisica'"
      ],
      "metadata": {
        "id": "_LGT3bQ-nwmv"
      }
    },
    {
      "cell_type": "code",
      "source": [
        "summary(anova_fisica <- aov(formula = fisica ~ cluster_H,\n",
        "                            data = Vestibular))"
      ],
      "metadata": {
        "colab": {
          "base_uri": "https://localhost:8080/",
          "height": 108
        },
        "id": "Lw1zHKh8nwxV",
        "outputId": "f888a969-e311-4417-dd0b-baa6ccac7070"
      },
      "execution_count": 50,
      "outputs": [
        {
          "output_type": "display_data",
          "data": {
            "text/plain": [
              "            Df Sum Sq Mean Sq F value Pr(>F)  \n",
              "cluster_H    2  32.61   16.31   22.34 0.0429 *\n",
              "Residuals    2   1.46    0.73                 \n",
              "---\n",
              "Signif. codes:  0 ‘***’ 0.001 ‘**’ 0.01 ‘*’ 0.05 ‘.’ 0.1 ‘ ’ 1"
            ]
          },
          "metadata": {}
        }
      ]
    },
    {
      "cell_type": "markdown",
      "source": [
        "ANOVA da variável 'quimica'"
      ],
      "metadata": {
        "id": "B61fhzownzAq"
      }
    },
    {
      "cell_type": "code",
      "source": [
        "summary(anova_quimica <- aov(formula = quimica ~ cluster_H,\n",
        "                             data = Vestibular))"
      ],
      "metadata": {
        "colab": {
          "base_uri": "https://localhost:8080/",
          "height": 72
        },
        "id": "HUfyAivxnzE8",
        "outputId": "5fde248c-3dfd-4999-f123-ba96bdbacbb6"
      },
      "execution_count": 51,
      "outputs": [
        {
          "output_type": "display_data",
          "data": {
            "text/plain": [
              "            Df Sum Sq Mean Sq F value Pr(>F)\n",
              "cluster_H    2  38.35   19.18   3.506  0.222\n",
              "Residuals    2  10.94    5.47               "
            ]
          },
          "metadata": {}
        }
      ]
    }
  ],
  "metadata": {
    "colab": {
      "provenance": [],
      "authorship_tag": "ABX9TyMAjaVim4DmX29yQM9g4MqP",
      "include_colab_link": true
    },
    "kernelspec": {
      "display_name": "R",
      "name": "ir"
    },
    "language_info": {
      "name": "R"
    }
  },
  "nbformat": 4,
  "nbformat_minor": 0
}
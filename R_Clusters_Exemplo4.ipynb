{
  "cells": [
    {
      "cell_type": "markdown",
      "metadata": {
        "id": "view-in-github",
        "colab_type": "text"
      },
      "source": [
        "<a href=\"https://colab.research.google.com/github/FranziskoB/Clusters/blob/main/R_Clusters_Exemplo4.ipynb\" target=\"_parent\"><img src=\"https://colab.research.google.com/assets/colab-badge.svg\" alt=\"Open In Colab\"/></a>"
      ]
    },
    {
      "cell_type": "markdown",
      "source": [
        "# Análise de Cluster Exemplo 4\n",
        " Contexto: notas médias de cada uma das 18 lojas para os 3 atributos medidos\n",
        " \n",
        " As lojas estão divididas em 3 regionais"
      ],
      "metadata": {
        "id": "fhc-7IQoC68e"
      }
    },
    {
      "cell_type": "markdown",
      "source": [
        "##Instalando e carregando as bibliotecas"
      ],
      "metadata": {
        "id": "RjYVqGtFDn5S"
      }
    },
    {
      "cell_type": "code",
      "source": [
        "if(!\"kableExtra\" %in% installed.packages()){\n",
        "    install.packages(\"kableExtra\")}\n",
        "if(!\"IRdisplay\" %in% installed.packages()){\n",
        "    install.packages(\"IRdisplay\")}\n",
        "if(!\"htmltools\" %in% installed.packages()){\n",
        "    install.packages(\"htmltools\")}\n",
        "if(!\"plot3D\" %in% installed.packages()){\n",
        "    install.packages(\"plot3D\")}\n",
        "if(!\"plotly\" %in% installed.packages()){\n",
        "    install.packages(\"plotly\")}   \n",
        "if(!\"reshape2\" %in% installed.packages()){\n",
        "    install.packages(\"reshape2\")} \n",
        "if(!\"cluster\" %in% installed.packages()){\n",
        "    install.packages(\"cluster\")} \n",
        "if(!\"factoextra\" %in% installed.packages()){\n",
        "    install.packages(\"factoextra\")} \n",
        "if(!\"ggrepel\" %in% installed.packages()){\n",
        "    install.packages(\"ggrepel\")} \n",
        "if(!\"ade4\" %in% installed.packages()){\n",
        "    install.packages(\"ade4\")} \n",
        "library(reshape2)\n",
        "library(knitr)\n",
        "library(kableExtra)\n",
        "library(IRdisplay)\n",
        "library(plot3D)\n",
        "library(plotly)\n",
        "library(htmltools)\n",
        "library(cluster)\n",
        "library(factoextra)\n",
        "library(ggrepel)\n",
        "library(ade4)\n",
        "library(purrr)\n",
        "library(tidyverse) "
      ],
      "metadata": {
        "id": "cI5nmaWYDlfT"
      },
      "execution_count": null,
      "outputs": []
    },
    {
      "cell_type": "markdown",
      "source": [
        "## Importando, vizualizando e tratando os dados"
      ],
      "metadata": {
        "id": "g619PVdAEX0k"
      }
    },
    {
      "cell_type": "code",
      "source": [
        "load(url(\"https://github.com/FranziskoB/Clusters/raw/main/dados/Regional%20Varejista.RData\"))"
      ],
      "metadata": {
        "id": "AXqqnFKjEfWb"
      },
      "execution_count": 4,
      "outputs": []
    },
    {
      "cell_type": "markdown",
      "source": [
        "\n",
        "Contexto: são respostas binárias para 50 perguntas de 35 respondentes\n",
        "\n",
        "Os respondentes são gestores de empresas em 3 setores distintos"
      ],
      "metadata": {
        "id": "tuSKvhrfl7pP"
      }
    },
    {
      "cell_type": "code",
      "source": [
        "display_html(HTML(RegionalVarejista %>%\n",
        "  kable() %>%\n",
        "  kable_styling(bootstrap_options = \"striped\", \n",
        "                full_width = FALSE,\n",
        "                font_size = 10)))"
      ],
      "metadata": {
        "colab": {
          "base_uri": "https://localhost:8080/",
          "height": 330
        },
        "id": "08uNSMhpG28S",
        "outputId": "bf4e11ef-d9be-4e44-ec15-d9e1e4b8e4f0"
      },
      "execution_count": 20,
      "outputs": [
        {
          "output_type": "display_data",
          "data": {
            "text/html": [
              "<table class=\"table table-striped\" style=\"font-size: 10px; width: auto !important; margin-left: auto; margin-right: auto;\">\n",
              " <thead>\n",
              "  <tr>\n",
              "   <th style=\"text-align:left;\"> loja </th>\n",
              "   <th style=\"text-align:left;\"> regional </th>\n",
              "   <th style=\"text-align:right;\"> atendimento </th>\n",
              "   <th style=\"text-align:right;\"> sortimento </th>\n",
              "   <th style=\"text-align:right;\"> organização </th>\n",
              "  </tr>\n",
              " </thead>\n",
              "<tbody>\n",
              "  <tr>\n",
              "   <td style=\"text-align:left;\"> 01 </td>\n",
              "   <td style=\"text-align:left;\"> Regional 3 </td>\n",
              "   <td style=\"text-align:right;\"> 6 </td>\n",
              "   <td style=\"text-align:right;\"> 6 </td>\n",
              "   <td style=\"text-align:right;\"> 4 </td>\n",
              "  </tr>\n",
              "  <tr>\n",
              "   <td style=\"text-align:left;\"> 02 </td>\n",
              "   <td style=\"text-align:left;\"> Regional 3 </td>\n",
              "   <td style=\"text-align:right;\"> 14 </td>\n",
              "   <td style=\"text-align:right;\"> 2 </td>\n",
              "   <td style=\"text-align:right;\"> 4 </td>\n",
              "  </tr>\n",
              "  <tr>\n",
              "   <td style=\"text-align:left;\"> 03 </td>\n",
              "   <td style=\"text-align:left;\"> Regional 3 </td>\n",
              "   <td style=\"text-align:right;\"> 8 </td>\n",
              "   <td style=\"text-align:right;\"> 4 </td>\n",
              "   <td style=\"text-align:right;\"> 6 </td>\n",
              "  </tr>\n",
              "  <tr>\n",
              "   <td style=\"text-align:left;\"> 04 </td>\n",
              "   <td style=\"text-align:left;\"> Regional 3 </td>\n",
              "   <td style=\"text-align:right;\"> 4 </td>\n",
              "   <td style=\"text-align:right;\"> 4 </td>\n",
              "   <td style=\"text-align:right;\"> 4 </td>\n",
              "  </tr>\n",
              "  <tr>\n",
              "   <td style=\"text-align:left;\"> 05 </td>\n",
              "   <td style=\"text-align:left;\"> Regional 3 </td>\n",
              "   <td style=\"text-align:right;\"> 6 </td>\n",
              "   <td style=\"text-align:right;\"> 6 </td>\n",
              "   <td style=\"text-align:right;\"> 6 </td>\n",
              "  </tr>\n",
              "  <tr>\n",
              "   <td style=\"text-align:left;\"> 06 </td>\n",
              "   <td style=\"text-align:left;\"> Regional 2 </td>\n",
              "   <td style=\"text-align:right;\"> 38 </td>\n",
              "   <td style=\"text-align:right;\"> 38 </td>\n",
              "   <td style=\"text-align:right;\"> 100 </td>\n",
              "  </tr>\n",
              "  <tr>\n",
              "   <td style=\"text-align:left;\"> 07 </td>\n",
              "   <td style=\"text-align:left;\"> Regional 1 </td>\n",
              "   <td style=\"text-align:right;\"> 40 </td>\n",
              "   <td style=\"text-align:right;\"> 78 </td>\n",
              "   <td style=\"text-align:right;\"> 38 </td>\n",
              "  </tr>\n",
              "  <tr>\n",
              "   <td style=\"text-align:left;\"> 08 </td>\n",
              "   <td style=\"text-align:left;\"> Regional 3 </td>\n",
              "   <td style=\"text-align:right;\"> 6 </td>\n",
              "   <td style=\"text-align:right;\"> 4 </td>\n",
              "   <td style=\"text-align:right;\"> 4 </td>\n",
              "  </tr>\n",
              "  <tr>\n",
              "   <td style=\"text-align:left;\"> 09 </td>\n",
              "   <td style=\"text-align:left;\"> Regional 3 </td>\n",
              "   <td style=\"text-align:right;\"> 4 </td>\n",
              "   <td style=\"text-align:right;\"> 4 </td>\n",
              "   <td style=\"text-align:right;\"> 6 </td>\n",
              "  </tr>\n",
              "  <tr>\n",
              "   <td style=\"text-align:left;\"> 10 </td>\n",
              "   <td style=\"text-align:left;\"> Regional 3 </td>\n",
              "   <td style=\"text-align:right;\"> 6 </td>\n",
              "   <td style=\"text-align:right;\"> 6 </td>\n",
              "   <td style=\"text-align:right;\"> 2 </td>\n",
              "  </tr>\n",
              "  <tr>\n",
              "   <td style=\"text-align:left;\"> 11 </td>\n",
              "   <td style=\"text-align:left;\"> Regional 2 </td>\n",
              "   <td style=\"text-align:right;\"> 54 </td>\n",
              "   <td style=\"text-align:right;\"> 32 </td>\n",
              "   <td style=\"text-align:right;\"> 86 </td>\n",
              "  </tr>\n",
              "  <tr>\n",
              "   <td style=\"text-align:left;\"> 12 </td>\n",
              "   <td style=\"text-align:left;\"> Regional 2 </td>\n",
              "   <td style=\"text-align:right;\"> 52 </td>\n",
              "   <td style=\"text-align:right;\"> 34 </td>\n",
              "   <td style=\"text-align:right;\"> 98 </td>\n",
              "  </tr>\n",
              "  <tr>\n",
              "   <td style=\"text-align:left;\"> 13 </td>\n",
              "   <td style=\"text-align:left;\"> Regional 2 </td>\n",
              "   <td style=\"text-align:right;\"> 76 </td>\n",
              "   <td style=\"text-align:right;\"> 60 </td>\n",
              "   <td style=\"text-align:right;\"> 88 </td>\n",
              "  </tr>\n",
              "  <tr>\n",
              "   <td style=\"text-align:left;\"> 14 </td>\n",
              "   <td style=\"text-align:left;\"> Regional 1 </td>\n",
              "   <td style=\"text-align:right;\"> 78 </td>\n",
              "   <td style=\"text-align:right;\"> 86 </td>\n",
              "   <td style=\"text-align:right;\"> 38 </td>\n",
              "  </tr>\n",
              "  <tr>\n",
              "   <td style=\"text-align:left;\"> 15 </td>\n",
              "   <td style=\"text-align:left;\"> Regional 1 </td>\n",
              "   <td style=\"text-align:right;\"> 54 </td>\n",
              "   <td style=\"text-align:right;\"> 76 </td>\n",
              "   <td style=\"text-align:right;\"> 58 </td>\n",
              "  </tr>\n",
              "  <tr>\n",
              "   <td style=\"text-align:left;\"> 16 </td>\n",
              "   <td style=\"text-align:left;\"> Regional 3 </td>\n",
              "   <td style=\"text-align:right;\"> 2 </td>\n",
              "   <td style=\"text-align:right;\"> 4 </td>\n",
              "   <td style=\"text-align:right;\"> 4 </td>\n",
              "  </tr>\n",
              "  <tr>\n",
              "   <td style=\"text-align:left;\"> 17 </td>\n",
              "   <td style=\"text-align:left;\"> Regional 1 </td>\n",
              "   <td style=\"text-align:right;\"> 52 </td>\n",
              "   <td style=\"text-align:right;\"> 56 </td>\n",
              "   <td style=\"text-align:right;\"> 46 </td>\n",
              "  </tr>\n",
              "  <tr>\n",
              "   <td style=\"text-align:left;\"> 18 </td>\n",
              "   <td style=\"text-align:left;\"> Regional 3 </td>\n",
              "   <td style=\"text-align:right;\"> 6 </td>\n",
              "   <td style=\"text-align:right;\"> 2 </td>\n",
              "   <td style=\"text-align:right;\"> 4 </td>\n",
              "  </tr>\n",
              "</tbody>\n",
              "</table>"
            ]
          },
          "metadata": {}
        }
      ]
    },
    {
      "cell_type": "markdown",
      "source": [
        "Estatísticas descritivas"
      ],
      "metadata": {
        "id": "16kxV_v4E-IL"
      }
    },
    {
      "cell_type": "code",
      "source": [
        "summary(RegionalVarejista)"
      ],
      "metadata": {
        "colab": {
          "base_uri": "https://localhost:8080/",
          "height": 260
        },
        "id": "etPqZa_6FAAk",
        "outputId": "a6032273-ea2a-4669-ea2c-1f79a9eff5c4"
      },
      "execution_count": 7,
      "outputs": [
        {
          "output_type": "display_data",
          "data": {
            "text/plain": [
              "     loja             regional          atendimento      sortimento   \n",
              " Length:18          Length:18          Min.   : 2.00   Min.   : 2.00  \n",
              " Class :character   Class :character   1st Qu.: 6.00   1st Qu.: 4.00  \n",
              " Mode  :character   Mode  :character   Median :11.00   Median : 6.00  \n",
              "                                       Mean   :28.11   Mean   :27.89  \n",
              "                                       3rd Qu.:52.00   3rd Qu.:51.50  \n",
              "                                       Max.   :78.00   Max.   :86.00  \n",
              "  organização    \n",
              " Min.   :  2.00  \n",
              " 1st Qu.:  4.00  \n",
              " Median :  6.00  \n",
              " Mean   : 33.11  \n",
              " 3rd Qu.: 55.00  \n",
              " Max.   :100.00  "
            ]
          },
          "metadata": {}
        }
      ]
    },
    {
      "cell_type": "markdown",
      "source": [
        "Gráfido de dispersão 3D"
      ],
      "metadata": {
        "id": "ZR1xlaqw7xfc"
      }
    },
    {
      "cell_type": "code",
      "source": [
        "options(repr.plot.width=10, repr.plot.height=10) #Configuração da largura e altura dos plots\n",
        "rownames(RegionalVarejista) <- RegionalVarejista$loja\n",
        "\n",
        "scatter3D(x=RegionalVarejista$atendimento,\n",
        "          y=RegionalVarejista$sortimento,\n",
        "          z=RegionalVarejista$organização,\n",
        "          phi = 0, bty = \"g\", pch = 20, cex = 2,\n",
        "          xlab = \"Atendimento\",\n",
        "          ylab = \"Sortimento\",\n",
        "          zlab = \"Organização\",\n",
        "          main = \"Lojas\",\n",
        "          clab = \"Notas Médias\")%>%\n",
        "  text3D(x=RegionalVarejista$atendimento,\n",
        "         y=RegionalVarejista$sortimento,\n",
        "         z=RegionalVarejista$organização,\n",
        "         labels = rownames(RegionalVarejista),\n",
        "         add = TRUE, cex = 1)"
      ],
      "metadata": {
        "colab": {
          "base_uri": "https://localhost:8080/",
          "height": 652
        },
        "id": "7xA01iD09k9s",
        "outputId": "2bb41020-704c-4430-c53b-ff335653ba15"
      },
      "execution_count": 14,
      "outputs": [
        {
          "output_type": "stream",
          "name": "stderr",
          "text": [
            "Warning message:\n",
            "“Setting row names on a tibble is deprecated.”\n"
          ]
        },
        {
          "output_type": "display_data",
          "data": {
            "text/plain": [
              "Plot with title “Notas Médias”"
            ],
            "image/png": "[encoded data removed]"
          },
          "metadata": {
            "image/png": {
              "width": 600,
              "height": 600
            }
          }
        }
      ]
    },
    {
      "cell_type": "markdown",
      "source": [
        "##Esquema de aglomeração hierárquico\n",
        "Matriz de dissimilaridades\n",
        "\n",
        "\n"
      ],
      "metadata": {
        "id": "jgqjEedaFAdi"
      }
    },
    {
      "cell_type": "code",
      "source": [
        "matriz_D <- RegionalVarejista %>% \n",
        "  select(atendimento, sortimento, organização) %>% \n",
        "  dist(method = \"euclidean\")"
      ],
      "metadata": {
        "id": "Aw43SGo6FF3b"
      },
      "execution_count": 16,
      "outputs": []
    },
    {
      "cell_type": "markdown",
      "source": [
        "\n",
        "Method: parametrização da distância a ser utilizada\n",
        "\n",
        "*   \"euclidean\": distância euclidiana\n",
        "*   \"euclidiana quadrática\": elevar ao quadrado matriz_D (matriz_D^2)\n",
        "*   \"maximum\": distância de Chebychev;\n",
        "*   \"manhattan\": distância de Manhattan (ou distância absoluta ou bloco);\n",
        "*   \"canberra\": distância de Canberra;\n",
        "*   \"minkowski\": distância de Minkowski\n",
        "\n",
        "\n",
        "Visualizando a matriz de dissimilaridades"
      ],
      "metadata": {
        "id": "eUwUbYlIFHU7"
      }
    },
    {
      "cell_type": "code",
      "source": [
        "display_html(HTML(data.matrix(matriz_D) %>% \n",
        "  kable() %>%\n",
        "  kable_styling(bootstrap_options = \"striped\", \n",
        "                full_width = FALSE, \n",
        "                font_size = 10)))\n"
      ],
      "metadata": {
        "id": "G5oDGM28FLMT",
        "colab": {
          "base_uri": "https://localhost:8080/",
          "height": 330
        },
        "outputId": "97f61a59-7517-492b-9dc9-444cc07e816f"
      },
      "execution_count": 19,
      "outputs": [
        {
          "output_type": "display_data",
          "data": {
            "text/html": [
              "<table class=\"table table-striped\" style=\"font-size: 10px; width: auto !important; margin-left: auto; margin-right: auto;\">\n",
              " <thead>\n",
              "  <tr>\n",
              "   <th style=\"text-align:right;\"> 1 </th>\n",
              "   <th style=\"text-align:right;\"> 2 </th>\n",
              "   <th style=\"text-align:right;\"> 3 </th>\n",
              "   <th style=\"text-align:right;\"> 4 </th>\n",
              "   <th style=\"text-align:right;\"> 5 </th>\n",
              "   <th style=\"text-align:right;\"> 6 </th>\n",
              "   <th style=\"text-align:right;\"> 7 </th>\n",
              "   <th style=\"text-align:right;\"> 8 </th>\n",
              "   <th style=\"text-align:right;\"> 9 </th>\n",
              "   <th style=\"text-align:right;\"> 10 </th>\n",
              "   <th style=\"text-align:right;\"> 11 </th>\n",
              "   <th style=\"text-align:right;\"> 12 </th>\n",
              "   <th style=\"text-align:right;\"> 13 </th>\n",
              "   <th style=\"text-align:right;\"> 14 </th>\n",
              "   <th style=\"text-align:right;\"> 15 </th>\n",
              "   <th style=\"text-align:right;\"> 16 </th>\n",
              "   <th style=\"text-align:right;\"> 17 </th>\n",
              "   <th style=\"text-align:right;\"> 18 </th>\n",
              "  </tr>\n",
              " </thead>\n",
              "<tbody>\n",
              "  <tr>\n",
              "   <td style=\"text-align:right;\"> 0.000000 </td>\n",
              "   <td style=\"text-align:right;\"> 8.944272 </td>\n",
              "   <td style=\"text-align:right;\"> 3.464102 </td>\n",
              "   <td style=\"text-align:right;\"> 2.828427 </td>\n",
              "   <td style=\"text-align:right;\"> 2.000000 </td>\n",
              "   <td style=\"text-align:right;\"> 106.13199 </td>\n",
              "   <td style=\"text-align:right;\"> 86.57944 </td>\n",
              "   <td style=\"text-align:right;\"> 2.000000 </td>\n",
              "   <td style=\"text-align:right;\"> 3.464102 </td>\n",
              "   <td style=\"text-align:right;\"> 2.000000 </td>\n",
              "   <td style=\"text-align:right;\"> 98.50888 </td>\n",
              "   <td style=\"text-align:right;\"> 108.33282 </td>\n",
              "   <td style=\"text-align:right;\"> 121.95081 </td>\n",
              "   <td style=\"text-align:right;\"> 112.87161 </td>\n",
              "   <td style=\"text-align:right;\"> 100.59821 </td>\n",
              "   <td style=\"text-align:right;\"> 4.472136 </td>\n",
              "   <td style=\"text-align:right;\"> 79.87490 </td>\n",
              "   <td style=\"text-align:right;\"> 4.000000 </td>\n",
              "  </tr>\n",
              "  <tr>\n",
              "   <td style=\"text-align:right;\"> 8.944272 </td>\n",
              "   <td style=\"text-align:right;\"> 0.000000 </td>\n",
              "   <td style=\"text-align:right;\"> 6.633250 </td>\n",
              "   <td style=\"text-align:right;\"> 10.198039 </td>\n",
              "   <td style=\"text-align:right;\"> 9.165151 </td>\n",
              "   <td style=\"text-align:right;\"> 105.29957 </td>\n",
              "   <td style=\"text-align:right;\"> 87.22385 </td>\n",
              "   <td style=\"text-align:right;\"> 8.246211 </td>\n",
              "   <td style=\"text-align:right;\"> 10.392305 </td>\n",
              "   <td style=\"text-align:right;\"> 9.165151 </td>\n",
              "   <td style=\"text-align:right;\"> 96.04166 </td>\n",
              "   <td style=\"text-align:right;\"> 106.32027 </td>\n",
              "   <td style=\"text-align:right;\"> 119.43199 </td>\n",
              "   <td style=\"text-align:right;\"> 110.94143 </td>\n",
              "   <td style=\"text-align:right;\"> 99.95999 </td>\n",
              "   <td style=\"text-align:right;\"> 12.165525 </td>\n",
              "   <td style=\"text-align:right;\"> 78.25599 </td>\n",
              "   <td style=\"text-align:right;\"> 8.000000 </td>\n",
              "  </tr>\n",
              "  <tr>\n",
              "   <td style=\"text-align:right;\"> 3.464102 </td>\n",
              "   <td style=\"text-align:right;\"> 6.633250 </td>\n",
              "   <td style=\"text-align:right;\"> 0.000000 </td>\n",
              "   <td style=\"text-align:right;\"> 4.472136 </td>\n",
              "   <td style=\"text-align:right;\"> 2.828427 </td>\n",
              "   <td style=\"text-align:right;\"> 104.36474 </td>\n",
              "   <td style=\"text-align:right;\"> 86.74099 </td>\n",
              "   <td style=\"text-align:right;\"> 2.828427 </td>\n",
              "   <td style=\"text-align:right;\"> 4.000000 </td>\n",
              "   <td style=\"text-align:right;\"> 4.898980 </td>\n",
              "   <td style=\"text-align:right;\"> 96.43651 </td>\n",
              "   <td style=\"text-align:right;\"> 106.30146 </td>\n",
              "   <td style=\"text-align:right;\"> 120.34949 </td>\n",
              "   <td style=\"text-align:right;\"> 112.46333 </td>\n",
              "   <td style=\"text-align:right;\"> 100.02000 </td>\n",
              "   <td style=\"text-align:right;\"> 6.324555 </td>\n",
              "   <td style=\"text-align:right;\"> 78.99367 </td>\n",
              "   <td style=\"text-align:right;\"> 3.464102 </td>\n",
              "  </tr>\n",
              "  <tr>\n",
              "   <td style=\"text-align:right;\"> 2.828427 </td>\n",
              "   <td style=\"text-align:right;\"> 10.198039 </td>\n",
              "   <td style=\"text-align:right;\"> 4.472136 </td>\n",
              "   <td style=\"text-align:right;\"> 0.000000 </td>\n",
              "   <td style=\"text-align:right;\"> 3.464102 </td>\n",
              "   <td style=\"text-align:right;\"> 107.36852 </td>\n",
              "   <td style=\"text-align:right;\"> 89.03932 </td>\n",
              "   <td style=\"text-align:right;\"> 2.000000 </td>\n",
              "   <td style=\"text-align:right;\"> 2.000000 </td>\n",
              "   <td style=\"text-align:right;\"> 3.464102 </td>\n",
              "   <td style=\"text-align:right;\"> 100.03999 </td>\n",
              "   <td style=\"text-align:right;\"> 109.72693 </td>\n",
              "   <td style=\"text-align:right;\"> 124.00000 </td>\n",
              "   <td style=\"text-align:right;\"> 115.56816 </td>\n",
              "   <td style=\"text-align:right;\"> 102.95630 </td>\n",
              "   <td style=\"text-align:right;\"> 2.000000 </td>\n",
              "   <td style=\"text-align:right;\"> 82.29216 </td>\n",
              "   <td style=\"text-align:right;\"> 2.828427 </td>\n",
              "  </tr>\n",
              "  <tr>\n",
              "   <td style=\"text-align:right;\"> 2.000000 </td>\n",
              "   <td style=\"text-align:right;\"> 9.165151 </td>\n",
              "   <td style=\"text-align:right;\"> 2.828427 </td>\n",
              "   <td style=\"text-align:right;\"> 3.464102 </td>\n",
              "   <td style=\"text-align:right;\"> 0.000000 </td>\n",
              "   <td style=\"text-align:right;\"> 104.32641 </td>\n",
              "   <td style=\"text-align:right;\"> 85.81375 </td>\n",
              "   <td style=\"text-align:right;\"> 2.828427 </td>\n",
              "   <td style=\"text-align:right;\"> 2.828427 </td>\n",
              "   <td style=\"text-align:right;\"> 4.000000 </td>\n",
              "   <td style=\"text-align:right;\"> 96.85040 </td>\n",
              "   <td style=\"text-align:right;\"> 106.60206 </td>\n",
              "   <td style=\"text-align:right;\"> 120.58192 </td>\n",
              "   <td style=\"text-align:right;\"> 112.28535 </td>\n",
              "   <td style=\"text-align:right;\"> 99.53894 </td>\n",
              "   <td style=\"text-align:right;\"> 4.898980 </td>\n",
              "   <td style=\"text-align:right;\"> 78.84161 </td>\n",
              "   <td style=\"text-align:right;\"> 4.472136 </td>\n",
              "  </tr>\n",
              "  <tr>\n",
              "   <td style=\"text-align:right;\"> 106.131993 </td>\n",
              "   <td style=\"text-align:right;\"> 105.299573 </td>\n",
              "   <td style=\"text-align:right;\"> 104.364745 </td>\n",
              "   <td style=\"text-align:right;\"> 107.368524 </td>\n",
              "   <td style=\"text-align:right;\"> 104.326411 </td>\n",
              "   <td style=\"text-align:right;\"> 0.00000 </td>\n",
              "   <td style=\"text-align:right;\"> 73.81057 </td>\n",
              "   <td style=\"text-align:right;\"> 106.752049 </td>\n",
              "   <td style=\"text-align:right;\"> 105.584090 </td>\n",
              "   <td style=\"text-align:right;\"> 107.944430 </td>\n",
              "   <td style=\"text-align:right;\"> 22.09072 </td>\n",
              "   <td style=\"text-align:right;\"> 14.69694 </td>\n",
              "   <td style=\"text-align:right;\"> 45.51923 </td>\n",
              "   <td style=\"text-align:right;\"> 88.02272 </td>\n",
              "   <td style=\"text-align:right;\"> 58.85576 </td>\n",
              "   <td style=\"text-align:right;\"> 108.018517 </td>\n",
              "   <td style=\"text-align:right;\"> 58.61740 </td>\n",
              "   <td style=\"text-align:right;\"> 107.405773 </td>\n",
              "  </tr>\n",
              "  <tr>\n",
              "   <td style=\"text-align:right;\"> 86.579443 </td>\n",
              "   <td style=\"text-align:right;\"> 87.223850 </td>\n",
              "   <td style=\"text-align:right;\"> 86.740994 </td>\n",
              "   <td style=\"text-align:right;\"> 89.039317 </td>\n",
              "   <td style=\"text-align:right;\"> 85.813752 </td>\n",
              "   <td style=\"text-align:right;\"> 73.81057 </td>\n",
              "   <td style=\"text-align:right;\"> 0.00000 </td>\n",
              "   <td style=\"text-align:right;\"> 88.249646 </td>\n",
              "   <td style=\"text-align:right;\"> 88.294960 </td>\n",
              "   <td style=\"text-align:right;\"> 87.384209 </td>\n",
              "   <td style=\"text-align:right;\"> 67.94115 </td>\n",
              "   <td style=\"text-align:right;\"> 75.36577 </td>\n",
              "   <td style=\"text-align:right;\"> 64.18723 </td>\n",
              "   <td style=\"text-align:right;\"> 38.83298 </td>\n",
              "   <td style=\"text-align:right;\"> 24.49490 </td>\n",
              "   <td style=\"text-align:right;\"> 89.866568 </td>\n",
              "   <td style=\"text-align:right;\"> 26.30589 </td>\n",
              "   <td style=\"text-align:right;\"> 89.933309 </td>\n",
              "  </tr>\n",
              "  <tr>\n",
              "   <td style=\"text-align:right;\"> 2.000000 </td>\n",
              "   <td style=\"text-align:right;\"> 8.246211 </td>\n",
              "   <td style=\"text-align:right;\"> 2.828427 </td>\n",
              "   <td style=\"text-align:right;\"> 2.000000 </td>\n",
              "   <td style=\"text-align:right;\"> 2.828427 </td>\n",
              "   <td style=\"text-align:right;\"> 106.75205 </td>\n",
              "   <td style=\"text-align:right;\"> 88.24965 </td>\n",
              "   <td style=\"text-align:right;\"> 0.000000 </td>\n",
              "   <td style=\"text-align:right;\"> 2.828427 </td>\n",
              "   <td style=\"text-align:right;\"> 2.828427 </td>\n",
              "   <td style=\"text-align:right;\"> 99.05554 </td>\n",
              "   <td style=\"text-align:right;\"> 108.86689 </td>\n",
              "   <td style=\"text-align:right;\"> 122.84950 </td>\n",
              "   <td style=\"text-align:right;\"> 114.29786 </td>\n",
              "   <td style=\"text-align:right;\"> 102.00000 </td>\n",
              "   <td style=\"text-align:right;\"> 4.000000 </td>\n",
              "   <td style=\"text-align:right;\"> 81.14185 </td>\n",
              "   <td style=\"text-align:right;\"> 2.000000 </td>\n",
              "  </tr>\n",
              "  <tr>\n",
              "   <td style=\"text-align:right;\"> 3.464102 </td>\n",
              "   <td style=\"text-align:right;\"> 10.392305 </td>\n",
              "   <td style=\"text-align:right;\"> 4.000000 </td>\n",
              "   <td style=\"text-align:right;\"> 2.000000 </td>\n",
              "   <td style=\"text-align:right;\"> 2.828427 </td>\n",
              "   <td style=\"text-align:right;\"> 105.58409 </td>\n",
              "   <td style=\"text-align:right;\"> 88.29496 </td>\n",
              "   <td style=\"text-align:right;\"> 2.828427 </td>\n",
              "   <td style=\"text-align:right;\"> 0.000000 </td>\n",
              "   <td style=\"text-align:right;\"> 4.898980 </td>\n",
              "   <td style=\"text-align:right;\"> 98.40732 </td>\n",
              "   <td style=\"text-align:right;\"> 108.01852 </td>\n",
              "   <td style=\"text-align:right;\"> 122.65398 </td>\n",
              "   <td style=\"text-align:right;\"> 114.99565 </td>\n",
              "   <td style=\"text-align:right;\"> 101.92154 </td>\n",
              "   <td style=\"text-align:right;\"> 2.828427 </td>\n",
              "   <td style=\"text-align:right;\"> 81.28961 </td>\n",
              "   <td style=\"text-align:right;\"> 3.464102 </td>\n",
              "  </tr>\n",
              "  <tr>\n",
              "   <td style=\"text-align:right;\"> 2.000000 </td>\n",
              "   <td style=\"text-align:right;\"> 9.165151 </td>\n",
              "   <td style=\"text-align:right;\"> 4.898980 </td>\n",
              "   <td style=\"text-align:right;\"> 3.464102 </td>\n",
              "   <td style=\"text-align:right;\"> 4.000000 </td>\n",
              "   <td style=\"text-align:right;\"> 107.94443 </td>\n",
              "   <td style=\"text-align:right;\"> 87.38421 </td>\n",
              "   <td style=\"text-align:right;\"> 2.828427 </td>\n",
              "   <td style=\"text-align:right;\"> 4.898980 </td>\n",
              "   <td style=\"text-align:right;\"> 0.000000 </td>\n",
              "   <td style=\"text-align:right;\"> 100.17984 </td>\n",
              "   <td style=\"text-align:right;\"> 110.07270 </td>\n",
              "   <td style=\"text-align:right;\"> 123.33694 </td>\n",
              "   <td style=\"text-align:right;\"> 113.49009 </td>\n",
              "   <td style=\"text-align:right;\"> 101.68579 </td>\n",
              "   <td style=\"text-align:right;\"> 4.898980 </td>\n",
              "   <td style=\"text-align:right;\"> 80.94443 </td>\n",
              "   <td style=\"text-align:right;\"> 4.472136 </td>\n",
              "  </tr>\n",
              "  <tr>\n",
              "   <td style=\"text-align:right;\"> 98.508883 </td>\n",
              "   <td style=\"text-align:right;\"> 96.041658 </td>\n",
              "   <td style=\"text-align:right;\"> 96.436508 </td>\n",
              "   <td style=\"text-align:right;\"> 100.039992 </td>\n",
              "   <td style=\"text-align:right;\"> 96.850400 </td>\n",
              "   <td style=\"text-align:right;\"> 22.09072 </td>\n",
              "   <td style=\"text-align:right;\"> 67.94115 </td>\n",
              "   <td style=\"text-align:right;\"> 99.055540 </td>\n",
              "   <td style=\"text-align:right;\"> 98.407317 </td>\n",
              "   <td style=\"text-align:right;\"> 100.179838 </td>\n",
              "   <td style=\"text-align:right;\"> 0.00000 </td>\n",
              "   <td style=\"text-align:right;\"> 12.32883 </td>\n",
              "   <td style=\"text-align:right;\"> 35.66511 </td>\n",
              "   <td style=\"text-align:right;\"> 76.13147 </td>\n",
              "   <td style=\"text-align:right;\"> 52.15362 </td>\n",
              "   <td style=\"text-align:right;\"> 101.054441 </td>\n",
              "   <td style=\"text-align:right;\"> 46.69047 </td>\n",
              "   <td style=\"text-align:right;\"> 99.639350 </td>\n",
              "  </tr>\n",
              "  <tr>\n",
              "   <td style=\"text-align:right;\"> 108.332820 </td>\n",
              "   <td style=\"text-align:right;\"> 106.320271 </td>\n",
              "   <td style=\"text-align:right;\"> 106.301458 </td>\n",
              "   <td style=\"text-align:right;\"> 109.726934 </td>\n",
              "   <td style=\"text-align:right;\"> 106.602064 </td>\n",
              "   <td style=\"text-align:right;\"> 14.69694 </td>\n",
              "   <td style=\"text-align:right;\"> 75.36577 </td>\n",
              "   <td style=\"text-align:right;\"> 108.866891 </td>\n",
              "   <td style=\"text-align:right;\"> 108.018517 </td>\n",
              "   <td style=\"text-align:right;\"> 110.072703 </td>\n",
              "   <td style=\"text-align:right;\"> 12.32883 </td>\n",
              "   <td style=\"text-align:right;\"> 0.00000 </td>\n",
              "   <td style=\"text-align:right;\"> 36.76955 </td>\n",
              "   <td style=\"text-align:right;\"> 83.54639 </td>\n",
              "   <td style=\"text-align:right;\"> 58.03447 </td>\n",
              "   <td style=\"text-align:right;\"> 110.616455 </td>\n",
              "   <td style=\"text-align:right;\"> 56.46238 </td>\n",
              "   <td style=\"text-align:right;\"> 109.434912 </td>\n",
              "  </tr>\n",
              "  <tr>\n",
              "   <td style=\"text-align:right;\"> 121.950810 </td>\n",
              "   <td style=\"text-align:right;\"> 119.431989 </td>\n",
              "   <td style=\"text-align:right;\"> 120.349491 </td>\n",
              "   <td style=\"text-align:right;\"> 124.000000 </td>\n",
              "   <td style=\"text-align:right;\"> 120.581922 </td>\n",
              "   <td style=\"text-align:right;\"> 45.51923 </td>\n",
              "   <td style=\"text-align:right;\"> 64.18723 </td>\n",
              "   <td style=\"text-align:right;\"> 122.849501 </td>\n",
              "   <td style=\"text-align:right;\"> 122.653985 </td>\n",
              "   <td style=\"text-align:right;\"> 123.336937 </td>\n",
              "   <td style=\"text-align:right;\"> 35.66511 </td>\n",
              "   <td style=\"text-align:right;\"> 36.76955 </td>\n",
              "   <td style=\"text-align:right;\"> 0.00000 </td>\n",
              "   <td style=\"text-align:right;\"> 56.39149 </td>\n",
              "   <td style=\"text-align:right;\"> 40.49691 </td>\n",
              "   <td style=\"text-align:right;\"> 125.171882 </td>\n",
              "   <td style=\"text-align:right;\"> 48.53864 </td>\n",
              "   <td style=\"text-align:right;\"> 123.773988 </td>\n",
              "  </tr>\n",
              "  <tr>\n",
              "   <td style=\"text-align:right;\"> 112.871608 </td>\n",
              "   <td style=\"text-align:right;\"> 110.941426 </td>\n",
              "   <td style=\"text-align:right;\"> 112.463327 </td>\n",
              "   <td style=\"text-align:right;\"> 115.568162 </td>\n",
              "   <td style=\"text-align:right;\"> 112.285351 </td>\n",
              "   <td style=\"text-align:right;\"> 88.02272 </td>\n",
              "   <td style=\"text-align:right;\"> 38.83298 </td>\n",
              "   <td style=\"text-align:right;\"> 114.297856 </td>\n",
              "   <td style=\"text-align:right;\"> 114.995652 </td>\n",
              "   <td style=\"text-align:right;\"> 113.490088 </td>\n",
              "   <td style=\"text-align:right;\"> 76.13147 </td>\n",
              "   <td style=\"text-align:right;\"> 83.54639 </td>\n",
              "   <td style=\"text-align:right;\"> 56.39149 </td>\n",
              "   <td style=\"text-align:right;\"> 0.00000 </td>\n",
              "   <td style=\"text-align:right;\"> 32.80244 </td>\n",
              "   <td style=\"text-align:right;\"> 116.858889 </td>\n",
              "   <td style=\"text-align:right;\"> 40.49691 </td>\n",
              "   <td style=\"text-align:right;\"> 115.741090 </td>\n",
              "  </tr>\n",
              "  <tr>\n",
              "   <td style=\"text-align:right;\"> 100.598211 </td>\n",
              "   <td style=\"text-align:right;\"> 99.959992 </td>\n",
              "   <td style=\"text-align:right;\"> 100.019998 </td>\n",
              "   <td style=\"text-align:right;\"> 102.956301 </td>\n",
              "   <td style=\"text-align:right;\"> 99.538937 </td>\n",
              "   <td style=\"text-align:right;\"> 58.85576 </td>\n",
              "   <td style=\"text-align:right;\"> 24.49490 </td>\n",
              "   <td style=\"text-align:right;\"> 102.000000 </td>\n",
              "   <td style=\"text-align:right;\"> 101.921538 </td>\n",
              "   <td style=\"text-align:right;\"> 101.685791 </td>\n",
              "   <td style=\"text-align:right;\"> 52.15362 </td>\n",
              "   <td style=\"text-align:right;\"> 58.03447 </td>\n",
              "   <td style=\"text-align:right;\"> 40.49691 </td>\n",
              "   <td style=\"text-align:right;\"> 32.80244 </td>\n",
              "   <td style=\"text-align:right;\"> 0.00000 </td>\n",
              "   <td style=\"text-align:right;\"> 103.942292 </td>\n",
              "   <td style=\"text-align:right;\"> 23.40940 </td>\n",
              "   <td style=\"text-align:right;\"> 103.421468 </td>\n",
              "  </tr>\n",
              "  <tr>\n",
              "   <td style=\"text-align:right;\"> 4.472136 </td>\n",
              "   <td style=\"text-align:right;\"> 12.165525 </td>\n",
              "   <td style=\"text-align:right;\"> 6.324555 </td>\n",
              "   <td style=\"text-align:right;\"> 2.000000 </td>\n",
              "   <td style=\"text-align:right;\"> 4.898980 </td>\n",
              "   <td style=\"text-align:right;\"> 108.01852 </td>\n",
              "   <td style=\"text-align:right;\"> 89.86657 </td>\n",
              "   <td style=\"text-align:right;\"> 4.000000 </td>\n",
              "   <td style=\"text-align:right;\"> 2.828427 </td>\n",
              "   <td style=\"text-align:right;\"> 4.898980 </td>\n",
              "   <td style=\"text-align:right;\"> 101.05444 </td>\n",
              "   <td style=\"text-align:right;\"> 110.61645 </td>\n",
              "   <td style=\"text-align:right;\"> 125.17188 </td>\n",
              "   <td style=\"text-align:right;\"> 116.85889 </td>\n",
              "   <td style=\"text-align:right;\"> 103.94229 </td>\n",
              "   <td style=\"text-align:right;\"> 0.000000 </td>\n",
              "   <td style=\"text-align:right;\"> 83.47455 </td>\n",
              "   <td style=\"text-align:right;\"> 4.472136 </td>\n",
              "  </tr>\n",
              "  <tr>\n",
              "   <td style=\"text-align:right;\"> 79.874902 </td>\n",
              "   <td style=\"text-align:right;\"> 78.255990 </td>\n",
              "   <td style=\"text-align:right;\"> 78.993671 </td>\n",
              "   <td style=\"text-align:right;\"> 82.292162 </td>\n",
              "   <td style=\"text-align:right;\"> 78.841613 </td>\n",
              "   <td style=\"text-align:right;\"> 58.61740 </td>\n",
              "   <td style=\"text-align:right;\"> 26.30589 </td>\n",
              "   <td style=\"text-align:right;\"> 81.141851 </td>\n",
              "   <td style=\"text-align:right;\"> 81.289606 </td>\n",
              "   <td style=\"text-align:right;\"> 80.944425 </td>\n",
              "   <td style=\"text-align:right;\"> 46.69047 </td>\n",
              "   <td style=\"text-align:right;\"> 56.46238 </td>\n",
              "   <td style=\"text-align:right;\"> 48.53864 </td>\n",
              "   <td style=\"text-align:right;\"> 40.49691 </td>\n",
              "   <td style=\"text-align:right;\"> 23.40940 </td>\n",
              "   <td style=\"text-align:right;\"> 83.474547 </td>\n",
              "   <td style=\"text-align:right;\"> 0.00000 </td>\n",
              "   <td style=\"text-align:right;\"> 82.437855 </td>\n",
              "  </tr>\n",
              "  <tr>\n",
              "   <td style=\"text-align:right;\"> 4.000000 </td>\n",
              "   <td style=\"text-align:right;\"> 8.000000 </td>\n",
              "   <td style=\"text-align:right;\"> 3.464102 </td>\n",
              "   <td style=\"text-align:right;\"> 2.828427 </td>\n",
              "   <td style=\"text-align:right;\"> 4.472136 </td>\n",
              "   <td style=\"text-align:right;\"> 107.40577 </td>\n",
              "   <td style=\"text-align:right;\"> 89.93331 </td>\n",
              "   <td style=\"text-align:right;\"> 2.000000 </td>\n",
              "   <td style=\"text-align:right;\"> 3.464102 </td>\n",
              "   <td style=\"text-align:right;\"> 4.472136 </td>\n",
              "   <td style=\"text-align:right;\"> 99.63935 </td>\n",
              "   <td style=\"text-align:right;\"> 109.43491 </td>\n",
              "   <td style=\"text-align:right;\"> 123.77399 </td>\n",
              "   <td style=\"text-align:right;\"> 115.74109 </td>\n",
              "   <td style=\"text-align:right;\"> 103.42147 </td>\n",
              "   <td style=\"text-align:right;\"> 4.472136 </td>\n",
              "   <td style=\"text-align:right;\"> 82.43786 </td>\n",
              "   <td style=\"text-align:right;\"> 0.000000 </td>\n",
              "  </tr>\n",
              "</tbody>\n",
              "</table>"
            ]
          },
          "metadata": {}
        }
      ]
    },
    {
      "cell_type": "markdown",
      "source": [
        " Elaboração da clusterização hierárquica"
      ],
      "metadata": {
        "id": "vBsLNcvfBq62"
      }
    },
    {
      "cell_type": "code",
      "source": [
        "cluster_hier <- agnes(x = matriz_D, method = \"single\")"
      ],
      "metadata": {
        "id": "rqY9Tw9bBsGk"
      },
      "execution_count": 21,
      "outputs": []
    },
    {
      "cell_type": "markdown",
      "source": [
        "Method é o tipo de encadeamento:\n",
        "  *   \"complete\": encadeamento completo (furthest neighbor ou complete linkage)\n",
        "*   \"single\": encadeamento único (nearest neighbor ou single linkage)\n",
        "*   \"average\": encadeamento médio (between groups ou average linkage)"
      ],
      "metadata": {
        "id": "c3tkB4J8BuTF"
      }
    },
    {
      "cell_type": "markdown",
      "source": [
        "Definição do esquema hierárquico de aglomeração"
      ],
      "metadata": {
        "id": "8cnsLhpiHoLn"
      }
    },
    {
      "cell_type": "code",
      "source": [
        "coeficientes <- sort(cluster_hier$height, decreasing = FALSE) \n",
        "coeficientes"
      ],
      "metadata": {
        "id": "NKn8GCOUHslY",
        "colab": {
          "base_uri": "https://localhost:8080/",
          "height": 52
        },
        "outputId": "06b88be2-51fb-47f9-8ec5-264dabe6b5ee"
      },
      "execution_count": 22,
      "outputs": [
        {
          "output_type": "display_data",
          "data": {
            "text/html": [
              "<style>\n",
              ".list-inline {list-style: none; margin:0; padding: 0}\n",
              ".list-inline>li {display: inline-block}\n",
              ".list-inline>li:not(:last-child)::after {content: \"\\00b7\"; padding: 0 .5ex}\n",
              "</style>\n",
              "<ol class=list-inline><li>2</li><li>2</li><li>2</li><li>2</li><li>2</li><li>2</li><li>2</li><li>2.82842712474619</li><li>6.6332495807108</li><li>12.328828005938</li><li>14.6969384566991</li><li>23.4093998214393</li><li>24.4948974278318</li><li>32.8024389337135</li><li>35.665109000254</li><li>40.4969134626332</li><li>78.2559901860554</li></ol>\n"
            ],
            "text/markdown": "1. 2\n2. 2\n3. 2\n4. 2\n5. 2\n6. 2\n7. 2\n8. 2.82842712474619\n9. 6.6332495807108\n10. 12.328828005938\n11. 14.6969384566991\n12. 23.4093998214393\n13. 24.4948974278318\n14. 32.8024389337135\n15. 35.665109000254\n16. 40.4969134626332\n17. 78.2559901860554\n\n\n",
            "text/latex": "\\begin{enumerate*}\n\\item 2\n\\item 2\n\\item 2\n\\item 2\n\\item 2\n\\item 2\n\\item 2\n\\item 2.82842712474619\n\\item 6.6332495807108\n\\item 12.328828005938\n\\item 14.6969384566991\n\\item 23.4093998214393\n\\item 24.4948974278318\n\\item 32.8024389337135\n\\item 35.665109000254\n\\item 40.4969134626332\n\\item 78.2559901860554\n\\end{enumerate*}\n",
            "text/plain": [
              " [1]  2.000000  2.000000  2.000000  2.000000  2.000000  2.000000  2.000000\n",
              " [8]  2.828427  6.633250 12.328828 14.696938 23.409400 24.494897 32.802439\n",
              "[15] 35.665109 40.496913 78.255990"
            ]
          },
          "metadata": {}
        }
      ]
    },
    {
      "cell_type": "markdown",
      "source": [
        "Tabela com o esquema de aglomeração. Interpretação do output:\n",
        "\n",
        "*   As linhas são os estágios de aglomeração\n",
        "*   Nas colunas Cluster1 e Cluster2, observa-se como ocorreu a junção\n",
        "*   Quando for número negativo, indica observação isolada\n",
        "*   Quando for número positivo, indica cluster formado anteriormente (estágio)\n",
        "*   Coeficientes: as distâncias para as combinações em cada estágio\n"
      ],
      "metadata": {
        "id": "ymSK7l0MIIqv"
      }
    },
    {
      "cell_type": "code",
      "source": [
        "esquema <- as.data.frame(cbind(cluster_hier$merge, coeficientes))\n",
        "names(esquema) <- c(\"Cluster1\", \"Cluster2\", \"Coeficientes\")\n",
        "\n",
        "display_html(HTML(esquema %>%\n",
        "  kable(row.names = T) %>%\n",
        "  kable_styling(bootstrap_options = \"striped\", \n",
        "                full_width = FALSE, \n",
        "                font_size = 10)))"
      ],
      "metadata": {
        "id": "cw_6LCYpIJ7l",
        "colab": {
          "base_uri": "https://localhost:8080/",
          "height": 314
        },
        "outputId": "64b3a4f7-6cb9-4ac1-c657-583867efc7e7"
      },
      "execution_count": 24,
      "outputs": [
        {
          "output_type": "display_data",
          "data": {
            "text/html": [
              "<table class=\"table table-striped\" style=\"font-size: 10px; width: auto !important; margin-left: auto; margin-right: auto;\">\n",
              " <thead>\n",
              "  <tr>\n",
              "   <th style=\"text-align:left;\">   </th>\n",
              "   <th style=\"text-align:right;\"> Cluster1 </th>\n",
              "   <th style=\"text-align:right;\"> Cluster2 </th>\n",
              "   <th style=\"text-align:right;\"> Coeficientes </th>\n",
              "  </tr>\n",
              " </thead>\n",
              "<tbody>\n",
              "  <tr>\n",
              "   <td style=\"text-align:left;\"> 1 </td>\n",
              "   <td style=\"text-align:right;\"> -8 </td>\n",
              "   <td style=\"text-align:right;\"> -18 </td>\n",
              "   <td style=\"text-align:right;\"> 2.000000 </td>\n",
              "  </tr>\n",
              "  <tr>\n",
              "   <td style=\"text-align:left;\"> 2 </td>\n",
              "   <td style=\"text-align:right;\"> -4 </td>\n",
              "   <td style=\"text-align:right;\"> -16 </td>\n",
              "   <td style=\"text-align:right;\"> 2.000000 </td>\n",
              "  </tr>\n",
              "  <tr>\n",
              "   <td style=\"text-align:left;\"> 3 </td>\n",
              "   <td style=\"text-align:right;\"> 2 </td>\n",
              "   <td style=\"text-align:right;\"> -9 </td>\n",
              "   <td style=\"text-align:right;\"> 2.000000 </td>\n",
              "  </tr>\n",
              "  <tr>\n",
              "   <td style=\"text-align:left;\"> 4 </td>\n",
              "   <td style=\"text-align:right;\"> 3 </td>\n",
              "   <td style=\"text-align:right;\"> 1 </td>\n",
              "   <td style=\"text-align:right;\"> 2.000000 </td>\n",
              "  </tr>\n",
              "  <tr>\n",
              "   <td style=\"text-align:left;\"> 5 </td>\n",
              "   <td style=\"text-align:right;\"> -1 </td>\n",
              "   <td style=\"text-align:right;\"> -10 </td>\n",
              "   <td style=\"text-align:right;\"> 2.000000 </td>\n",
              "  </tr>\n",
              "  <tr>\n",
              "   <td style=\"text-align:left;\"> 6 </td>\n",
              "   <td style=\"text-align:right;\"> 5 </td>\n",
              "   <td style=\"text-align:right;\"> -5 </td>\n",
              "   <td style=\"text-align:right;\"> 2.000000 </td>\n",
              "  </tr>\n",
              "  <tr>\n",
              "   <td style=\"text-align:left;\"> 7 </td>\n",
              "   <td style=\"text-align:right;\"> 6 </td>\n",
              "   <td style=\"text-align:right;\"> 4 </td>\n",
              "   <td style=\"text-align:right;\"> 2.000000 </td>\n",
              "  </tr>\n",
              "  <tr>\n",
              "   <td style=\"text-align:left;\"> 8 </td>\n",
              "   <td style=\"text-align:right;\"> 7 </td>\n",
              "   <td style=\"text-align:right;\"> -3 </td>\n",
              "   <td style=\"text-align:right;\"> 2.828427 </td>\n",
              "  </tr>\n",
              "  <tr>\n",
              "   <td style=\"text-align:left;\"> 9 </td>\n",
              "   <td style=\"text-align:right;\"> 8 </td>\n",
              "   <td style=\"text-align:right;\"> -2 </td>\n",
              "   <td style=\"text-align:right;\"> 6.633250 </td>\n",
              "  </tr>\n",
              "  <tr>\n",
              "   <td style=\"text-align:left;\"> 10 </td>\n",
              "   <td style=\"text-align:right;\"> -11 </td>\n",
              "   <td style=\"text-align:right;\"> -12 </td>\n",
              "   <td style=\"text-align:right;\"> 12.328828 </td>\n",
              "  </tr>\n",
              "  <tr>\n",
              "   <td style=\"text-align:left;\"> 11 </td>\n",
              "   <td style=\"text-align:right;\"> -6 </td>\n",
              "   <td style=\"text-align:right;\"> 10 </td>\n",
              "   <td style=\"text-align:right;\"> 14.696938 </td>\n",
              "  </tr>\n",
              "  <tr>\n",
              "   <td style=\"text-align:left;\"> 12 </td>\n",
              "   <td style=\"text-align:right;\"> -15 </td>\n",
              "   <td style=\"text-align:right;\"> -17 </td>\n",
              "   <td style=\"text-align:right;\"> 23.409400 </td>\n",
              "  </tr>\n",
              "  <tr>\n",
              "   <td style=\"text-align:left;\"> 13 </td>\n",
              "   <td style=\"text-align:right;\"> -7 </td>\n",
              "   <td style=\"text-align:right;\"> 12 </td>\n",
              "   <td style=\"text-align:right;\"> 24.494897 </td>\n",
              "  </tr>\n",
              "  <tr>\n",
              "   <td style=\"text-align:left;\"> 14 </td>\n",
              "   <td style=\"text-align:right;\"> 13 </td>\n",
              "   <td style=\"text-align:right;\"> -14 </td>\n",
              "   <td style=\"text-align:right;\"> 32.802439 </td>\n",
              "  </tr>\n",
              "  <tr>\n",
              "   <td style=\"text-align:left;\"> 15 </td>\n",
              "   <td style=\"text-align:right;\"> 11 </td>\n",
              "   <td style=\"text-align:right;\"> -13 </td>\n",
              "   <td style=\"text-align:right;\"> 35.665109 </td>\n",
              "  </tr>\n",
              "  <tr>\n",
              "   <td style=\"text-align:left;\"> 16 </td>\n",
              "   <td style=\"text-align:right;\"> 15 </td>\n",
              "   <td style=\"text-align:right;\"> 14 </td>\n",
              "   <td style=\"text-align:right;\"> 40.496913 </td>\n",
              "  </tr>\n",
              "  <tr>\n",
              "   <td style=\"text-align:left;\"> 17 </td>\n",
              "   <td style=\"text-align:right;\"> 9 </td>\n",
              "   <td style=\"text-align:right;\"> 16 </td>\n",
              "   <td style=\"text-align:right;\"> 78.255990 </td>\n",
              "  </tr>\n",
              "</tbody>\n",
              "</table>"
            ]
          },
          "metadata": {}
        }
      ]
    },
    {
      "cell_type": "markdown",
      "source": [
        "Construção do dendrograma"
      ],
      "metadata": {
        "id": "Pn-Oc5KpILsu"
      }
    },
    {
      "cell_type": "code",
      "source": [
        "options(repr.plot.width=15, repr.plot.height=10) #Configuração da largura e altura dos plots\n",
        "fviz_dend(x = cluster_hier, show_labels = T,main = \"\") +\n",
        "ggtitle(\"Dendrograma\") +\n",
        "ylim(-10,80) +\n",
        "theme(plot.title = element_text(family = \"Helvetica\",\n",
        "      face = \"bold\", size = (25)),\n",
        "      axis.text.x = element_text(size = 12),\n",
        "      axis.text.y = element_text(size = 12))"
      ],
      "metadata": {
        "colab": {
          "base_uri": "https://localhost:8080/",
          "height": 652
        },
        "id": "OT-JfifcIOPf",
        "outputId": "9327c294-a315-4a64-d15f-0c0a550d43ed"
      },
      "execution_count": 34,
      "outputs": [
        {
          "output_type": "stream",
          "name": "stderr",
          "text": [
            "Warning message:\n",
            "“`guides(<scale> = FALSE)` is deprecated. Please use `guides(<scale> = \"none\")` instead.”\n"
          ]
        },
        {
          "output_type": "display_data",
          "data": {
            "text/plain": [
              "plot without title"
            ],
            "image/png": "[encoded data removed]"
          },
          "metadata": {
            "image/png": {
              "width": 900,
              "height": 600
            }
          }
        }
      ]
    },
    {
      "cell_type": "markdown",
      "source": [
        "Dendrograma com visualização dos clusters\n",
        "\n",
        "Parametrizando 3 clusters "
      ],
      "metadata": {
        "id": "o9oV57fD2ysK"
      }
    },
    {
      "cell_type": "code",
      "source": [
        "fviz_dend(x = cluster_hier,\n",
        "          k = 3,\n",
        "          k_colors = c(\"deeppink4\", \"darkviolet\", \"deeppink\"),\n",
        "          color_labels_by_k = F,\n",
        "          rect = T,\n",
        "          rect_fill = T,\n",
        "          lwd = 1,\n",
        "          ggtheme = theme_bw()) +\n",
        "ggtitle(\"Dendrograma\") +\n",
        "  \n",
        "theme(plot.title = element_text(family = \"Helvetica\",\n",
        "      face = \"bold\", size = (25)),\n",
        "      axis.text.x = element_text(size = 12),\n",
        "      axis.text.y = element_text(size = 12))"
      ],
      "metadata": {
        "colab": {
          "base_uri": "https://localhost:8080/",
          "height": 652
        },
        "id": "kZMUqhSgS7cX",
        "outputId": "f337dbd2-6824-4bbd-df11-bacc789e547b"
      },
      "execution_count": 29,
      "outputs": [
        {
          "output_type": "stream",
          "name": "stderr",
          "text": [
            "Warning message:\n",
            "“`guides(<scale> = FALSE)` is deprecated. Please use `guides(<scale> = \"none\")` instead.”\n"
          ]
        },
        {
          "output_type": "display_data",
          "data": {
            "text/plain": [
              "plot without title"
            ],
            "image/png": "[encoded data removed]"
          },
          "metadata": {
            "image/png": {
              "width": 900,
              "height": 600
            }
          }
        }
      ]
    },
    {
      "cell_type": "markdown",
      "source": [
        "Criando variável categórica para indicação do cluster no banco de dados\n",
        "\n",
        " O argumento 'k' indica a quantidade de clusters"
      ],
      "metadata": {
        "id": "70zGJawE4xyE"
      }
    },
    {
      "cell_type": "code",
      "source": [
        "RegionalVarejista$cluster_H <- factor(cutree(tree = cluster_hier, k = 3))"
      ],
      "metadata": {
        "id": "BysrW5D540Lx"
      },
      "execution_count": 31,
      "outputs": []
    },
    {
      "cell_type": "markdown",
      "source": [
        "Visualização da base de dados com a alocação das observações nos clusters"
      ],
      "metadata": {
        "id": "qBnCZYEF43Ha"
      }
    },
    {
      "cell_type": "code",
      "source": [
        "display_html(HTML(RegionalVarejista %>%\n",
        "  select(regional, cluster_H) %>% \n",
        "  arrange(regional) %>% \n",
        "  kable() %>%\n",
        "  kable_styling(bootstrap_options = \"striped\", \n",
        "                full_width = FALSE,\n",
        "                font_size = 10)\n",
        "))"
      ],
      "metadata": {
        "colab": {
          "base_uri": "https://localhost:8080/",
          "height": 330
        },
        "id": "ZsxlX16u446B",
        "outputId": "81b73a37-c7db-4bb6-d96b-0cbd035a405a"
      },
      "execution_count": 33,
      "outputs": [
        {
          "output_type": "display_data",
          "data": {
            "text/html": [
              "<table class=\"table table-striped\" style=\"font-size: 10px; width: auto !important; margin-left: auto; margin-right: auto;\">\n",
              " <thead>\n",
              "  <tr>\n",
              "   <th style=\"text-align:left;\"> regional </th>\n",
              "   <th style=\"text-align:left;\"> cluster_H </th>\n",
              "  </tr>\n",
              " </thead>\n",
              "<tbody>\n",
              "  <tr>\n",
              "   <td style=\"text-align:left;\"> Regional 1 </td>\n",
              "   <td style=\"text-align:left;\"> 3 </td>\n",
              "  </tr>\n",
              "  <tr>\n",
              "   <td style=\"text-align:left;\"> Regional 1 </td>\n",
              "   <td style=\"text-align:left;\"> 3 </td>\n",
              "  </tr>\n",
              "  <tr>\n",
              "   <td style=\"text-align:left;\"> Regional 1 </td>\n",
              "   <td style=\"text-align:left;\"> 3 </td>\n",
              "  </tr>\n",
              "  <tr>\n",
              "   <td style=\"text-align:left;\"> Regional 1 </td>\n",
              "   <td style=\"text-align:left;\"> 3 </td>\n",
              "  </tr>\n",
              "  <tr>\n",
              "   <td style=\"text-align:left;\"> Regional 2 </td>\n",
              "   <td style=\"text-align:left;\"> 2 </td>\n",
              "  </tr>\n",
              "  <tr>\n",
              "   <td style=\"text-align:left;\"> Regional 2 </td>\n",
              "   <td style=\"text-align:left;\"> 2 </td>\n",
              "  </tr>\n",
              "  <tr>\n",
              "   <td style=\"text-align:left;\"> Regional 2 </td>\n",
              "   <td style=\"text-align:left;\"> 2 </td>\n",
              "  </tr>\n",
              "  <tr>\n",
              "   <td style=\"text-align:left;\"> Regional 2 </td>\n",
              "   <td style=\"text-align:left;\"> 2 </td>\n",
              "  </tr>\n",
              "  <tr>\n",
              "   <td style=\"text-align:left;\"> Regional 3 </td>\n",
              "   <td style=\"text-align:left;\"> 1 </td>\n",
              "  </tr>\n",
              "  <tr>\n",
              "   <td style=\"text-align:left;\"> Regional 3 </td>\n",
              "   <td style=\"text-align:left;\"> 1 </td>\n",
              "  </tr>\n",
              "  <tr>\n",
              "   <td style=\"text-align:left;\"> Regional 3 </td>\n",
              "   <td style=\"text-align:left;\"> 1 </td>\n",
              "  </tr>\n",
              "  <tr>\n",
              "   <td style=\"text-align:left;\"> Regional 3 </td>\n",
              "   <td style=\"text-align:left;\"> 1 </td>\n",
              "  </tr>\n",
              "  <tr>\n",
              "   <td style=\"text-align:left;\"> Regional 3 </td>\n",
              "   <td style=\"text-align:left;\"> 1 </td>\n",
              "  </tr>\n",
              "  <tr>\n",
              "   <td style=\"text-align:left;\"> Regional 3 </td>\n",
              "   <td style=\"text-align:left;\"> 1 </td>\n",
              "  </tr>\n",
              "  <tr>\n",
              "   <td style=\"text-align:left;\"> Regional 3 </td>\n",
              "   <td style=\"text-align:left;\"> 1 </td>\n",
              "  </tr>\n",
              "  <tr>\n",
              "   <td style=\"text-align:left;\"> Regional 3 </td>\n",
              "   <td style=\"text-align:left;\"> 1 </td>\n",
              "  </tr>\n",
              "  <tr>\n",
              "   <td style=\"text-align:left;\"> Regional 3 </td>\n",
              "   <td style=\"text-align:left;\"> 1 </td>\n",
              "  </tr>\n",
              "  <tr>\n",
              "   <td style=\"text-align:left;\"> Regional 3 </td>\n",
              "   <td style=\"text-align:left;\"> 1 </td>\n",
              "  </tr>\n",
              "</tbody>\n",
              "</table>"
            ]
          },
          "metadata": {}
        }
      ]
    },
    {
      "cell_type": "markdown",
      "source": [
        "## Estatísticas descritivas dos clusters por variável"
      ],
      "metadata": {
        "id": "lORL2L8bFLfn"
      }
    },
    {
      "cell_type": "markdown",
      "source": [
        "Estatísticas descritivas da variável 'atendimento'"
      ],
      "metadata": {
        "id": "HZyCRLkqFO4s"
      }
    },
    {
      "cell_type": "code",
      "source": [
        "group_by(RegionalVarejista, cluster_H) %>%\n",
        "  summarise(\n",
        "    mean = mean(atendimento, na.rm = TRUE),\n",
        "    sd = sd(atendimento, na.rm = TRUE),\n",
        "    min = min(atendimento, na.rm = TRUE),\n",
        "    max = max(atendimento, na.rm = TRUE))"
      ],
      "metadata": {
        "colab": {
          "base_uri": "https://localhost:8080/",
          "height": 192
        },
        "id": "pRORZOqcFNTF",
        "outputId": "b29cc797-dbf5-42f6-b18a-382faa816298"
      },
      "execution_count": 35,
      "outputs": [
        {
          "output_type": "display_data",
          "data": {
            "text/html": [
              "<table class=\"dataframe\">\n",
              "<caption>A tibble: 3 × 5</caption>\n",
              "<thead>\n",
              "\t<tr><th scope=col>cluster_H</th><th scope=col>mean</th><th scope=col>sd</th><th scope=col>min</th><th scope=col>max</th></tr>\n",
              "\t<tr><th scope=col>&lt;fct&gt;</th><th scope=col>&lt;dbl&gt;</th><th scope=col>&lt;dbl&gt;</th><th scope=col>&lt;dbl&gt;</th><th scope=col>&lt;dbl&gt;</th></tr>\n",
              "</thead>\n",
              "<tbody>\n",
              "\t<tr><td>1</td><td> 6.2</td><td> 3.190263</td><td> 2</td><td>14</td></tr>\n",
              "\t<tr><td>2</td><td>55.0</td><td>15.705625</td><td>38</td><td>76</td></tr>\n",
              "\t<tr><td>3</td><td>56.0</td><td>15.916449</td><td>40</td><td>78</td></tr>\n",
              "</tbody>\n",
              "</table>\n"
            ],
            "text/markdown": "\nA tibble: 3 × 5\n\n| cluster_H &lt;fct&gt; | mean &lt;dbl&gt; | sd &lt;dbl&gt; | min &lt;dbl&gt; | max &lt;dbl&gt; |\n|---|---|---|---|---|\n| 1 |  6.2 |  3.190263 |  2 | 14 |\n| 2 | 55.0 | 15.705625 | 38 | 76 |\n| 3 | 56.0 | 15.916449 | 40 | 78 |\n\n",
            "text/latex": "A tibble: 3 × 5\n\\begin{tabular}{lllll}\n cluster\\_H & mean & sd & min & max\\\\\n <fct> & <dbl> & <dbl> & <dbl> & <dbl>\\\\\n\\hline\n\t 1 &  6.2 &  3.190263 &  2 & 14\\\\\n\t 2 & 55.0 & 15.705625 & 38 & 76\\\\\n\t 3 & 56.0 & 15.916449 & 40 & 78\\\\\n\\end{tabular}\n",
            "text/plain": [
              "  cluster_H mean sd        min max\n",
              "1 1          6.2  3.190263  2  14 \n",
              "2 2         55.0 15.705625 38  76 \n",
              "3 3         56.0 15.916449 40  78 "
            ]
          },
          "metadata": {}
        }
      ]
    },
    {
      "cell_type": "markdown",
      "source": [
        "Estatísticas descritivas da variável 'sortimento'"
      ],
      "metadata": {
        "id": "8mJTUQfzFT3f"
      }
    },
    {
      "cell_type": "code",
      "source": [
        "group_by(RegionalVarejista, cluster_H) %>%\n",
        "  summarise(\n",
        "    mean = mean(sortimento, na.rm = TRUE),\n",
        "    sd = sd(sortimento, na.rm = TRUE),\n",
        "    min = min(sortimento, na.rm = TRUE),\n",
        "    max = max(sortimento, na.rm = TRUE))"
      ],
      "metadata": {
        "colab": {
          "base_uri": "https://localhost:8080/",
          "height": 192
        },
        "id": "q0pz3ZI5FVkP",
        "outputId": "869719f8-6a73-4b68-976a-783c888be2c6"
      },
      "execution_count": 36,
      "outputs": [
        {
          "output_type": "display_data",
          "data": {
            "text/html": [
              "<table class=\"dataframe\">\n",
              "<caption>A tibble: 3 × 5</caption>\n",
              "<thead>\n",
              "\t<tr><th scope=col>cluster_H</th><th scope=col>mean</th><th scope=col>sd</th><th scope=col>min</th><th scope=col>max</th></tr>\n",
              "\t<tr><th scope=col>&lt;fct&gt;</th><th scope=col>&lt;dbl&gt;</th><th scope=col>&lt;dbl&gt;</th><th scope=col>&lt;dbl&gt;</th><th scope=col>&lt;dbl&gt;</th></tr>\n",
              "</thead>\n",
              "<tbody>\n",
              "\t<tr><td>1</td><td> 4.2</td><td> 1.47573</td><td> 2</td><td> 6</td></tr>\n",
              "\t<tr><td>2</td><td>41.0</td><td>12.90994</td><td>32</td><td>60</td></tr>\n",
              "\t<tr><td>3</td><td>74.0</td><td>12.75408</td><td>56</td><td>86</td></tr>\n",
              "</tbody>\n",
              "</table>\n"
            ],
            "text/markdown": "\nA tibble: 3 × 5\n\n| cluster_H &lt;fct&gt; | mean &lt;dbl&gt; | sd &lt;dbl&gt; | min &lt;dbl&gt; | max &lt;dbl&gt; |\n|---|---|---|---|---|\n| 1 |  4.2 |  1.47573 |  2 |  6 |\n| 2 | 41.0 | 12.90994 | 32 | 60 |\n| 3 | 74.0 | 12.75408 | 56 | 86 |\n\n",
            "text/latex": "A tibble: 3 × 5\n\\begin{tabular}{lllll}\n cluster\\_H & mean & sd & min & max\\\\\n <fct> & <dbl> & <dbl> & <dbl> & <dbl>\\\\\n\\hline\n\t 1 &  4.2 &  1.47573 &  2 &  6\\\\\n\t 2 & 41.0 & 12.90994 & 32 & 60\\\\\n\t 3 & 74.0 & 12.75408 & 56 & 86\\\\\n\\end{tabular}\n",
            "text/plain": [
              "  cluster_H mean sd       min max\n",
              "1 1          4.2  1.47573  2   6 \n",
              "2 2         41.0 12.90994 32  60 \n",
              "3 3         74.0 12.75408 56  86 "
            ]
          },
          "metadata": {}
        }
      ]
    },
    {
      "cell_type": "markdown",
      "source": [
        "Estatísticas descritivas da variável 'organização'"
      ],
      "metadata": {
        "id": "NhYMFQXgFbQW"
      }
    },
    {
      "cell_type": "code",
      "source": [
        "group_by(RegionalVarejista, cluster_H) %>%\n",
        "  summarise(\n",
        "    mean = mean(organização, na.rm = TRUE),\n",
        "    sd = sd(organização, na.rm = TRUE),\n",
        "    min = min(organização, na.rm = TRUE),\n",
        "    max = max(organização, na.rm = TRUE))"
      ],
      "metadata": {
        "colab": {
          "base_uri": "https://localhost:8080/",
          "height": 192
        },
        "id": "k6mXOT4gFdep",
        "outputId": "8314590e-c43b-45c9-d6b1-0c6442b0f815"
      },
      "execution_count": 37,
      "outputs": [
        {
          "output_type": "display_data",
          "data": {
            "text/html": [
              "<table class=\"dataframe\">\n",
              "<caption>A tibble: 3 × 5</caption>\n",
              "<thead>\n",
              "\t<tr><th scope=col>cluster_H</th><th scope=col>mean</th><th scope=col>sd</th><th scope=col>min</th><th scope=col>max</th></tr>\n",
              "\t<tr><th scope=col>&lt;fct&gt;</th><th scope=col>&lt;dbl&gt;</th><th scope=col>&lt;dbl&gt;</th><th scope=col>&lt;dbl&gt;</th><th scope=col>&lt;dbl&gt;</th></tr>\n",
              "</thead>\n",
              "<tbody>\n",
              "\t<tr><td>1</td><td> 4.4</td><td>1.264911</td><td> 2</td><td>  6</td></tr>\n",
              "\t<tr><td>2</td><td>93.0</td><td>7.023769</td><td>86</td><td>100</td></tr>\n",
              "\t<tr><td>3</td><td>45.0</td><td>9.451631</td><td>38</td><td> 58</td></tr>\n",
              "</tbody>\n",
              "</table>\n"
            ],
            "text/markdown": "\nA tibble: 3 × 5\n\n| cluster_H &lt;fct&gt; | mean &lt;dbl&gt; | sd &lt;dbl&gt; | min &lt;dbl&gt; | max &lt;dbl&gt; |\n|---|---|---|---|---|\n| 1 |  4.4 | 1.264911 |  2 |   6 |\n| 2 | 93.0 | 7.023769 | 86 | 100 |\n| 3 | 45.0 | 9.451631 | 38 |  58 |\n\n",
            "text/latex": "A tibble: 3 × 5\n\\begin{tabular}{lllll}\n cluster\\_H & mean & sd & min & max\\\\\n <fct> & <dbl> & <dbl> & <dbl> & <dbl>\\\\\n\\hline\n\t 1 &  4.4 & 1.264911 &  2 &   6\\\\\n\t 2 & 93.0 & 7.023769 & 86 & 100\\\\\n\t 3 & 45.0 & 9.451631 & 38 &  58\\\\\n\\end{tabular}\n",
            "text/plain": [
              "  cluster_H mean sd       min max\n",
              "1 1          4.4 1.264911  2    6\n",
              "2 2         93.0 7.023769 86  100\n",
              "3 3         45.0 9.451631 38   58"
            ]
          },
          "metadata": {}
        }
      ]
    },
    {
      "cell_type": "markdown",
      "source": [
        "## Análise de variância de um fator (ANOVA). Interpretação do output:\n",
        "\n",
        "\n",
        "*   Mean Sq do cluster_H: indica a variabilidade entre grupos\n",
        "*   Mean Sq dos Residuals: indica a variabilidade dentro dos grupos\n",
        "*   F value: estatística de teste (Sum Sq do cluster_H / Sum Sq dos Residuals)\n",
        "*   Pr(>F): p-valor da estatística \n",
        "*   p-valor < 0.05: pelo menos um cluster apresenta média estatisticamente diferente dos demais\n",
        "\n",
        "A variável mais discriminante dos grupos contém maior estatística F (e significativa)"
      ],
      "metadata": {
        "id": "ZYChJYYkFfqR"
      }
    },
    {
      "cell_type": "code",
      "source": [
        "\n",
        "# ANOVA da variável 'atendimento'\n",
        "summary(anova_atendimento <- aov(formula = atendimento ~ cluster_H,\n",
        "                                 data = RegionalVarejista))"
      ],
      "metadata": {
        "colab": {
          "base_uri": "https://localhost:8080/",
          "height": 104
        },
        "id": "2I_neCDnFzwi",
        "outputId": "360d5b12-8878-42d0-9b63-6a099e2039e5"
      },
      "execution_count": 38,
      "outputs": [
        {
          "output_type": "display_data",
          "data": {
            "text/plain": [
              "            Df Sum Sq Mean Sq F value   Pr(>F)    \n",
              "cluster_H    2  10804    5402   50.91 2.06e-07 ***\n",
              "Residuals   15   1592     106                     \n",
              "---\n",
              "Signif. codes:  0 ‘***’ 0.001 ‘**’ 0.01 ‘*’ 0.05 ‘.’ 0.1 ‘ ’ 1"
            ]
          },
          "metadata": {}
        }
      ]
    },
    {
      "cell_type": "code",
      "source": [
        "# ANOVA da variável 'sortimento'\n",
        "summary(anova_sortimento <- aov(formula = sortimento ~ cluster_H,\n",
        "                                data = RegionalVarejista))"
      ],
      "metadata": {
        "colab": {
          "base_uri": "https://localhost:8080/",
          "height": 104
        },
        "id": "weqRlvgXFlmZ",
        "outputId": "74a5de84-e0d0-44d4-d693-63451a893f58"
      },
      "execution_count": 39,
      "outputs": [
        {
          "output_type": "display_data",
          "data": {
            "text/plain": [
              "            Df Sum Sq Mean Sq F value   Pr(>F)    \n",
              "cluster_H    2  14804    7402   110.2 1.08e-09 ***\n",
              "Residuals   15   1008      67                     \n",
              "---\n",
              "Signif. codes:  0 ‘***’ 0.001 ‘**’ 0.01 ‘*’ 0.05 ‘.’ 0.1 ‘ ’ 1"
            ]
          },
          "metadata": {}
        }
      ]
    },
    {
      "cell_type": "code",
      "source": [
        "# ANOVA da variável 'organização'\n",
        "summary(anova_organiza <- aov(formula = organização ~ cluster_H,\n",
        "                              data = RegionalVarejista))"
      ],
      "metadata": {
        "colab": {
          "base_uri": "https://localhost:8080/",
          "height": 104
        },
        "id": "3-nqZFdtF5wv",
        "outputId": "8b677a3c-b25f-4d4e-c436-85e6de6123a9"
      },
      "execution_count": 40,
      "outputs": [
        {
          "output_type": "display_data",
          "data": {
            "text/plain": [
              "            Df Sum Sq Mean Sq F value  Pr(>F)    \n",
              "cluster_H    2  23155   11578   403.5 9.1e-14 ***\n",
              "Residuals   15    430      29                    \n",
              "---\n",
              "Signif. codes:  0 ‘***’ 0.001 ‘**’ 0.01 ‘*’ 0.05 ‘.’ 0.1 ‘ ’ 1"
            ]
          },
          "metadata": {}
        }
      ]
    },
    {
      "cell_type": "markdown",
      "source": [
        "# Vamos realizar uma análise de robustez do resultado anterior\n",
        " Vamos alterar a medida de distância e o método de encadeamento\n"
      ],
      "metadata": {
        "id": "ABpc75_PF9ju"
      }
    },
    {
      "cell_type": "markdown",
      "source": [
        "Elaboração da matriz de distâncias com a distância de 'Manhattan'"
      ],
      "metadata": {
        "id": "e5gkeUdRGEJ_"
      }
    },
    {
      "cell_type": "code",
      "source": [
        "matriz_DM <- RegionalVarejista %>% \n",
        "  select(atendimento, sortimento, organização) %>% \n",
        "  dist(method = \"manhattan\")\n"
      ],
      "metadata": {
        "id": "ySBk9dohF__G"
      },
      "execution_count": 41,
      "outputs": []
    },
    {
      "cell_type": "markdown",
      "source": [
        " Clusterização hierárquica com método 'complete'"
      ],
      "metadata": {
        "id": "LmoSQiQ5GGg1"
      }
    },
    {
      "cell_type": "code",
      "source": [
        "cluster_hier_man <- agnes(x = matriz_DM, method = \"complete\")"
      ],
      "metadata": {
        "id": "pJwBjMCqGJBF"
      },
      "execution_count": 42,
      "outputs": []
    },
    {
      "cell_type": "markdown",
      "source": [
        "cluster_hier_man <- agnes(x = matriz_DM, method = \"complete\")"
      ],
      "metadata": {
        "id": "Kq9sHaXXGMw-"
      }
    },
    {
      "cell_type": "code",
      "source": [
        "fviz_dend(x = cluster_hier_man, show_labels = T,main = \"\") +\n",
        "ggtitle(\"Dendrograma\") +\n",
        "ylim(-10,300) +\n",
        "theme(plot.title = element_text(family = \"Helvetica\",\n",
        "      face = \"bold\", size = (25)),\n",
        "      axis.text.x = element_text(size = 12),\n",
        "      axis.text.y = element_text(size = 12))"
      ],
      "metadata": {
        "colab": {
          "base_uri": "https://localhost:8080/",
          "height": 652
        },
        "id": "JDw1-KaqGOS8",
        "outputId": "bf7f6a32-8b91-46eb-b387-e851d6eb318c"
      },
      "execution_count": 46,
      "outputs": [
        {
          "output_type": "stream",
          "name": "stderr",
          "text": [
            "Warning message:\n",
            "“`guides(<scale> = FALSE)` is deprecated. Please use `guides(<scale> = \"none\")` instead.”\n"
          ]
        },
        {
          "output_type": "display_data",
          "data": {
            "text/plain": [
              "plot without title"
            ],
            "image/png": "[encoded data removed]"
          },
          "metadata": {
            "image/png": {
              "width": 900,
              "height": 600
            }
          }
        }
      ]
    },
    {
      "cell_type": "markdown",
      "source": [
        "De fato, o resultado também aponta para 3 clusters\n",
        "\n",
        "Definindo 3 clusters para comparar com regionais"
      ],
      "metadata": {
        "id": "Vxnp4tFYHhQJ"
      }
    },
    {
      "cell_type": "code",
      "source": [
        "fviz_dend(x = cluster_hier_man,\n",
        "          k = 3,\n",
        "          k_colors = c(\"deeppink4\", \"darkviolet\", \"deeppink\"),\n",
        "          color_labels_by_k = F,\n",
        "          rect = T,\n",
        "          rect_fill = T,\n",
        "          lwd = 1,\n",
        "          ggtheme = theme_bw()) +\n",
        "ggtitle(\"Dendrograma\") +\n",
        "  \n",
        "theme(plot.title = element_text(family = \"Helvetica\",\n",
        "      face = \"bold\", size = (25)),\n",
        "      axis.text.x = element_text(size = 12),\n",
        "      axis.text.y = element_text(size = 12))"
      ],
      "metadata": {
        "colab": {
          "base_uri": "https://localhost:8080/",
          "height": 652
        },
        "id": "xagWVY2vHoNp",
        "outputId": "96e5763e-fc91-45fd-eb7a-0de1b351a376"
      },
      "execution_count": 47,
      "outputs": [
        {
          "output_type": "stream",
          "name": "stderr",
          "text": [
            "Warning message:\n",
            "“`guides(<scale> = FALSE)` is deprecated. Please use `guides(<scale> = \"none\")` instead.”\n"
          ]
        },
        {
          "output_type": "display_data",
          "data": {
            "text/plain": [
              "plot without title"
            ],
            "image/png": "[encoded data removed]"
          },
          "metadata": {
            "image/png": {
              "width": 900,
              "height": 600
            }
          }
        }
      ]
    },
    {
      "cell_type": "markdown",
      "source": [
        " Adicionando a variável ao banco de dados"
      ],
      "metadata": {
        "id": "BNk44cfaIpkl"
      }
    },
    {
      "cell_type": "code",
      "source": [
        "RegionalVarejista$cluster_H_man <- factor(cutree(tree = cluster_hier_man, k = 3))\n",
        "display_html(HTML(RegionalVarejista %>%\n",
        "  select(regional, cluster_H, cluster_H_man) %>% \n",
        "  arrange(regional) %>% \n",
        "  kable() %>%\n",
        "  kable_styling(bootstrap_options = \"striped\", \n",
        "                full_width = FALSE,\n",
        "                font_size = 10)\n",
        "))"
      ],
      "metadata": {
        "colab": {
          "base_uri": "https://localhost:8080/",
          "height": 330
        },
        "id": "n6YQmchUIp8V",
        "outputId": "87e47363-32d7-4114-9d60-29dd65c1708c"
      },
      "execution_count": 50,
      "outputs": [
        {
          "output_type": "display_data",
          "data": {
            "text/html": [
              "<table class=\"table table-striped\" style=\"font-size: 10px; width: auto !important; margin-left: auto; margin-right: auto;\">\n",
              " <thead>\n",
              "  <tr>\n",
              "   <th style=\"text-align:left;\"> regional </th>\n",
              "   <th style=\"text-align:left;\"> cluster_H </th>\n",
              "   <th style=\"text-align:left;\"> cluster_H_man </th>\n",
              "  </tr>\n",
              " </thead>\n",
              "<tbody>\n",
              "  <tr>\n",
              "   <td style=\"text-align:left;\"> Regional 1 </td>\n",
              "   <td style=\"text-align:left;\"> 3 </td>\n",
              "   <td style=\"text-align:left;\"> 3 </td>\n",
              "  </tr>\n",
              "  <tr>\n",
              "   <td style=\"text-align:left;\"> Regional 1 </td>\n",
              "   <td style=\"text-align:left;\"> 3 </td>\n",
              "   <td style=\"text-align:left;\"> 3 </td>\n",
              "  </tr>\n",
              "  <tr>\n",
              "   <td style=\"text-align:left;\"> Regional 1 </td>\n",
              "   <td style=\"text-align:left;\"> 3 </td>\n",
              "   <td style=\"text-align:left;\"> 3 </td>\n",
              "  </tr>\n",
              "  <tr>\n",
              "   <td style=\"text-align:left;\"> Regional 1 </td>\n",
              "   <td style=\"text-align:left;\"> 3 </td>\n",
              "   <td style=\"text-align:left;\"> 3 </td>\n",
              "  </tr>\n",
              "  <tr>\n",
              "   <td style=\"text-align:left;\"> Regional 2 </td>\n",
              "   <td style=\"text-align:left;\"> 2 </td>\n",
              "   <td style=\"text-align:left;\"> 2 </td>\n",
              "  </tr>\n",
              "  <tr>\n",
              "   <td style=\"text-align:left;\"> Regional 2 </td>\n",
              "   <td style=\"text-align:left;\"> 2 </td>\n",
              "   <td style=\"text-align:left;\"> 2 </td>\n",
              "  </tr>\n",
              "  <tr>\n",
              "   <td style=\"text-align:left;\"> Regional 2 </td>\n",
              "   <td style=\"text-align:left;\"> 2 </td>\n",
              "   <td style=\"text-align:left;\"> 2 </td>\n",
              "  </tr>\n",
              "  <tr>\n",
              "   <td style=\"text-align:left;\"> Regional 2 </td>\n",
              "   <td style=\"text-align:left;\"> 2 </td>\n",
              "   <td style=\"text-align:left;\"> 2 </td>\n",
              "  </tr>\n",
              "  <tr>\n",
              "   <td style=\"text-align:left;\"> Regional 3 </td>\n",
              "   <td style=\"text-align:left;\"> 1 </td>\n",
              "   <td style=\"text-align:left;\"> 1 </td>\n",
              "  </tr>\n",
              "  <tr>\n",
              "   <td style=\"text-align:left;\"> Regional 3 </td>\n",
              "   <td style=\"text-align:left;\"> 1 </td>\n",
              "   <td style=\"text-align:left;\"> 1 </td>\n",
              "  </tr>\n",
              "  <tr>\n",
              "   <td style=\"text-align:left;\"> Regional 3 </td>\n",
              "   <td style=\"text-align:left;\"> 1 </td>\n",
              "   <td style=\"text-align:left;\"> 1 </td>\n",
              "  </tr>\n",
              "  <tr>\n",
              "   <td style=\"text-align:left;\"> Regional 3 </td>\n",
              "   <td style=\"text-align:left;\"> 1 </td>\n",
              "   <td style=\"text-align:left;\"> 1 </td>\n",
              "  </tr>\n",
              "  <tr>\n",
              "   <td style=\"text-align:left;\"> Regional 3 </td>\n",
              "   <td style=\"text-align:left;\"> 1 </td>\n",
              "   <td style=\"text-align:left;\"> 1 </td>\n",
              "  </tr>\n",
              "  <tr>\n",
              "   <td style=\"text-align:left;\"> Regional 3 </td>\n",
              "   <td style=\"text-align:left;\"> 1 </td>\n",
              "   <td style=\"text-align:left;\"> 1 </td>\n",
              "  </tr>\n",
              "  <tr>\n",
              "   <td style=\"text-align:left;\"> Regional 3 </td>\n",
              "   <td style=\"text-align:left;\"> 1 </td>\n",
              "   <td style=\"text-align:left;\"> 1 </td>\n",
              "  </tr>\n",
              "  <tr>\n",
              "   <td style=\"text-align:left;\"> Regional 3 </td>\n",
              "   <td style=\"text-align:left;\"> 1 </td>\n",
              "   <td style=\"text-align:left;\"> 1 </td>\n",
              "  </tr>\n",
              "  <tr>\n",
              "   <td style=\"text-align:left;\"> Regional 3 </td>\n",
              "   <td style=\"text-align:left;\"> 1 </td>\n",
              "   <td style=\"text-align:left;\"> 1 </td>\n",
              "  </tr>\n",
              "  <tr>\n",
              "   <td style=\"text-align:left;\"> Regional 3 </td>\n",
              "   <td style=\"text-align:left;\"> 1 </td>\n",
              "   <td style=\"text-align:left;\"> 1 </td>\n",
              "  </tr>\n",
              "</tbody>\n",
              "</table>"
            ]
          },
          "metadata": {}
        }
      ]
    },
    {
      "cell_type": "markdown",
      "source": [
        "##Esquema de aglomeração não hierárquico K-MEANS"
      ],
      "metadata": {
        "id": "CrSaZ0l6I65F"
      }
    },
    {
      "cell_type": "markdown",
      "source": [
        "Elaboração da clusterização não hieráquica k-means"
      ],
      "metadata": {
        "id": "gUy2oY-8I_V1"
      }
    },
    {
      "cell_type": "code",
      "source": [
        "cluster_kmeans <- kmeans(RegionalVarejista[,3:5],\n",
        "                         centers = 3)"
      ],
      "metadata": {
        "id": "ZVjr994GJAnO"
      },
      "execution_count": 55,
      "outputs": []
    },
    {
      "cell_type": "markdown",
      "source": [
        "Criando variável categórica para indicação do cluster no banco de dados"
      ],
      "metadata": {
        "id": "e2K-HbWsLGuU"
      }
    },
    {
      "cell_type": "code",
      "source": [
        "RegionalVarejista$cluster_K <- factor(cluster_kmeans$cluster)"
      ],
      "metadata": {
        "id": "p6aigIdnLHER"
      },
      "execution_count": 60,
      "outputs": []
    },
    {
      "cell_type": "markdown",
      "source": [
        " Criando variável categórica para indicação do cluster no banco de dados"
      ],
      "metadata": {
        "id": "2iaj4XN7JHIC"
      }
    },
    {
      "cell_type": "code",
      "source": [
        "RegionalVarejista$cluster_K <- factor(cluster_kmeans$cluster)"
      ],
      "metadata": {
        "id": "I9WeZ3rGJCbu"
      },
      "execution_count": 61,
      "outputs": []
    },
    {
      "cell_type": "markdown",
      "source": [
        "Método de Elbow para identificação do número ótimo de clusters"
      ],
      "metadata": {
        "id": "saPhGE7ZJEVS"
      }
    },
    {
      "cell_type": "code",
      "source": [
        "fviz_nbclust(RegionalVarejista[,3:5], kmeans, method = \"wss\", k.max = 10)"
      ],
      "metadata": {
        "colab": {
          "base_uri": "https://localhost:8080/",
          "height": 617
        },
        "id": "mXr285SfJK5O",
        "outputId": "461ea7b7-5f61-4502-868d-8c40d93afef4"
      },
      "execution_count": 62,
      "outputs": [
        {
          "output_type": "display_data",
          "data": {
            "text/plain": [
              "plot without title"
            ],
            "image/png": "[encoded data removed]"
          },
          "metadata": {
            "image/png": {
              "width": 900,
              "height": 600
            }
          }
        }
      ]
    },
    {
      "cell_type": "markdown",
      "source": [
        "\n",
        " Visualização da base de dados"
      ],
      "metadata": {
        "id": "ZIv-WzOPJUIm"
      }
    },
    {
      "cell_type": "code",
      "source": [
        "RegionalVarejista$cluster_H_man <- factor(cutree(tree = cluster_hier_man, k = 3))\n",
        "display_html(HTML(RegionalVarejista %>%\n",
        "  select(regional, cluster_H, cluster_H_man,cluster_K) %>% \n",
        "  arrange(regional) %>% \n",
        "  kable() %>%\n",
        "  kable_styling(bootstrap_options = \"striped\", \n",
        "                full_width = FALSE,\n",
        "                font_size = 10)\n",
        "))"
      ],
      "metadata": {
        "colab": {
          "base_uri": "https://localhost:8080/",
          "height": 330
        },
        "id": "8WkqIlsTJa6m",
        "outputId": "8c06daa6-b1c3-43b0-f78f-c89c9337f285"
      },
      "execution_count": 63,
      "outputs": [
        {
          "output_type": "display_data",
          "data": {
            "text/html": [
              "<table class=\"table table-striped\" style=\"font-size: 10px; width: auto !important; margin-left: auto; margin-right: auto;\">\n",
              " <thead>\n",
              "  <tr>\n",
              "   <th style=\"text-align:left;\"> regional </th>\n",
              "   <th style=\"text-align:left;\"> cluster_H </th>\n",
              "   <th style=\"text-align:left;\"> cluster_H_man </th>\n",
              "   <th style=\"text-align:left;\"> cluster_K </th>\n",
              "  </tr>\n",
              " </thead>\n",
              "<tbody>\n",
              "  <tr>\n",
              "   <td style=\"text-align:left;\"> Regional 1 </td>\n",
              "   <td style=\"text-align:left;\"> 3 </td>\n",
              "   <td style=\"text-align:left;\"> 3 </td>\n",
              "   <td style=\"text-align:left;\"> 2 </td>\n",
              "  </tr>\n",
              "  <tr>\n",
              "   <td style=\"text-align:left;\"> Regional 1 </td>\n",
              "   <td style=\"text-align:left;\"> 3 </td>\n",
              "   <td style=\"text-align:left;\"> 3 </td>\n",
              "   <td style=\"text-align:left;\"> 2 </td>\n",
              "  </tr>\n",
              "  <tr>\n",
              "   <td style=\"text-align:left;\"> Regional 1 </td>\n",
              "   <td style=\"text-align:left;\"> 3 </td>\n",
              "   <td style=\"text-align:left;\"> 3 </td>\n",
              "   <td style=\"text-align:left;\"> 2 </td>\n",
              "  </tr>\n",
              "  <tr>\n",
              "   <td style=\"text-align:left;\"> Regional 1 </td>\n",
              "   <td style=\"text-align:left;\"> 3 </td>\n",
              "   <td style=\"text-align:left;\"> 3 </td>\n",
              "   <td style=\"text-align:left;\"> 2 </td>\n",
              "  </tr>\n",
              "  <tr>\n",
              "   <td style=\"text-align:left;\"> Regional 2 </td>\n",
              "   <td style=\"text-align:left;\"> 2 </td>\n",
              "   <td style=\"text-align:left;\"> 2 </td>\n",
              "   <td style=\"text-align:left;\"> 1 </td>\n",
              "  </tr>\n",
              "  <tr>\n",
              "   <td style=\"text-align:left;\"> Regional 2 </td>\n",
              "   <td style=\"text-align:left;\"> 2 </td>\n",
              "   <td style=\"text-align:left;\"> 2 </td>\n",
              "   <td style=\"text-align:left;\"> 1 </td>\n",
              "  </tr>\n",
              "  <tr>\n",
              "   <td style=\"text-align:left;\"> Regional 2 </td>\n",
              "   <td style=\"text-align:left;\"> 2 </td>\n",
              "   <td style=\"text-align:left;\"> 2 </td>\n",
              "   <td style=\"text-align:left;\"> 1 </td>\n",
              "  </tr>\n",
              "  <tr>\n",
              "   <td style=\"text-align:left;\"> Regional 2 </td>\n",
              "   <td style=\"text-align:left;\"> 2 </td>\n",
              "   <td style=\"text-align:left;\"> 2 </td>\n",
              "   <td style=\"text-align:left;\"> 1 </td>\n",
              "  </tr>\n",
              "  <tr>\n",
              "   <td style=\"text-align:left;\"> Regional 3 </td>\n",
              "   <td style=\"text-align:left;\"> 1 </td>\n",
              "   <td style=\"text-align:left;\"> 1 </td>\n",
              "   <td style=\"text-align:left;\"> 3 </td>\n",
              "  </tr>\n",
              "  <tr>\n",
              "   <td style=\"text-align:left;\"> Regional 3 </td>\n",
              "   <td style=\"text-align:left;\"> 1 </td>\n",
              "   <td style=\"text-align:left;\"> 1 </td>\n",
              "   <td style=\"text-align:left;\"> 3 </td>\n",
              "  </tr>\n",
              "  <tr>\n",
              "   <td style=\"text-align:left;\"> Regional 3 </td>\n",
              "   <td style=\"text-align:left;\"> 1 </td>\n",
              "   <td style=\"text-align:left;\"> 1 </td>\n",
              "   <td style=\"text-align:left;\"> 3 </td>\n",
              "  </tr>\n",
              "  <tr>\n",
              "   <td style=\"text-align:left;\"> Regional 3 </td>\n",
              "   <td style=\"text-align:left;\"> 1 </td>\n",
              "   <td style=\"text-align:left;\"> 1 </td>\n",
              "   <td style=\"text-align:left;\"> 3 </td>\n",
              "  </tr>\n",
              "  <tr>\n",
              "   <td style=\"text-align:left;\"> Regional 3 </td>\n",
              "   <td style=\"text-align:left;\"> 1 </td>\n",
              "   <td style=\"text-align:left;\"> 1 </td>\n",
              "   <td style=\"text-align:left;\"> 3 </td>\n",
              "  </tr>\n",
              "  <tr>\n",
              "   <td style=\"text-align:left;\"> Regional 3 </td>\n",
              "   <td style=\"text-align:left;\"> 1 </td>\n",
              "   <td style=\"text-align:left;\"> 1 </td>\n",
              "   <td style=\"text-align:left;\"> 3 </td>\n",
              "  </tr>\n",
              "  <tr>\n",
              "   <td style=\"text-align:left;\"> Regional 3 </td>\n",
              "   <td style=\"text-align:left;\"> 1 </td>\n",
              "   <td style=\"text-align:left;\"> 1 </td>\n",
              "   <td style=\"text-align:left;\"> 3 </td>\n",
              "  </tr>\n",
              "  <tr>\n",
              "   <td style=\"text-align:left;\"> Regional 3 </td>\n",
              "   <td style=\"text-align:left;\"> 1 </td>\n",
              "   <td style=\"text-align:left;\"> 1 </td>\n",
              "   <td style=\"text-align:left;\"> 3 </td>\n",
              "  </tr>\n",
              "  <tr>\n",
              "   <td style=\"text-align:left;\"> Regional 3 </td>\n",
              "   <td style=\"text-align:left;\"> 1 </td>\n",
              "   <td style=\"text-align:left;\"> 1 </td>\n",
              "   <td style=\"text-align:left;\"> 3 </td>\n",
              "  </tr>\n",
              "  <tr>\n",
              "   <td style=\"text-align:left;\"> Regional 3 </td>\n",
              "   <td style=\"text-align:left;\"> 1 </td>\n",
              "   <td style=\"text-align:left;\"> 1 </td>\n",
              "   <td style=\"text-align:left;\"> 3 </td>\n",
              "  </tr>\n",
              "</tbody>\n",
              "</table>"
            ]
          },
          "metadata": {}
        }
      ]
    },
    {
      "cell_type": "markdown",
      "source": [
        "Análise de variância de um fator (ANOVA)"
      ],
      "metadata": {
        "id": "sZlJaXPWLMXd"
      }
    },
    {
      "cell_type": "code",
      "source": [
        "# ANOVA da variável 'atendimento'\n",
        "summary(anova_atendimento <- aov(formula = atendimento ~ cluster_K,\n",
        "                                 data = RegionalVarejista))"
      ],
      "metadata": {
        "colab": {
          "base_uri": "https://localhost:8080/",
          "height": 104
        },
        "id": "ZfWMUi7ZLObV",
        "outputId": "8b1fd39c-8c61-4ea5-baf8-c4006a06e8a8"
      },
      "execution_count": 64,
      "outputs": [
        {
          "output_type": "display_data",
          "data": {
            "text/plain": [
              "            Df Sum Sq Mean Sq F value   Pr(>F)    \n",
              "cluster_K    2  10804    5402   50.91 2.06e-07 ***\n",
              "Residuals   15   1592     106                     \n",
              "---\n",
              "Signif. codes:  0 ‘***’ 0.001 ‘**’ 0.01 ‘*’ 0.05 ‘.’ 0.1 ‘ ’ 1"
            ]
          },
          "metadata": {}
        }
      ]
    },
    {
      "cell_type": "code",
      "source": [
        "# ANOVA da variável 'sortimento'\n",
        "summary(anova_sortimento <- aov(formula = sortimento ~ cluster_K,\n",
        "                                data = RegionalVarejista))"
      ],
      "metadata": {
        "colab": {
          "base_uri": "https://localhost:8080/",
          "height": 104
        },
        "id": "x1Y2wNA-LQTt",
        "outputId": "9b8a851c-fbbd-4d9b-c790-5832f9ea113e"
      },
      "execution_count": 65,
      "outputs": [
        {
          "output_type": "display_data",
          "data": {
            "text/plain": [
              "            Df Sum Sq Mean Sq F value   Pr(>F)    \n",
              "cluster_K    2  14804    7402   110.2 1.08e-09 ***\n",
              "Residuals   15   1008      67                     \n",
              "---\n",
              "Signif. codes:  0 ‘***’ 0.001 ‘**’ 0.01 ‘*’ 0.05 ‘.’ 0.1 ‘ ’ 1"
            ]
          },
          "metadata": {}
        }
      ]
    },
    {
      "cell_type": "code",
      "source": [
        "# ANOVA da variável 'organização'\n",
        "summary(anova_organiza <- aov(formula = organização ~ cluster_K,\n",
        "                              data = RegionalVarejista))\n"
      ],
      "metadata": {
        "colab": {
          "base_uri": "https://localhost:8080/",
          "height": 104
        },
        "id": "WOLenzoTLRv8",
        "outputId": "e91e8dd8-b7ff-409a-99d2-d8ccc12c5e1f"
      },
      "execution_count": 66,
      "outputs": [
        {
          "output_type": "display_data",
          "data": {
            "text/plain": [
              "            Df Sum Sq Mean Sq F value  Pr(>F)    \n",
              "cluster_K    2  23155   11578   403.5 9.1e-14 ***\n",
              "Residuals   15    430      29                    \n",
              "---\n",
              "Signif. codes:  0 ‘***’ 0.001 ‘**’ 0.01 ‘*’ 0.05 ‘.’ 0.1 ‘ ’ 1"
            ]
          },
          "metadata": {}
        }
      ]
    }
  ],
  "metadata": {
    "colab": {
      "provenance": [],
      "authorship_tag": "ABX9TyPWJ7wzKxJTxGm3kM48fe8s",
      "include_colab_link": true
    },
    "kernelspec": {
      "display_name": "R",
      "name": "ir"
    },
    "language_info": {
      "name": "R"
    }
  },
  "nbformat": 4,
  "nbformat_minor": 0
}